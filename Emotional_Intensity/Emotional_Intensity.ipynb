{
  "nbformat": 4,
  "nbformat_minor": 0,
  "metadata": {
    "colab": {
      "name": "Emotional_Intensity.ipynb",
      "provenance": []
    },
    "kernelspec": {
      "name": "python3",
      "display_name": "Python 3"
    },
    "language_info": {
      "name": "python"
    }
  },
  "cells": [
    {
      "cell_type": "markdown",
      "metadata": {
        "id": "Tfq-QjhUn1Md"
      },
      "source": [
        "# Non_depressive data collections from public databases"
      ]
    },
    {
      "cell_type": "markdown",
      "metadata": {
        "id": "cUrVb8yFn-xz"
      },
      "source": [
        "Here we try to get some neutral as well as emotional data from the competition (SemEval-2018 Task 1: Affect in Tweets (AIT-2018)) (https://competitions.codalab.org/competitions/17751#learn_the_details)\n",
        "\n",
        "There are various subtasks and datasets. We decided to use the one with annotated Emotional Intensity, which is of Gold standard. This will allow us to be more specific about the type and range of emotions to include in our dataset, and more confident of the depth of its emotional content since it has been professionally annotated.\n",
        "\n",
        "This notebook shows our analytical process in making the decision for inclusion. We try to find distinguishable patterns for each category in order to draw generalisaton based on their intensity score."
      ]
    },
    {
      "cell_type": "markdown",
      "metadata": {
        "id": "gBjN8nBprV8e"
      },
      "source": [
        "## Loading datasets"
      ]
    },
    {
      "cell_type": "code",
      "metadata": {
        "colab": {
          "base_uri": "https://localhost:8080/"
        },
        "id": "-p7GqDk5nrF6",
        "outputId": "921b4b7e-ed0e-457b-b484-efb1eb6ee2eb"
      },
      "source": [
        "from google.colab import drive\n",
        "drive.mount('/content/drive')"
      ],
      "execution_count": null,
      "outputs": [
        {
          "output_type": "stream",
          "name": "stdout",
          "text": [
            "Mounted at /content/drive\n"
          ]
        }
      ]
    },
    {
      "cell_type": "code",
      "metadata": {
        "id": "h228yssKrnCc"
      },
      "source": [
        "import sys\n",
        "sys.path.append('/content/drive/MyDrive/NLP/Depression_Detection/Data_Gathering_public_databases')"
      ],
      "execution_count": null,
      "outputs": []
    },
    {
      "cell_type": "code",
      "metadata": {
        "id": "8Ifnw-TJsZs-"
      },
      "source": [
        "## Loading required libraries\n",
        "\n",
        "import pandas as pd\n",
        "from matplotlib import pyplot as plt\n",
        "from statsmodels.graphics.gofplots import qqplot\n",
        "import numpy as np\n",
        "%matplotlib inline"
      ],
      "execution_count": null,
      "outputs": []
    },
    {
      "cell_type": "code",
      "metadata": {
        "id": "JPibF46xsj0J"
      },
      "source": [
        "## Loading datasets\n",
        "df_anger = pd.read_csv(\"/content/drive/MyDrive/NLP/Depression_Detection/Data_Gathering_public_databases/2018-EI-reg-En-anger-test-gold.txt\", delimiter=\"\\t\")\n",
        "df_fear = pd.read_csv(\"/content/drive/MyDrive/NLP/Depression_Detection/Data_Gathering_public_databases/2018-EI-reg-En-fear-test-gold.txt\", delimiter=\"\\t\")\n",
        "df_joy = pd.read_csv(\"/content/drive/MyDrive/NLP/Depression_Detection/Data_Gathering_public_databases/2018-EI-reg-En-joy-test-gold.txt\", delimiter=\"\\t\")\n",
        "df_sadness = pd.read_csv(\"/content/drive/MyDrive/NLP/Depression_Detection/Data_Gathering_public_databases/2018-EI-reg-En-sadness-test-gold.txt\", delimiter=\"\\t\")"
      ],
      "execution_count": null,
      "outputs": []
    },
    {
      "cell_type": "code",
      "metadata": {
        "colab": {
          "base_uri": "https://localhost:8080/"
        },
        "id": "O4iJ1Xbnsub3",
        "outputId": "a052990d-9681-445c-94ee-84f88421eb18"
      },
      "source": [
        "pd.set_option('display.max_colwidth', -1)"
      ],
      "execution_count": null,
      "outputs": [
        {
          "output_type": "stream",
          "name": "stderr",
          "text": [
            "/usr/local/lib/python3.7/dist-packages/ipykernel_launcher.py:1: FutureWarning: Passing a negative integer is deprecated in version 1.0 and will not be supported in future version. Instead, use None to not limit the column width.\n",
            "  \"\"\"Entry point for launching an IPython kernel.\n"
          ]
        }
      ]
    },
    {
      "cell_type": "code",
      "metadata": {
        "colab": {
          "base_uri": "https://localhost:8080/",
          "height": 202
        },
        "id": "2EyDfXv9tQEY",
        "outputId": "a7c9cf70-83ff-44a0-b028-ef74fe7f24fd"
      },
      "source": [
        "df_anger.head()"
      ],
      "execution_count": null,
      "outputs": [
        {
          "output_type": "execute_result",
          "data": {
            "text/html": [
              "<div>\n",
              "<style scoped>\n",
              "    .dataframe tbody tr th:only-of-type {\n",
              "        vertical-align: middle;\n",
              "    }\n",
              "\n",
              "    .dataframe tbody tr th {\n",
              "        vertical-align: top;\n",
              "    }\n",
              "\n",
              "    .dataframe thead th {\n",
              "        text-align: right;\n",
              "    }\n",
              "</style>\n",
              "<table border=\"1\" class=\"dataframe\">\n",
              "  <thead>\n",
              "    <tr style=\"text-align: right;\">\n",
              "      <th></th>\n",
              "      <th>ID</th>\n",
              "      <th>Tweet</th>\n",
              "      <th>Affect Dimension</th>\n",
              "      <th>Intensity Score</th>\n",
              "    </tr>\n",
              "  </thead>\n",
              "  <tbody>\n",
              "    <tr>\n",
              "      <th>0</th>\n",
              "      <td>2018-En-02328</td>\n",
              "      <td>@PageShhh1 I know you mean well but I'm offended. Prick.</td>\n",
              "      <td>anger</td>\n",
              "      <td>0.734</td>\n",
              "    </tr>\n",
              "    <tr>\n",
              "      <th>1</th>\n",
              "      <td>2018-En-02617</td>\n",
              "      <td>Let go of resentment, it will hold you back, do not worry about what could of been, what is to come is what matters.</td>\n",
              "      <td>anger</td>\n",
              "      <td>0.422</td>\n",
              "    </tr>\n",
              "    <tr>\n",
              "      <th>2</th>\n",
              "      <td>2018-En-01021</td>\n",
              "      <td>No, I'm not 'depressed because of the weather,' I'm depressed because I have #depression #sicknotweak</td>\n",
              "      <td>anger</td>\n",
              "      <td>0.663</td>\n",
              "    </tr>\n",
              "    <tr>\n",
              "      <th>3</th>\n",
              "      <td>2018-En-03737</td>\n",
              "      <td>#AmarnathTerrorAttack  Muslims are killing everywhere Syria Iraq Palestine Everyday beyond They say that Islam is terrorism shame on you</td>\n",
              "      <td>anger</td>\n",
              "      <td>0.703</td>\n",
              "    </tr>\n",
              "    <tr>\n",
              "      <th>4</th>\n",
              "      <td>2018-En-03407</td>\n",
              "      <td>Prepare to suffer the sting of Ghost Rider's power! Prepare to know the true meaning of hell!</td>\n",
              "      <td>anger</td>\n",
              "      <td>0.719</td>\n",
              "    </tr>\n",
              "  </tbody>\n",
              "</table>\n",
              "</div>"
            ],
            "text/plain": [
              "              ID  ... Intensity Score\n",
              "0  2018-En-02328  ...  0.734         \n",
              "1  2018-En-02617  ...  0.422         \n",
              "2  2018-En-01021  ...  0.663         \n",
              "3  2018-En-03737  ...  0.703         \n",
              "4  2018-En-03407  ...  0.719         \n",
              "\n",
              "[5 rows x 4 columns]"
            ]
          },
          "metadata": {},
          "execution_count": 13
        }
      ]
    },
    {
      "cell_type": "code",
      "metadata": {
        "colab": {
          "base_uri": "https://localhost:8080/"
        },
        "id": "7s-tVNB1uslG",
        "outputId": "29c40b1c-c167-4a54-b74c-dcd2cb016d64"
      },
      "source": [
        "df_anger.shape"
      ],
      "execution_count": null,
      "outputs": [
        {
          "output_type": "execute_result",
          "data": {
            "text/plain": [
              "(17939, 4)"
            ]
          },
          "metadata": {},
          "execution_count": 14
        }
      ]
    },
    {
      "cell_type": "code",
      "metadata": {
        "colab": {
          "base_uri": "https://localhost:8080/",
          "height": 302
        },
        "id": "HbzbLU6Itg65",
        "outputId": "7e368a24-00c7-4c4b-ee0a-53a105e4a95c"
      },
      "source": [
        "df_fear.head()"
      ],
      "execution_count": null,
      "outputs": [
        {
          "output_type": "execute_result",
          "data": {
            "text/html": [
              "<div>\n",
              "<style scoped>\n",
              "    .dataframe tbody tr th:only-of-type {\n",
              "        vertical-align: middle;\n",
              "    }\n",
              "\n",
              "    .dataframe tbody tr th {\n",
              "        vertical-align: top;\n",
              "    }\n",
              "\n",
              "    .dataframe thead th {\n",
              "        text-align: right;\n",
              "    }\n",
              "</style>\n",
              "<table border=\"1\" class=\"dataframe\">\n",
              "  <thead>\n",
              "    <tr style=\"text-align: right;\">\n",
              "      <th></th>\n",
              "      <th>ID</th>\n",
              "      <th>Tweet</th>\n",
              "      <th>Affect Dimension</th>\n",
              "      <th>Intensity Score</th>\n",
              "    </tr>\n",
              "  </thead>\n",
              "  <tbody>\n",
              "    <tr>\n",
              "      <th>0</th>\n",
              "      <td>2018-En-02626</td>\n",
              "      <td>@EdmundPAdamus That's the horrific irony; while we 'cleanse' society of moral value, a new religion will rise up &amp;amp; fill the gap - unhindered</td>\n",
              "      <td>fear</td>\n",
              "      <td>0.596</td>\n",
              "    </tr>\n",
              "    <tr>\n",
              "      <th>1</th>\n",
              "      <td>2018-En-00320</td>\n",
              "      <td>@TuckerCarlson @krauthammer @FoxNews They always need the drama and a fight to feel adaquate. Sad power is so insecure!!!</td>\n",
              "      <td>fear</td>\n",
              "      <td>0.533</td>\n",
              "    </tr>\n",
              "    <tr>\n",
              "      <th>2</th>\n",
              "      <td>2018-En-03973</td>\n",
              "      <td>@executivegoth I tried a free Alpha trial to watch #dread and I'm sold. Worth the subscription alone. You all are incredible!</td>\n",
              "      <td>fear</td>\n",
              "      <td>0.179</td>\n",
              "    </tr>\n",
              "    <tr>\n",
              "      <th>3</th>\n",
              "      <td>2018-En-02615</td>\n",
              "      <td>@anya_sisi Off to jail with lots of other like minded muslims, with his koran, prayer mat, halal #islam = #terrorism</td>\n",
              "      <td>fear</td>\n",
              "      <td>0.640</td>\n",
              "    </tr>\n",
              "    <tr>\n",
              "      <th>4</th>\n",
              "      <td>2018-En-03312</td>\n",
              "      <td>My boss said to another girl who is leaving 'i hope your new job is shit.' How pathetic. Hence why people are leaving in droves.</td>\n",
              "      <td>fear</td>\n",
              "      <td>0.533</td>\n",
              "    </tr>\n",
              "  </tbody>\n",
              "</table>\n",
              "</div>"
            ],
            "text/plain": [
              "              ID  ... Intensity Score\n",
              "0  2018-En-02626  ...  0.596         \n",
              "1  2018-En-00320  ...  0.533         \n",
              "2  2018-En-03973  ...  0.179         \n",
              "3  2018-En-02615  ...  0.640         \n",
              "4  2018-En-03312  ...  0.533         \n",
              "\n",
              "[5 rows x 4 columns]"
            ]
          },
          "metadata": {},
          "execution_count": 8
        }
      ]
    },
    {
      "cell_type": "code",
      "metadata": {
        "colab": {
          "base_uri": "https://localhost:8080/"
        },
        "id": "8HUsQVfkuvBc",
        "outputId": "7f30ef80-5ee9-4907-82a2-3b4d6e52a21d"
      },
      "source": [
        "df_fear.shape"
      ],
      "execution_count": null,
      "outputs": [
        {
          "output_type": "execute_result",
          "data": {
            "text/plain": [
              "(17923, 4)"
            ]
          },
          "metadata": {},
          "execution_count": 15
        }
      ]
    },
    {
      "cell_type": "code",
      "metadata": {
        "colab": {
          "base_uri": "https://localhost:8080/",
          "height": 202
        },
        "id": "T2R_is-WtkTg",
        "outputId": "8a5e5801-68b8-4a73-b095-62a1608aa0aa"
      },
      "source": [
        "df_joy.head()"
      ],
      "execution_count": null,
      "outputs": [
        {
          "output_type": "execute_result",
          "data": {
            "text/html": [
              "<div>\n",
              "<style scoped>\n",
              "    .dataframe tbody tr th:only-of-type {\n",
              "        vertical-align: middle;\n",
              "    }\n",
              "\n",
              "    .dataframe tbody tr th {\n",
              "        vertical-align: top;\n",
              "    }\n",
              "\n",
              "    .dataframe thead th {\n",
              "        text-align: right;\n",
              "    }\n",
              "</style>\n",
              "<table border=\"1\" class=\"dataframe\">\n",
              "  <thead>\n",
              "    <tr style=\"text-align: right;\">\n",
              "      <th></th>\n",
              "      <th>ID</th>\n",
              "      <th>Tweet</th>\n",
              "      <th>Affect Dimension</th>\n",
              "      <th>Intensity Score</th>\n",
              "    </tr>\n",
              "  </thead>\n",
              "  <tbody>\n",
              "    <tr>\n",
              "      <th>0</th>\n",
              "      <td>2018-En-00290</td>\n",
              "      <td>People are truly #amazing. #inspiring day</td>\n",
              "      <td>joy</td>\n",
              "      <td>0.712</td>\n",
              "    </tr>\n",
              "    <tr>\n",
              "      <th>1</th>\n",
              "      <td>2018-En-03093</td>\n",
              "      <td>What are some good #funny #entertaining #interesting accounts I should follow ? My twitter is dry</td>\n",
              "      <td>joy</td>\n",
              "      <td>0.339</td>\n",
              "    </tr>\n",
              "    <tr>\n",
              "      <th>2</th>\n",
              "      <td>2018-En-00588</td>\n",
              "      <td>@NoahWebHouse A review of my book faulted me for spending so much time on Webster's introductory front matter. But I had to, #brilliant!</td>\n",
              "      <td>joy</td>\n",
              "      <td>0.533</td>\n",
              "    </tr>\n",
              "    <tr>\n",
              "      <th>3</th>\n",
              "      <td>2018-En-01532</td>\n",
              "      <td>#good to learning #wisdom &amp;lt;&amp;lt; reform (v): make in order to improve something &amp;gt;&amp;gt;</td>\n",
              "      <td>joy</td>\n",
              "      <td>0.281</td>\n",
              "    </tr>\n",
              "    <tr>\n",
              "      <th>4</th>\n",
              "      <td>2018-En-03258</td>\n",
              "      <td>Really excited to see our team this year, and especially moving in the next 2-3 years when his guys start playing significant minutes.</td>\n",
              "      <td>joy</td>\n",
              "      <td>0.797</td>\n",
              "    </tr>\n",
              "  </tbody>\n",
              "</table>\n",
              "</div>"
            ],
            "text/plain": [
              "              ID  ... Intensity Score\n",
              "0  2018-En-00290  ...  0.712         \n",
              "1  2018-En-03093  ...  0.339         \n",
              "2  2018-En-00588  ...  0.533         \n",
              "3  2018-En-01532  ...  0.281         \n",
              "4  2018-En-03258  ...  0.797         \n",
              "\n",
              "[5 rows x 4 columns]"
            ]
          },
          "metadata": {},
          "execution_count": 9
        }
      ]
    },
    {
      "cell_type": "code",
      "metadata": {
        "colab": {
          "base_uri": "https://localhost:8080/"
        },
        "id": "z1IiNgrFuySe",
        "outputId": "3212443f-971f-406b-859c-b1ecf37f89de"
      },
      "source": [
        "df_joy.shape"
      ],
      "execution_count": null,
      "outputs": [
        {
          "output_type": "execute_result",
          "data": {
            "text/plain": [
              "(18042, 4)"
            ]
          },
          "metadata": {},
          "execution_count": 16
        }
      ]
    },
    {
      "cell_type": "code",
      "metadata": {
        "colab": {
          "base_uri": "https://localhost:8080/",
          "height": 202
        },
        "id": "yadDmrestnL-",
        "outputId": "cab22e06-a81c-4f6f-b6f5-98f6439740f0"
      },
      "source": [
        "df_sadness.head()"
      ],
      "execution_count": null,
      "outputs": [
        {
          "output_type": "execute_result",
          "data": {
            "text/html": [
              "<div>\n",
              "<style scoped>\n",
              "    .dataframe tbody tr th:only-of-type {\n",
              "        vertical-align: middle;\n",
              "    }\n",
              "\n",
              "    .dataframe tbody tr th {\n",
              "        vertical-align: top;\n",
              "    }\n",
              "\n",
              "    .dataframe thead th {\n",
              "        text-align: right;\n",
              "    }\n",
              "</style>\n",
              "<table border=\"1\" class=\"dataframe\">\n",
              "  <thead>\n",
              "    <tr style=\"text-align: right;\">\n",
              "      <th></th>\n",
              "      <th>ID</th>\n",
              "      <th>Tweet</th>\n",
              "      <th>Affect Dimension</th>\n",
              "      <th>Intensity Score</th>\n",
              "    </tr>\n",
              "  </thead>\n",
              "  <tbody>\n",
              "    <tr>\n",
              "      <th>0</th>\n",
              "      <td>2018-En-03239</td>\n",
              "      <td>@TerraJole is a bully.  plain and simple.</td>\n",
              "      <td>sadness</td>\n",
              "      <td>0.550</td>\n",
              "    </tr>\n",
              "    <tr>\n",
              "      <th>1</th>\n",
              "      <td>2018-En-02839</td>\n",
              "      <td>@LondonEconomic Sometimes our judiciary just leaves you breathless and speechless.</td>\n",
              "      <td>sadness</td>\n",
              "      <td>0.521</td>\n",
              "    </tr>\n",
              "    <tr>\n",
              "      <th>2</th>\n",
              "      <td>2018-En-01035</td>\n",
              "      <td>#pause You gotta luv March Madness. Mad?? More like #upset</td>\n",
              "      <td>sadness</td>\n",
              "      <td>0.525</td>\n",
              "    </tr>\n",
              "    <tr>\n",
              "      <th>3</th>\n",
              "      <td>2018-En-01920</td>\n",
              "      <td>Massive night tonight with the decider! Who you got? @QLDmaroons or @NSWRL ??? Can the #blues get it done?! #origin #StateOfOrigin</td>\n",
              "      <td>sadness</td>\n",
              "      <td>0.306</td>\n",
              "    </tr>\n",
              "    <tr>\n",
              "      <th>4</th>\n",
              "      <td>2018-En-03155</td>\n",
              "      <td>@RGUpdate Have you tried English hospital food ?? #yak #gross #horrible</td>\n",
              "      <td>sadness</td>\n",
              "      <td>0.553</td>\n",
              "    </tr>\n",
              "  </tbody>\n",
              "</table>\n",
              "</div>"
            ],
            "text/plain": [
              "              ID  ... Intensity Score\n",
              "0  2018-En-03239  ...  0.550         \n",
              "1  2018-En-02839  ...  0.521         \n",
              "2  2018-En-01035  ...  0.525         \n",
              "3  2018-En-01920  ...  0.306         \n",
              "4  2018-En-03155  ...  0.553         \n",
              "\n",
              "[5 rows x 4 columns]"
            ]
          },
          "metadata": {},
          "execution_count": 10
        }
      ]
    },
    {
      "cell_type": "code",
      "metadata": {
        "colab": {
          "base_uri": "https://localhost:8080/"
        },
        "id": "QKBcq5Bdu0ZD",
        "outputId": "5b8de4be-9378-4510-9afe-4d5484009c48"
      },
      "source": [
        "df_sadness.shape"
      ],
      "execution_count": null,
      "outputs": [
        {
          "output_type": "execute_result",
          "data": {
            "text/plain": [
              "(17912, 4)"
            ]
          },
          "metadata": {},
          "execution_count": 17
        }
      ]
    },
    {
      "cell_type": "markdown",
      "metadata": {
        "id": "dglnIe0mCyD_"
      },
      "source": [
        "## Data Cleaning"
      ]
    },
    {
      "cell_type": "markdown",
      "metadata": {
        "id": "cdg7lly7ZaQg"
      },
      "source": [
        "Data cleaning is one of the essential steps because without a proper cleaning procedure you will have errors in your analysis and eventually your data-driven results. Here I try to eliminate duplicates tweets by using the Primary key ('ID'), checked for empty rows and replaced “NaN” if there is any."
      ]
    },
    {
      "cell_type": "code",
      "metadata": {
        "colab": {
          "base_uri": "https://localhost:8080/",
          "height": 171
        },
        "id": "qAqbF8E6tnpa",
        "outputId": "7fbc5c49-f298-4235-80a4-ffc1db2e7d08"
      },
      "source": [
        "## Check the data type of each column\n",
        "df_anger.dtypes.to_frame().rename(columns={0:'data_type'})"
      ],
      "execution_count": null,
      "outputs": [
        {
          "output_type": "execute_result",
          "data": {
            "text/html": [
              "<div>\n",
              "<style scoped>\n",
              "    .dataframe tbody tr th:only-of-type {\n",
              "        vertical-align: middle;\n",
              "    }\n",
              "\n",
              "    .dataframe tbody tr th {\n",
              "        vertical-align: top;\n",
              "    }\n",
              "\n",
              "    .dataframe thead th {\n",
              "        text-align: right;\n",
              "    }\n",
              "</style>\n",
              "<table border=\"1\" class=\"dataframe\">\n",
              "  <thead>\n",
              "    <tr style=\"text-align: right;\">\n",
              "      <th></th>\n",
              "      <th>data_type</th>\n",
              "    </tr>\n",
              "  </thead>\n",
              "  <tbody>\n",
              "    <tr>\n",
              "      <th>ID</th>\n",
              "      <td>object</td>\n",
              "    </tr>\n",
              "    <tr>\n",
              "      <th>Tweet</th>\n",
              "      <td>object</td>\n",
              "    </tr>\n",
              "    <tr>\n",
              "      <th>Affect Dimension</th>\n",
              "      <td>object</td>\n",
              "    </tr>\n",
              "    <tr>\n",
              "      <th>Intensity Score</th>\n",
              "      <td>float64</td>\n",
              "    </tr>\n",
              "  </tbody>\n",
              "</table>\n",
              "</div>"
            ],
            "text/plain": [
              "                 data_type\n",
              "ID                object  \n",
              "Tweet             object  \n",
              "Affect Dimension  object  \n",
              "Intensity Score   float64 "
            ]
          },
          "metadata": {},
          "execution_count": 19
        }
      ]
    },
    {
      "cell_type": "code",
      "metadata": {
        "colab": {
          "base_uri": "https://localhost:8080/",
          "height": 171
        },
        "id": "oP4_DwhUFLUG",
        "outputId": "2c9f402c-8888-4eaa-8e68-0d43d7da9523"
      },
      "source": [
        "df_fear.dtypes.to_frame().rename(columns={0:'data_type'})"
      ],
      "execution_count": null,
      "outputs": [
        {
          "output_type": "execute_result",
          "data": {
            "text/html": [
              "<div>\n",
              "<style scoped>\n",
              "    .dataframe tbody tr th:only-of-type {\n",
              "        vertical-align: middle;\n",
              "    }\n",
              "\n",
              "    .dataframe tbody tr th {\n",
              "        vertical-align: top;\n",
              "    }\n",
              "\n",
              "    .dataframe thead th {\n",
              "        text-align: right;\n",
              "    }\n",
              "</style>\n",
              "<table border=\"1\" class=\"dataframe\">\n",
              "  <thead>\n",
              "    <tr style=\"text-align: right;\">\n",
              "      <th></th>\n",
              "      <th>data_type</th>\n",
              "    </tr>\n",
              "  </thead>\n",
              "  <tbody>\n",
              "    <tr>\n",
              "      <th>ID</th>\n",
              "      <td>object</td>\n",
              "    </tr>\n",
              "    <tr>\n",
              "      <th>Tweet</th>\n",
              "      <td>object</td>\n",
              "    </tr>\n",
              "    <tr>\n",
              "      <th>Affect Dimension</th>\n",
              "      <td>object</td>\n",
              "    </tr>\n",
              "    <tr>\n",
              "      <th>Intensity Score</th>\n",
              "      <td>float64</td>\n",
              "    </tr>\n",
              "  </tbody>\n",
              "</table>\n",
              "</div>"
            ],
            "text/plain": [
              "                 data_type\n",
              "ID                object  \n",
              "Tweet             object  \n",
              "Affect Dimension  object  \n",
              "Intensity Score   float64 "
            ]
          },
          "metadata": {},
          "execution_count": 20
        }
      ]
    },
    {
      "cell_type": "code",
      "metadata": {
        "colab": {
          "base_uri": "https://localhost:8080/",
          "height": 171
        },
        "id": "1flfjgw4FsbZ",
        "outputId": "fb3dd27a-4bfb-464e-fdc1-76a2a7991cf4"
      },
      "source": [
        "df_joy.dtypes.to_frame().rename(columns={0:'data_type'})"
      ],
      "execution_count": null,
      "outputs": [
        {
          "output_type": "execute_result",
          "data": {
            "text/html": [
              "<div>\n",
              "<style scoped>\n",
              "    .dataframe tbody tr th:only-of-type {\n",
              "        vertical-align: middle;\n",
              "    }\n",
              "\n",
              "    .dataframe tbody tr th {\n",
              "        vertical-align: top;\n",
              "    }\n",
              "\n",
              "    .dataframe thead th {\n",
              "        text-align: right;\n",
              "    }\n",
              "</style>\n",
              "<table border=\"1\" class=\"dataframe\">\n",
              "  <thead>\n",
              "    <tr style=\"text-align: right;\">\n",
              "      <th></th>\n",
              "      <th>data_type</th>\n",
              "    </tr>\n",
              "  </thead>\n",
              "  <tbody>\n",
              "    <tr>\n",
              "      <th>ID</th>\n",
              "      <td>object</td>\n",
              "    </tr>\n",
              "    <tr>\n",
              "      <th>Tweet</th>\n",
              "      <td>object</td>\n",
              "    </tr>\n",
              "    <tr>\n",
              "      <th>Affect Dimension</th>\n",
              "      <td>object</td>\n",
              "    </tr>\n",
              "    <tr>\n",
              "      <th>Intensity Score</th>\n",
              "      <td>float64</td>\n",
              "    </tr>\n",
              "  </tbody>\n",
              "</table>\n",
              "</div>"
            ],
            "text/plain": [
              "                 data_type\n",
              "ID                object  \n",
              "Tweet             object  \n",
              "Affect Dimension  object  \n",
              "Intensity Score   float64 "
            ]
          },
          "metadata": {},
          "execution_count": 21
        }
      ]
    },
    {
      "cell_type": "code",
      "metadata": {
        "colab": {
          "base_uri": "https://localhost:8080/",
          "height": 171
        },
        "id": "IpdnTA3FGVJm",
        "outputId": "6c1d62e4-72b9-420d-cd07-b74eb0eb4719"
      },
      "source": [
        "df_fear.dtypes.to_frame().rename(columns={0:'data_type'})"
      ],
      "execution_count": null,
      "outputs": [
        {
          "output_type": "execute_result",
          "data": {
            "text/html": [
              "<div>\n",
              "<style scoped>\n",
              "    .dataframe tbody tr th:only-of-type {\n",
              "        vertical-align: middle;\n",
              "    }\n",
              "\n",
              "    .dataframe tbody tr th {\n",
              "        vertical-align: top;\n",
              "    }\n",
              "\n",
              "    .dataframe thead th {\n",
              "        text-align: right;\n",
              "    }\n",
              "</style>\n",
              "<table border=\"1\" class=\"dataframe\">\n",
              "  <thead>\n",
              "    <tr style=\"text-align: right;\">\n",
              "      <th></th>\n",
              "      <th>data_type</th>\n",
              "    </tr>\n",
              "  </thead>\n",
              "  <tbody>\n",
              "    <tr>\n",
              "      <th>ID</th>\n",
              "      <td>object</td>\n",
              "    </tr>\n",
              "    <tr>\n",
              "      <th>Tweet</th>\n",
              "      <td>object</td>\n",
              "    </tr>\n",
              "    <tr>\n",
              "      <th>Affect Dimension</th>\n",
              "      <td>object</td>\n",
              "    </tr>\n",
              "    <tr>\n",
              "      <th>Intensity Score</th>\n",
              "      <td>float64</td>\n",
              "    </tr>\n",
              "  </tbody>\n",
              "</table>\n",
              "</div>"
            ],
            "text/plain": [
              "                 data_type\n",
              "ID                object  \n",
              "Tweet             object  \n",
              "Affect Dimension  object  \n",
              "Intensity Score   float64 "
            ]
          },
          "metadata": {},
          "execution_count": 22
        }
      ]
    },
    {
      "cell_type": "code",
      "metadata": {
        "colab": {
          "base_uri": "https://localhost:8080/"
        },
        "id": "g3WirYZJGaQq",
        "outputId": "bb9784be-3ce7-4d3c-f218-9e883635f11c"
      },
      "source": [
        "## Finding unique values in each column\n",
        "for col in df_anger:\n",
        "    print(\"There are \", len(df_anger[col].unique()), \"unique values in \", col)"
      ],
      "execution_count": null,
      "outputs": [
        {
          "output_type": "stream",
          "name": "stdout",
          "text": [
            "There are  17939 unique values in  ID\n",
            "There are  17939 unique values in  Tweet\n",
            "There are  1 unique values in  Affect Dimension\n",
            "There are  236 unique values in  Intensity Score\n"
          ]
        }
      ]
    },
    {
      "cell_type": "code",
      "metadata": {
        "colab": {
          "base_uri": "https://localhost:8080/"
        },
        "id": "Zvw_jxdvHBll",
        "outputId": "f88a9b35-b957-46f9-b6f7-fed538b219d9"
      },
      "source": [
        "for col in df_fear:\n",
        "    print(\"There are \", len(df_fear[col].unique()), \"unique values in \", col)"
      ],
      "execution_count": null,
      "outputs": [
        {
          "output_type": "stream",
          "name": "stdout",
          "text": [
            "There are  17923 unique values in  ID\n",
            "There are  17923 unique values in  Tweet\n",
            "There are  1 unique values in  Affect Dimension\n",
            "There are  342 unique values in  Intensity Score\n"
          ]
        }
      ]
    },
    {
      "cell_type": "code",
      "metadata": {
        "colab": {
          "base_uri": "https://localhost:8080/"
        },
        "id": "tlgTCOYnHjFZ",
        "outputId": "927caa66-8157-4661-fae5-8a562f35b040"
      },
      "source": [
        "for col in df_joy:\n",
        "    print(\"There are \", len(df_joy[col].unique()), \"unique values in \", col)"
      ],
      "execution_count": null,
      "outputs": [
        {
          "output_type": "stream",
          "name": "stdout",
          "text": [
            "There are  18042 unique values in  ID\n",
            "There are  18042 unique values in  Tweet\n",
            "There are  1 unique values in  Affect Dimension\n",
            "There are  220 unique values in  Intensity Score\n"
          ]
        }
      ]
    },
    {
      "cell_type": "code",
      "metadata": {
        "colab": {
          "base_uri": "https://localhost:8080/"
        },
        "id": "n9Zrx4jRIm_V",
        "outputId": "2c6c4087-346f-4603-82b5-39efe1fee25a"
      },
      "source": [
        "for col in df_sadness:\n",
        "    print(\"There are \", len(df_sadness[col].unique()), \"unique values in \", col)"
      ],
      "execution_count": null,
      "outputs": [
        {
          "output_type": "stream",
          "name": "stdout",
          "text": [
            "There are  17912 unique values in  ID\n",
            "There are  17912 unique values in  Tweet\n",
            "There are  1 unique values in  Affect Dimension\n",
            "There are  355 unique values in  Intensity Score\n"
          ]
        }
      ]
    },
    {
      "cell_type": "markdown",
      "metadata": {
        "id": "_akTATHoIyHb"
      },
      "source": [
        "**Comment:** There are no duplicates in our ID column for each datasets."
      ]
    },
    {
      "cell_type": "code",
      "metadata": {
        "colab": {
          "base_uri": "https://localhost:8080/",
          "height": 171
        },
        "id": "Hnk1L8bAIq6I",
        "outputId": "ea11f83c-a991-4ae9-87d7-f8637c9100a6"
      },
      "source": [
        "## Find the number of Null values in each columns\n",
        "df_anger.isnull().sum().to_frame().rename(columns={0:'Null values'})"
      ],
      "execution_count": null,
      "outputs": [
        {
          "output_type": "execute_result",
          "data": {
            "text/html": [
              "<div>\n",
              "<style scoped>\n",
              "    .dataframe tbody tr th:only-of-type {\n",
              "        vertical-align: middle;\n",
              "    }\n",
              "\n",
              "    .dataframe tbody tr th {\n",
              "        vertical-align: top;\n",
              "    }\n",
              "\n",
              "    .dataframe thead th {\n",
              "        text-align: right;\n",
              "    }\n",
              "</style>\n",
              "<table border=\"1\" class=\"dataframe\">\n",
              "  <thead>\n",
              "    <tr style=\"text-align: right;\">\n",
              "      <th></th>\n",
              "      <th>Null values</th>\n",
              "    </tr>\n",
              "  </thead>\n",
              "  <tbody>\n",
              "    <tr>\n",
              "      <th>ID</th>\n",
              "      <td>0</td>\n",
              "    </tr>\n",
              "    <tr>\n",
              "      <th>Tweet</th>\n",
              "      <td>0</td>\n",
              "    </tr>\n",
              "    <tr>\n",
              "      <th>Affect Dimension</th>\n",
              "      <td>0</td>\n",
              "    </tr>\n",
              "    <tr>\n",
              "      <th>Intensity Score</th>\n",
              "      <td>0</td>\n",
              "    </tr>\n",
              "  </tbody>\n",
              "</table>\n",
              "</div>"
            ],
            "text/plain": [
              "                  Null values\n",
              "ID                0          \n",
              "Tweet             0          \n",
              "Affect Dimension  0          \n",
              "Intensity Score   0          "
            ]
          },
          "metadata": {},
          "execution_count": 27
        }
      ]
    },
    {
      "cell_type": "code",
      "metadata": {
        "colab": {
          "base_uri": "https://localhost:8080/",
          "height": 171
        },
        "id": "x5c71addKR0x",
        "outputId": "22274c37-8c45-4a8d-b4ff-313721e9e361"
      },
      "source": [
        "df_fear.isnull().sum().to_frame().rename(columns={0:'Null values'})"
      ],
      "execution_count": null,
      "outputs": [
        {
          "output_type": "execute_result",
          "data": {
            "text/html": [
              "<div>\n",
              "<style scoped>\n",
              "    .dataframe tbody tr th:only-of-type {\n",
              "        vertical-align: middle;\n",
              "    }\n",
              "\n",
              "    .dataframe tbody tr th {\n",
              "        vertical-align: top;\n",
              "    }\n",
              "\n",
              "    .dataframe thead th {\n",
              "        text-align: right;\n",
              "    }\n",
              "</style>\n",
              "<table border=\"1\" class=\"dataframe\">\n",
              "  <thead>\n",
              "    <tr style=\"text-align: right;\">\n",
              "      <th></th>\n",
              "      <th>Null values</th>\n",
              "    </tr>\n",
              "  </thead>\n",
              "  <tbody>\n",
              "    <tr>\n",
              "      <th>ID</th>\n",
              "      <td>0</td>\n",
              "    </tr>\n",
              "    <tr>\n",
              "      <th>Tweet</th>\n",
              "      <td>0</td>\n",
              "    </tr>\n",
              "    <tr>\n",
              "      <th>Affect Dimension</th>\n",
              "      <td>0</td>\n",
              "    </tr>\n",
              "    <tr>\n",
              "      <th>Intensity Score</th>\n",
              "      <td>0</td>\n",
              "    </tr>\n",
              "  </tbody>\n",
              "</table>\n",
              "</div>"
            ],
            "text/plain": [
              "                  Null values\n",
              "ID                0          \n",
              "Tweet             0          \n",
              "Affect Dimension  0          \n",
              "Intensity Score   0          "
            ]
          },
          "metadata": {},
          "execution_count": 28
        }
      ]
    },
    {
      "cell_type": "code",
      "metadata": {
        "colab": {
          "base_uri": "https://localhost:8080/",
          "height": 171
        },
        "id": "Xt35vA3oKWbb",
        "outputId": "50c34a1e-5c93-4a90-e3c2-8834db10ef1e"
      },
      "source": [
        "df_joy.isnull().sum().to_frame().rename(columns={0:'Null values'})"
      ],
      "execution_count": null,
      "outputs": [
        {
          "output_type": "execute_result",
          "data": {
            "text/html": [
              "<div>\n",
              "<style scoped>\n",
              "    .dataframe tbody tr th:only-of-type {\n",
              "        vertical-align: middle;\n",
              "    }\n",
              "\n",
              "    .dataframe tbody tr th {\n",
              "        vertical-align: top;\n",
              "    }\n",
              "\n",
              "    .dataframe thead th {\n",
              "        text-align: right;\n",
              "    }\n",
              "</style>\n",
              "<table border=\"1\" class=\"dataframe\">\n",
              "  <thead>\n",
              "    <tr style=\"text-align: right;\">\n",
              "      <th></th>\n",
              "      <th>Null values</th>\n",
              "    </tr>\n",
              "  </thead>\n",
              "  <tbody>\n",
              "    <tr>\n",
              "      <th>ID</th>\n",
              "      <td>0</td>\n",
              "    </tr>\n",
              "    <tr>\n",
              "      <th>Tweet</th>\n",
              "      <td>0</td>\n",
              "    </tr>\n",
              "    <tr>\n",
              "      <th>Affect Dimension</th>\n",
              "      <td>0</td>\n",
              "    </tr>\n",
              "    <tr>\n",
              "      <th>Intensity Score</th>\n",
              "      <td>0</td>\n",
              "    </tr>\n",
              "  </tbody>\n",
              "</table>\n",
              "</div>"
            ],
            "text/plain": [
              "                  Null values\n",
              "ID                0          \n",
              "Tweet             0          \n",
              "Affect Dimension  0          \n",
              "Intensity Score   0          "
            ]
          },
          "metadata": {},
          "execution_count": 29
        }
      ]
    },
    {
      "cell_type": "code",
      "metadata": {
        "colab": {
          "base_uri": "https://localhost:8080/",
          "height": 171
        },
        "id": "WDG6i_QYKYGq",
        "outputId": "b791be7c-dcab-4b13-9b3c-1085d00b47af"
      },
      "source": [
        "df_sadness.isnull().sum().to_frame().rename(columns={0:'Null values'})"
      ],
      "execution_count": null,
      "outputs": [
        {
          "output_type": "execute_result",
          "data": {
            "text/html": [
              "<div>\n",
              "<style scoped>\n",
              "    .dataframe tbody tr th:only-of-type {\n",
              "        vertical-align: middle;\n",
              "    }\n",
              "\n",
              "    .dataframe tbody tr th {\n",
              "        vertical-align: top;\n",
              "    }\n",
              "\n",
              "    .dataframe thead th {\n",
              "        text-align: right;\n",
              "    }\n",
              "</style>\n",
              "<table border=\"1\" class=\"dataframe\">\n",
              "  <thead>\n",
              "    <tr style=\"text-align: right;\">\n",
              "      <th></th>\n",
              "      <th>Null values</th>\n",
              "    </tr>\n",
              "  </thead>\n",
              "  <tbody>\n",
              "    <tr>\n",
              "      <th>ID</th>\n",
              "      <td>0</td>\n",
              "    </tr>\n",
              "    <tr>\n",
              "      <th>Tweet</th>\n",
              "      <td>0</td>\n",
              "    </tr>\n",
              "    <tr>\n",
              "      <th>Affect Dimension</th>\n",
              "      <td>0</td>\n",
              "    </tr>\n",
              "    <tr>\n",
              "      <th>Intensity Score</th>\n",
              "      <td>0</td>\n",
              "    </tr>\n",
              "  </tbody>\n",
              "</table>\n",
              "</div>"
            ],
            "text/plain": [
              "                  Null values\n",
              "ID                0          \n",
              "Tweet             0          \n",
              "Affect Dimension  0          \n",
              "Intensity Score   0          "
            ]
          },
          "metadata": {},
          "execution_count": 30
        }
      ]
    },
    {
      "cell_type": "markdown",
      "metadata": {
        "id": "6b96kLTmKgru"
      },
      "source": [
        "**Comments:** We don't have any missing values in our datasets."
      ]
    },
    {
      "cell_type": "markdown",
      "metadata": {
        "id": "dQE6bxnLQeEK"
      },
      "source": [
        "## Exploratory Data Analysis"
      ]
    },
    {
      "cell_type": "code",
      "metadata": {
        "colab": {
          "base_uri": "https://localhost:8080/",
          "height": 472
        },
        "id": "bEavxLEIKZ73",
        "outputId": "34b8265a-9af3-45cf-ce1b-5e753dd39826"
      },
      "source": [
        "## Let's check the distribution of our datasets\n",
        "print(df_anger.describe())\n",
        "\n",
        "## Histogram of our datasets\n",
        "\n",
        "plt.hist(df_anger[\"Intensity Score\"], bins=10)\n",
        "plt.title('Anger')\n",
        "plt.xlabel('Anger intensity')\n",
        "plt.ylabel('Frequency')\n"
      ],
      "execution_count": null,
      "outputs": [
        {
          "output_type": "stream",
          "name": "stdout",
          "text": [
            "       Intensity Score\n",
            "count  17939.000000   \n",
            "mean   0.029009       \n",
            "std    0.127397       \n",
            "min    0.000000       \n",
            "25%    0.000000       \n",
            "50%    0.000000       \n",
            "75%    0.000000       \n",
            "max    0.953000       \n"
          ]
        },
        {
          "output_type": "execute_result",
          "data": {
            "text/plain": [
              "Text(0, 0.5, 'Frequency')"
            ]
          },
          "metadata": {},
          "execution_count": 60
        },
        {
          "output_type": "display_data",
          "data": {
            "image/png": "[encoded data removed]",
            "text/plain": [
              "<Figure size 432x288 with 1 Axes>"
            ]
          },
          "metadata": {
            "needs_background": "light"
          }
        }
      ]
    },
    {
      "cell_type": "code",
      "metadata": {
        "colab": {
          "base_uri": "https://localhost:8080/",
          "height": 472
        },
        "id": "xecTKBcTPKQB",
        "outputId": "10f52b51-d11f-4eab-e5af-33aa3038721d"
      },
      "source": [
        "print(df_fear.describe())\n",
        "\n",
        "## Histogram of our datasets\n",
        "\n",
        "plt.hist(df_fear[\"Intensity Score\"], bins=10)\n",
        "plt.title('Fear')\n",
        "plt.xlabel('Fear intensity')\n",
        "plt.ylabel('Frequency')"
      ],
      "execution_count": null,
      "outputs": [
        {
          "output_type": "stream",
          "name": "stdout",
          "text": [
            "       Intensity Score\n",
            "count  17923.000000   \n",
            "mean   0.028115       \n",
            "std    0.123962       \n",
            "min    0.000000       \n",
            "25%    0.000000       \n",
            "50%    0.000000       \n",
            "75%    0.000000       \n",
            "max    0.942000       \n"
          ]
        },
        {
          "output_type": "execute_result",
          "data": {
            "text/plain": [
              "Text(0, 0.5, 'Frequency')"
            ]
          },
          "metadata": {},
          "execution_count": 41
        },
        {
          "output_type": "display_data",
          "data": {
            "image/png": "[encoded data removed]",
            "text/plain": [
              "<Figure size 432x288 with 1 Axes>"
            ]
          },
          "metadata": {
            "needs_background": "light"
          }
        }
      ]
    },
    {
      "cell_type": "code",
      "metadata": {
        "colab": {
          "base_uri": "https://localhost:8080/",
          "height": 472
        },
        "id": "JOh6xqT4QLUr",
        "outputId": "72a9004e-c57d-4bbd-dbfc-554c2ffebbe9"
      },
      "source": [
        "print(df_joy.describe())\n",
        "\n",
        "## Histogram of our datasets\n",
        "\n",
        "plt.hist(df_joy[\"Intensity Score\"], bins=10)\n",
        "plt.title('Joy')\n",
        "plt.xlabel('Joy intensity')\n",
        "plt.ylabel('Frequency')"
      ],
      "execution_count": null,
      "outputs": [
        {
          "output_type": "stream",
          "name": "stdout",
          "text": [
            "       Intensity Score\n",
            "count  18042.000000   \n",
            "mean   0.032138       \n",
            "std    0.134278       \n",
            "min    0.000000       \n",
            "25%    0.000000       \n",
            "50%    0.000000       \n",
            "75%    0.000000       \n",
            "max    0.968000       \n"
          ]
        },
        {
          "output_type": "execute_result",
          "data": {
            "text/plain": [
              "Text(0, 0.5, 'Frequency')"
            ]
          },
          "metadata": {},
          "execution_count": 42
        },
        {
          "output_type": "display_data",
          "data": {
            "image/png": "[encoded data removed]",
            "text/plain": [
              "<Figure size 432x288 with 1 Axes>"
            ]
          },
          "metadata": {
            "needs_background": "light"
          }
        }
      ]
    },
    {
      "cell_type": "code",
      "metadata": {
        "colab": {
          "base_uri": "https://localhost:8080/",
          "height": 472
        },
        "id": "Eya_yTpjQQLN",
        "outputId": "3181bf18-2d5d-48f5-8be4-fa15aff70bc2"
      },
      "source": [
        "print(df_sadness.describe())\n",
        "\n",
        "## Histogram of our datasets\n",
        "\n",
        "plt.hist(df_sadness[\"Intensity Score\"], bins=10)\n",
        "plt.title('Sadness')\n",
        "plt.xlabel('Sadness intensity')\n",
        "plt.ylabel('Frequency')"
      ],
      "execution_count": null,
      "outputs": [
        {
          "output_type": "stream",
          "name": "stdout",
          "text": [
            "       Intensity Score\n",
            "count  17912.000000   \n",
            "mean   0.027843       \n",
            "std    0.123550       \n",
            "min    0.000000       \n",
            "25%    0.000000       \n",
            "50%    0.000000       \n",
            "75%    0.000000       \n",
            "max    0.973000       \n"
          ]
        },
        {
          "output_type": "execute_result",
          "data": {
            "text/plain": [
              "Text(0, 0.5, 'Frequency')"
            ]
          },
          "metadata": {},
          "execution_count": 39
        },
        {
          "output_type": "display_data",
          "data": {
            "image/png": "[encoded data removed]",
            "text/plain": [
              "<Figure size 432x288 with 1 Axes>"
            ]
          },
          "metadata": {
            "needs_background": "light"
          }
        }
      ]
    },
    {
      "cell_type": "markdown",
      "metadata": {
        "id": "XzyaflIA3aKr"
      },
      "source": [
        "**Comments:** It seems that large portion of the tweets have an emotional intensity close to zero, so we have to first figure out explore close to zero intensities and see if they are worthy to keep for our purpose."
      ]
    },
    {
      "cell_type": "code",
      "metadata": {
        "colab": {
          "base_uri": "https://localhost:8080/"
        },
        "id": "njOSvINtQS2T",
        "outputId": "5d4bc9dd-753e-4d36-ade1-5223926a6da2"
      },
      "source": [
        "## Exploring low intesity tweets\n",
        "\n",
        "print(df_anger[\"Intensity Score\"].value_counts().head())\n",
        "print(df_fear[\"Intensity Score\"].value_counts().head())\n",
        "print(df_joy[\"Intensity Score\"].value_counts().head())\n",
        "print(df_sadness[\"Intensity Score\"].value_counts().head())"
      ],
      "execution_count": null,
      "outputs": [
        {
          "output_type": "stream",
          "name": "stdout",
          "text": [
            "0.000    16937\n",
            "0.516    27   \n",
            "0.500    26   \n",
            "0.547    23   \n",
            "0.469    22   \n",
            "Name: Intensity Score, dtype: int64\n",
            "0.000    16937\n",
            "0.500    31   \n",
            "0.517    15   \n",
            "0.375    13   \n",
            "0.625    12   \n",
            "Name: Intensity Score, dtype: int64\n",
            "0.000    16937\n",
            "0.516    25   \n",
            "0.484    25   \n",
            "0.500    24   \n",
            "0.547    23   \n",
            "Name: Intensity Score, dtype: int64\n",
            "0.000    16937\n",
            "0.500    43   \n",
            "0.750    11   \n",
            "0.429    11   \n",
            "0.333    10   \n",
            "Name: Intensity Score, dtype: int64\n"
          ]
        }
      ]
    },
    {
      "cell_type": "code",
      "metadata": {
        "id": "H5fYe5it4-un"
      },
      "source": [
        "## Seperating the zero intensity data from the rest to explore them further\n",
        "df_anger0 = df_anger[df_anger[\"Intensity Score\"] == 0]\n",
        "df_fear0 = df_fear[df_fear[\"Intensity Score\"] == 0]\n",
        "df_joy0 = df_joy[df_joy[\"Intensity Score\"] == 0]\n",
        "df_sadness0 = df_sadness[df_sadness[\"Intensity Score\"] == 0]"
      ],
      "execution_count": null,
      "outputs": []
    },
    {
      "cell_type": "code",
      "metadata": {
        "colab": {
          "base_uri": "https://localhost:8080/"
        },
        "id": "tzVTlA1R7X0C",
        "outputId": "59e471ee-f970-47d3-83dd-f9fe9a8cb0c6"
      },
      "source": [
        "## Randomly choose 10 tweets from each datasets\n",
        "print(df_anger0.sample(n=10, replace=True).Tweet,'\\n', df_fear0.sample(n=10, replace=True).Tweet, '\\n',\n",
        "      df_joy0.sample(n=10, replace=True).Tweet, '\\n', df_sadness0.sample(n=10, replace=True).Tweet)"
      ],
      "execution_count": null,
      "outputs": [
        {
          "output_type": "stream",
          "name": "stdout",
          "text": [
            "5585     Torrance told us all about the recent funny events.\n",
            "5208     Jasmine is studying art.                           \n",
            "10832    Ellen made me feel devastated.                     \n",
            "2238     Amanda is a lousy librarian.                       \n",
            "1873     Frank made me feel happy.                          \n",
            "17332    I saw Stephanie in the market.                     \n",
            "13015    Frank is an accomplished surgeon.                  \n",
            "13753    I made Lakisha feel sad.                           \n",
            "14434    Jamel is proficient in physics.                    \n",
            "8267     Adam is taking a chemistry class.                  \n",
            "Name: Tweet, dtype: object \n",
            " 10936    She wants to be a bartender.                            \n",
            "2362     I'm meeting my friends at an Italian restaurant tonight.\n",
            "15193    My mother is a lousy hygienist.                         \n",
            "6606     The conversation with a Thai was funny.                 \n",
            "13224    The situation makes Leroy feel glad.                    \n",
            "3663     Ebony made me feel glad.                                \n",
            "3034     My uncle made me feel glad.                             \n",
            "1598     Terrence made me feel devastated.                       \n",
            "15315    The conversation with this girl was threatening.        \n",
            "12580    This woman found herself in a horrible situation.       \n",
            "Name: Tweet, dtype: object \n",
            " 4378     Alphonse is an accomplished janitor.                    \n",
            "16696    I made Kristin feel scared.                             \n",
            "10807    I made Tanisha feel fearful.                            \n",
            "12958    This person goes to the school in our neighborhood.     \n",
            "15970    Kristin told us all about the recent displeasing events.\n",
            "11521    My dad is studying to become a nutritionist.            \n",
            "13984    My aunt is taking a poetry class.                       \n",
            "3137     My wife found herself in an amazing situation.          \n",
            "4174     Ebony feels sad.                                        \n",
            "3803     The situation makes Ellen feel angry.                   \n",
            "Name: Tweet, dtype: object \n",
            " 8508     The conversation with Jerome was dreadful.            \n",
            "2304     The conversation with an Indian was depressing.       \n",
            "16547    Ellen told us all about the recent displeasing events.\n",
            "15740    The situation makes Latoya feel terrified.            \n",
            "2797     The situation makes Josh feel furious.                \n",
            "8552     Leroy is an accomplished programmer.                  \n",
            "14238    The situation makes Alan feel discouraged.            \n",
            "12885    Shereen feels anxious.                                \n",
            "6832     I made my daughter feel anxious.                      \n",
            "5201     The situation makes my girlfriend feel devastated.    \n",
            "Name: Tweet, dtype: object\n"
          ]
        }
      ]
    },
    {
      "cell_type": "markdown",
      "metadata": {
        "id": "Fhw1wXGs_vah"
      },
      "source": [
        "**Comments:** The tweets seems to be the same for all our datasets and are not representing the true emotions; consequently might cause some bias in our model training step. Therefore, it would be better to exclude them."
      ]
    },
    {
      "cell_type": "code",
      "metadata": {
        "id": "UVyAYa0I7pEY"
      },
      "source": [
        "## Creating datasets without zero emotional intensity\n",
        "\n",
        "newdf_anger = df_anger[df_anger[\"Intensity Score\"] != 0]\n",
        "newdf_fear = df_fear[df_fear[\"Intensity Score\"] != 0]\n",
        "newdf_joy = df_joy[df_joy[\"Intensity Score\"] != 0]\n",
        "newdf_sadness = df_sadness[df_sadness[\"Intensity Score\"] != 0]"
      ],
      "execution_count": null,
      "outputs": []
    },
    {
      "cell_type": "code",
      "metadata": {
        "colab": {
          "base_uri": "https://localhost:8080/",
          "height": 734
        },
        "id": "z38UDBskBVkM",
        "outputId": "0b67b0fe-5768-46cc-a147-c5f13862ef71"
      },
      "source": [
        "## Let's check the distribution of our new datasets\n",
        "\n",
        "print(newdf_anger.describe())\n",
        "\n",
        "## Histogram of our datasets\n",
        "\n",
        "plt.hist(newdf_anger[\"Intensity Score\"], bins=10)\n",
        "plt.title('Anger')\n",
        "plt.xlabel('Anger intensity')\n",
        "plt.ylabel('Frequency')\n",
        "\n",
        "# q-q plot\n",
        "qqplot(newdf_anger[\"Intensity Score\"], line='s')\n",
        "plt.show()"
      ],
      "execution_count": null,
      "outputs": [
        {
          "output_type": "stream",
          "name": "stderr",
          "text": [
            "No handles with labels found to put in legend.\n"
          ]
        },
        {
          "output_type": "stream",
          "name": "stdout",
          "text": [
            "       Intensity Score\n",
            "count  1002.000000    \n",
            "mean   0.519358       \n",
            "std    0.189535       \n",
            "min    0.050000       \n",
            "25%    0.379000       \n",
            "50%    0.516000       \n",
            "75%    0.656000       \n",
            "max    0.953000       \n"
          ]
        },
        {
          "output_type": "display_data",
          "data": {
            "image/png": "[encoded data removed]",
            "text/plain": [
              "<Figure size 432x288 with 1 Axes>"
            ]
          },
          "metadata": {
            "needs_background": "light"
          }
        },
        {
          "output_type": "display_data",
          "data": {
            "image/png": "[encoded data removed]",
            "text/plain": [
              "<Figure size 432x288 with 1 Axes>"
            ]
          },
          "metadata": {
            "needs_background": "light"
          }
        }
      ]
    },
    {
      "cell_type": "code",
      "metadata": {
        "colab": {
          "base_uri": "https://localhost:8080/",
          "height": 716
        },
        "id": "6QwCgjNrBnPY",
        "outputId": "acea0687-2f97-48f0-fb5d-908c4cd3eac8"
      },
      "source": [
        "print(newdf_fear.describe())\n",
        "\n",
        "## Histogram of our datasets\n",
        "\n",
        "plt.hist(newdf_fear[\"Intensity Score\"], bins=10)\n",
        "plt.title('Fear')\n",
        "plt.xlabel('Fear intensity')\n",
        "plt.ylabel('Frequency')\n",
        "\n",
        "# q-q plot\n",
        "qqplot(newdf_fear[\"Intensity Score\"], line='s')\n",
        "plt.show()"
      ],
      "execution_count": null,
      "outputs": [
        {
          "output_type": "stream",
          "name": "stdout",
          "text": [
            "       Intensity Score\n",
            "count  986.000000     \n",
            "mean   0.511069       \n",
            "std    0.180334       \n",
            "min    0.058000       \n",
            "25%    0.383000       \n",
            "50%    0.517000       \n",
            "75%    0.638000       \n",
            "max    0.942000       \n"
          ]
        },
        {
          "output_type": "display_data",
          "data": {
            "image/png": "[encoded data removed]",
            "text/plain": [
              "<Figure size 432x288 with 1 Axes>"
            ]
          },
          "metadata": {
            "needs_background": "light"
          }
        },
        {
          "output_type": "display_data",
          "data": {
            "image/png": "[encoded data removed]",
            "text/plain": [
              "<Figure size 432x288 with 1 Axes>"
            ]
          },
          "metadata": {
            "needs_background": "light"
          }
        }
      ]
    },
    {
      "cell_type": "code",
      "metadata": {
        "colab": {
          "base_uri": "https://localhost:8080/",
          "height": 716
        },
        "id": "wCIIonTCKAv0",
        "outputId": "4b76be15-1578-44ca-8d7b-7de80a2cfd75"
      },
      "source": [
        "print(newdf_joy.describe())\n",
        "\n",
        "## Histogram of our datasets\n",
        "\n",
        "plt.hist(newdf_joy[\"Intensity Score\"], bins=10)\n",
        "plt.title('Joy')\n",
        "plt.xlabel('Joy intensity')\n",
        "plt.ylabel('Frequency')\n",
        "\n",
        "# q-q plot\n",
        "qqplot(newdf_joy[\"Intensity Score\"], line='s')\n",
        "plt.show()"
      ],
      "execution_count": null,
      "outputs": [
        {
          "output_type": "stream",
          "name": "stdout",
          "text": [
            "       Intensity Score\n",
            "count  1105.000000    \n",
            "mean   0.524730       \n",
            "std    0.189567       \n",
            "min    0.047000       \n",
            "25%    0.383000       \n",
            "50%    0.531000       \n",
            "75%    0.667000       \n",
            "max    0.968000       \n"
          ]
        },
        {
          "output_type": "display_data",
          "data": {
            "image/png": "[encoded data removed]",
            "text/plain": [
              "<Figure size 432x288 with 1 Axes>"
            ]
          },
          "metadata": {
            "needs_background": "light"
          }
        },
        {
          "output_type": "display_data",
          "data": {
            "image/png": "[encoded data removed]",
            "text/plain": [
              "<Figure size 432x288 with 1 Axes>"
            ]
          },
          "metadata": {
            "needs_background": "light"
          }
        }
      ]
    },
    {
      "cell_type": "code",
      "metadata": {
        "colab": {
          "base_uri": "https://localhost:8080/",
          "height": 716
        },
        "id": "gZ-e86S3KLyf",
        "outputId": "dd5d3213-062b-476b-86f1-53f7612bbf32"
      },
      "source": [
        "print(newdf_sadness.describe())\n",
        "\n",
        "## Histogram of our datasets\n",
        "\n",
        "plt.hist(newdf_sadness[\"Intensity Score\"], bins=10)\n",
        "plt.title('Sadness')\n",
        "plt.xlabel('Sadness intensity')\n",
        "plt.ylabel('Frequency')\n",
        "\n",
        "# q-q plot\n",
        "qqplot(newdf_sadness[\"Intensity Score\"], line='s')\n",
        "plt.show()"
      ],
      "execution_count": null,
      "outputs": [
        {
          "output_type": "stream",
          "name": "stdout",
          "text": [
            "       Intensity Score\n",
            "count  975.000000     \n",
            "mean   0.511510       \n",
            "std    0.181798       \n",
            "min    0.093000       \n",
            "25%    0.380000       \n",
            "50%    0.500000       \n",
            "75%    0.646000       \n",
            "max    0.973000       \n"
          ]
        },
        {
          "output_type": "display_data",
          "data": {
            "image/png": "[encoded data removed]",
            "text/plain": [
              "<Figure size 432x288 with 1 Axes>"
            ]
          },
          "metadata": {
            "needs_background": "light"
          }
        },
        {
          "output_type": "display_data",
          "data": {
            "image/png": "[encoded data removed]",
            "text/plain": [
              "<Figure size 432x288 with 1 Axes>"
            ]
          },
          "metadata": {
            "needs_background": "light"
          }
        }
      ]
    },
    {
      "cell_type": "markdown",
      "metadata": {
        "id": "iZocPuBrKqn7"
      },
      "source": [
        "**Comments:** Each dataset has almost 1000 records without zero emotional intensity which are all noramlly distributed (Gaussian distribution) based on their histograms and qq-plots"
      ]
    },
    {
      "cell_type": "code",
      "metadata": {
        "id": "pZ_aRxNvKc4e"
      },
      "source": [
        ""
      ],
      "execution_count": null,
      "outputs": []
    }
  ]
}