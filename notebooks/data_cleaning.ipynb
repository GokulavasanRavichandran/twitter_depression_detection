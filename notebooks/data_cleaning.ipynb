{
  "nbformat": 4,
  "nbformat_minor": 0,
  "metadata": {
    "colab": {
      "name": "data_cleaning.ipynb",
      "provenance": []
    },
    "kernelspec": {
      "name": "python3",
      "display_name": "Python 3"
    },
    "language_info": {
      "name": "python"
    }
  },
  "cells": [
    {
      "cell_type": "markdown",
      "metadata": {
        "id": "QUv-qL5aTlN_"
      },
      "source": [
        "# Data Cleaning"
      ]
    },
    {
      "cell_type": "markdown",
      "metadata": {
        "id": "7Ty2bX21TpE4"
      },
      "source": [
        "Data cleaning is the process of detecting and removing errors and inconsistencies from the data to improve its quality. Inproper data cleaning process can lead to errors, faulty analysis, distortion in dataset and eventually incompatible datasets for machine learning purposes. There is no one absolute way to prescribe the exact steps in the data cleaning process because the processes will vary from dataset to dataset. My data cleaning process includes:\n",
        "\n",
        "* Check the data types\n",
        "* Check for duplicates - Primary key ('tweets.id')\n",
        "* Check missing values\n",
        "* Make text all lower case\n",
        "* Remove links and images\n",
        "* Remove hashtags\n",
        "* Remove @ mentions\n",
        "* Remove emojis\n",
        "* Remove stop words\n",
        "* Remove punctuation\n",
        "* Get rid of stuff like \"what's\" and making it \"what is'\n",
        "* Stemming / lemmatization\n",
        "\n",
        "\n"
      ]
    },
    {
      "cell_type": "code",
      "metadata": {
        "colab": {
          "base_uri": "https://localhost:8080/"
        },
        "id": "yRUz0q1mTUkg",
        "outputId": "f29a086a-63e0-426c-c9a9-af3dcf481732"
      },
      "source": [
        "from google.colab import drive\n",
        "drive.mount('/content/drive')"
      ],
      "execution_count": 1,
      "outputs": [
        {
          "output_type": "stream",
          "name": "stdout",
          "text": [
            "Mounted at /content/drive\n"
          ]
        }
      ]
    },
    {
      "cell_type": "code",
      "metadata": {
        "colab": {
          "base_uri": "https://localhost:8080/"
        },
        "id": "d9LbF-SLjH0d",
        "outputId": "6eaa9363-8f3d-48ce-d818-2e0283299c2c"
      },
      "source": [
        "!pip install -qqq ftfy"
      ],
      "execution_count": 3,
      "outputs": [
        {
          "output_type": "stream",
          "name": "stdout",
          "text": [
            "\u001b[?25l\r\u001b[K     |█████                           | 10 kB 18.0 MB/s eta 0:00:01\r\u001b[K     |██████████▏                     | 20 kB 12.3 MB/s eta 0:00:01\r\u001b[K     |███████████████▎                | 30 kB 9.8 MB/s eta 0:00:01\r\u001b[K     |████████████████████▍           | 40 kB 8.5 MB/s eta 0:00:01\r\u001b[K     |█████████████████████████▌      | 51 kB 5.3 MB/s eta 0:00:01\r\u001b[K     |██████████████████████████████▋ | 61 kB 5.8 MB/s eta 0:00:01\r\u001b[K     |████████████████████████████████| 64 kB 1.5 MB/s \n",
            "\u001b[?25h  Building wheel for ftfy (setup.py) ... \u001b[?25l\u001b[?25hdone\n"
          ]
        }
      ]
    },
    {
      "cell_type": "code",
      "metadata": {
        "id": "NuVz70ByXMd1"
      },
      "source": [
        "## Import required libraries\n",
        "import warnings\n",
        "warnings.filterwarnings(\"ignore\")\n",
        "import matplotlib.pyplot as plt\n",
        "import nltk\n",
        "import numpy as np\n",
        "import pandas as pd\n",
        "import re\n",
        "import ftfy\n",
        "from nltk.stem import WordNetLemmatizer\n",
        "from nltk.corpus import stopwords\n",
        "from PIL import Image # for opening, manipulating, and saving many different image file f\n",
        "# WordCloud - Python linrary for creating image wordclouds\n",
        "from wordcloud import WordCloud\n",
        "from nltk import pos_tag # For Parts of Speech tagging\n",
        "import random # generating random numbers\n"
      ],
      "execution_count": 4,
      "outputs": []
    },
    {
      "cell_type": "code",
      "metadata": {
        "colab": {
          "base_uri": "https://localhost:8080/"
        },
        "id": "zNigO8dakCFf",
        "outputId": "0ca3c513-d5d1-470d-9912-c6356da17a14"
      },
      "source": [
        "nltk.download('stopwords')"
      ],
      "execution_count": 5,
      "outputs": [
        {
          "output_type": "stream",
          "name": "stdout",
          "text": [
            "[nltk_data] Downloading package stopwords to /root/nltk_data...\n",
            "[nltk_data]   Unzipping corpora/stopwords.zip.\n"
          ]
        },
        {
          "output_type": "execute_result",
          "data": {
            "text/plain": [
              "True"
            ]
          },
          "metadata": {},
          "execution_count": 5
        }
      ]
    },
    {
      "cell_type": "code",
      "metadata": {
        "colab": {
          "base_uri": "https://localhost:8080/"
        },
        "id": "G39zRevRlSan",
        "outputId": "0767742e-3858-4e20-db77-7608aa3f8a1b"
      },
      "source": [
        "nltk.download('punkt')"
      ],
      "execution_count": 6,
      "outputs": [
        {
          "output_type": "stream",
          "name": "stdout",
          "text": [
            "[nltk_data] Downloading package punkt to /root/nltk_data...\n",
            "[nltk_data]   Unzipping tokenizers/punkt.zip.\n"
          ]
        },
        {
          "output_type": "execute_result",
          "data": {
            "text/plain": [
              "True"
            ]
          },
          "metadata": {},
          "execution_count": 6
        }
      ]
    },
    {
      "cell_type": "code",
      "metadata": {
        "colab": {
          "base_uri": "https://localhost:8080/"
        },
        "id": "7L0jV3-8lg3d",
        "outputId": "153dc29d-fad3-4321-dbe2-34b1536998a7"
      },
      "source": [
        "nltk.download('wordnet')"
      ],
      "execution_count": 7,
      "outputs": [
        {
          "output_type": "stream",
          "name": "stdout",
          "text": [
            "[nltk_data] Downloading package wordnet to /root/nltk_data...\n",
            "[nltk_data]   Unzipping corpora/wordnet.zip.\n"
          ]
        },
        {
          "output_type": "execute_result",
          "data": {
            "text/plain": [
              "True"
            ]
          },
          "metadata": {},
          "execution_count": 7
        }
      ]
    },
    {
      "cell_type": "code",
      "metadata": {
        "colab": {
          "base_uri": "https://localhost:8080/"
        },
        "id": "EhRVyjgSCj47",
        "outputId": "ce45da73-787d-4ebd-cae2-814401b04f33"
      },
      "source": [
        "nltk.download('averaged_perceptron_tagger')"
      ],
      "execution_count": 8,
      "outputs": [
        {
          "output_type": "stream",
          "name": "stdout",
          "text": [
            "[nltk_data] Downloading package averaged_perceptron_tagger to\n",
            "[nltk_data]     /root/nltk_data...\n",
            "[nltk_data]   Unzipping taggers/averaged_perceptron_tagger.zip.\n"
          ]
        },
        {
          "output_type": "execute_result",
          "data": {
            "text/plain": [
              "True"
            ]
          },
          "metadata": {},
          "execution_count": 8
        }
      ]
    },
    {
      "cell_type": "markdown",
      "metadata": {
        "id": "U4ab5ve6W5YX"
      },
      "source": [
        "## Load the datasets"
      ]
    },
    {
      "cell_type": "code",
      "metadata": {
        "id": "bcTpVkZnTa_S"
      },
      "source": [
        "depressive_tweets_df = pd.read_csv(\"/content/drive/MyDrive/NLP/Depression_Detection/Data_fetch_API/output/depressive_tweets.csv\")\n",
        "random_tweets_df = pd.read_csv(\"/content/drive/MyDrive/NLP/Depression_Detection/Depression_tweets_Data/Data1/Sentiment Analysis Dataset 2.csv\", \n",
        "                               encoding = \"ISO-8859-1\", usecols = range(0,4), nrows = 25000)"
      ],
      "execution_count": 9,
      "outputs": []
    },
    {
      "cell_type": "code",
      "metadata": {
        "colab": {
          "base_uri": "https://localhost:8080/",
          "height": 302
        },
        "id": "-TCfMO6RnZsu",
        "outputId": "9041ac87-732d-430f-edc6-237b64940bfa"
      },
      "source": [
        "depressive_tweets_df.head()"
      ],
      "execution_count": 10,
      "outputs": [
        {
          "output_type": "execute_result",
          "data": {
            "text/html": [
              "<div>\n",
              "<style scoped>\n",
              "    .dataframe tbody tr th:only-of-type {\n",
              "        vertical-align: middle;\n",
              "    }\n",
              "\n",
              "    .dataframe tbody tr th {\n",
              "        vertical-align: top;\n",
              "    }\n",
              "\n",
              "    .dataframe thead th {\n",
              "        text-align: right;\n",
              "    }\n",
              "</style>\n",
              "<table border=\"1\" class=\"dataframe\">\n",
              "  <thead>\n",
              "    <tr style=\"text-align: right;\">\n",
              "      <th></th>\n",
              "      <th>Unnamed: 0</th>\n",
              "      <th>tweet.id</th>\n",
              "      <th>created_at</th>\n",
              "      <th>text</th>\n",
              "      <th>location</th>\n",
              "      <th>retweet</th>\n",
              "      <th>favorite</th>\n",
              "    </tr>\n",
              "  </thead>\n",
              "  <tbody>\n",
              "    <tr>\n",
              "      <th>0</th>\n",
              "      <td>0</td>\n",
              "      <td>1447537898572574730</td>\n",
              "      <td>2021-10-11 12:21:43</td>\n",
              "      <td>Open discussion. Between the Transfer Portal a...</td>\n",
              "      <td>Cheyenne Wyoming</td>\n",
              "      <td>0</td>\n",
              "      <td>0</td>\n",
              "    </tr>\n",
              "    <tr>\n",
              "      <th>1</th>\n",
              "      <td>1</td>\n",
              "      <td>1447540582490988553</td>\n",
              "      <td>2021-10-11 12:32:23</td>\n",
              "      <td>Plenty of things are changing in my life and t...</td>\n",
              "      <td>NaN</td>\n",
              "      <td>0</td>\n",
              "      <td>0</td>\n",
              "    </tr>\n",
              "    <tr>\n",
              "      <th>2</th>\n",
              "      <td>2</td>\n",
              "      <td>1447807717859491842</td>\n",
              "      <td>2021-10-12 06:13:53</td>\n",
              "      <td>I feel a little hopeless. Anyone else? #hopele...</td>\n",
              "      <td>NaN</td>\n",
              "      <td>0</td>\n",
              "      <td>0</td>\n",
              "    </tr>\n",
              "    <tr>\n",
              "      <th>3</th>\n",
              "      <td>3</td>\n",
              "      <td>1448076026219692033</td>\n",
              "      <td>2021-10-13 00:00:03</td>\n",
              "      <td>Which is more healthy? Hope, or hopelessness? ...</td>\n",
              "      <td>Denver, CO</td>\n",
              "      <td>0</td>\n",
              "      <td>0</td>\n",
              "    </tr>\n",
              "    <tr>\n",
              "      <th>4</th>\n",
              "      <td>4</td>\n",
              "      <td>1448382047375040513</td>\n",
              "      <td>2021-10-13 20:16:04</td>\n",
              "      <td>So someone tell me how do I get over #HOPELESS...</td>\n",
              "      <td>Portland Or .</td>\n",
              "      <td>0</td>\n",
              "      <td>2</td>\n",
              "    </tr>\n",
              "  </tbody>\n",
              "</table>\n",
              "</div>"
            ],
            "text/plain": [
              "   Unnamed: 0             tweet.id  ... retweet favorite\n",
              "0           0  1447537898572574730  ...       0        0\n",
              "1           1  1447540582490988553  ...       0        0\n",
              "2           2  1447807717859491842  ...       0        0\n",
              "3           3  1448076026219692033  ...       0        0\n",
              "4           4  1448382047375040513  ...       0        2\n",
              "\n",
              "[5 rows x 7 columns]"
            ]
          },
          "metadata": {},
          "execution_count": 10
        }
      ]
    },
    {
      "cell_type": "code",
      "metadata": {
        "colab": {
          "base_uri": "https://localhost:8080/",
          "height": 202
        },
        "id": "W4mCUxdVtjWv",
        "outputId": "0fd88337-3b4a-4792-c62e-d65926750655"
      },
      "source": [
        "random_tweets_df.head()"
      ],
      "execution_count": 11,
      "outputs": [
        {
          "output_type": "execute_result",
          "data": {
            "text/html": [
              "<div>\n",
              "<style scoped>\n",
              "    .dataframe tbody tr th:only-of-type {\n",
              "        vertical-align: middle;\n",
              "    }\n",
              "\n",
              "    .dataframe tbody tr th {\n",
              "        vertical-align: top;\n",
              "    }\n",
              "\n",
              "    .dataframe thead th {\n",
              "        text-align: right;\n",
              "    }\n",
              "</style>\n",
              "<table border=\"1\" class=\"dataframe\">\n",
              "  <thead>\n",
              "    <tr style=\"text-align: right;\">\n",
              "      <th></th>\n",
              "      <th>ï»¿ItemID</th>\n",
              "      <th>Sentiment</th>\n",
              "      <th>SentimentSource</th>\n",
              "      <th>SentimentText</th>\n",
              "    </tr>\n",
              "  </thead>\n",
              "  <tbody>\n",
              "    <tr>\n",
              "      <th>0</th>\n",
              "      <td>1</td>\n",
              "      <td>0</td>\n",
              "      <td>Sentiment140</td>\n",
              "      <td>is so sad for my APL frie...</td>\n",
              "    </tr>\n",
              "    <tr>\n",
              "      <th>1</th>\n",
              "      <td>2</td>\n",
              "      <td>0</td>\n",
              "      <td>Sentiment140</td>\n",
              "      <td>I missed the New Moon trail...</td>\n",
              "    </tr>\n",
              "    <tr>\n",
              "      <th>2</th>\n",
              "      <td>3</td>\n",
              "      <td>1</td>\n",
              "      <td>Sentiment140</td>\n",
              "      <td>omg its already 7:30 :O</td>\n",
              "    </tr>\n",
              "    <tr>\n",
              "      <th>3</th>\n",
              "      <td>4</td>\n",
              "      <td>0</td>\n",
              "      <td>Sentiment140</td>\n",
              "      <td>.. Omgaga. Im sooo  im gunna CRy. I'...</td>\n",
              "    </tr>\n",
              "    <tr>\n",
              "      <th>4</th>\n",
              "      <td>5</td>\n",
              "      <td>0</td>\n",
              "      <td>Sentiment140</td>\n",
              "      <td>i think mi bf is cheating on me!!!   ...</td>\n",
              "    </tr>\n",
              "  </tbody>\n",
              "</table>\n",
              "</div>"
            ],
            "text/plain": [
              "   ï»¿ItemID  ...                                      SentimentText\n",
              "0          1  ...                       is so sad for my APL frie...\n",
              "1          2  ...                     I missed the New Moon trail...\n",
              "2          3  ...                            omg its already 7:30 :O\n",
              "3          4  ...            .. Omgaga. Im sooo  im gunna CRy. I'...\n",
              "4          5  ...           i think mi bf is cheating on me!!!   ...\n",
              "\n",
              "[5 rows x 4 columns]"
            ]
          },
          "metadata": {},
          "execution_count": 11
        }
      ]
    },
    {
      "cell_type": "code",
      "metadata": {
        "id": "0x7Svia3zEhQ"
      },
      "source": [
        "## Slicing the random tweets to have sentiment == 1 \n",
        "new_rand_df = random_tweets_df[random_tweets_df.Sentiment == 1]\n",
        "new_rand_df.reset_index(inplace=True)"
      ],
      "execution_count": 12,
      "outputs": []
    },
    {
      "cell_type": "code",
      "metadata": {
        "colab": {
          "base_uri": "https://localhost:8080/"
        },
        "id": "svpDxeLs2h4g",
        "outputId": "b8c41be8-10f2-4c33-f9fa-3256861507d2"
      },
      "source": [
        "new_rand_df.shape"
      ],
      "execution_count": 13,
      "outputs": [
        {
          "output_type": "execute_result",
          "data": {
            "text/plain": [
              "(12175, 5)"
            ]
          },
          "metadata": {},
          "execution_count": 13
        }
      ]
    },
    {
      "cell_type": "code",
      "metadata": {
        "colab": {
          "base_uri": "https://localhost:8080/",
          "height": 202
        },
        "id": "7GI7998x4QRV",
        "outputId": "5302354c-6a85-42f0-b20a-be5ad5a8e963"
      },
      "source": [
        "new_rand_df.head()"
      ],
      "execution_count": 14,
      "outputs": [
        {
          "output_type": "execute_result",
          "data": {
            "text/html": [
              "<div>\n",
              "<style scoped>\n",
              "    .dataframe tbody tr th:only-of-type {\n",
              "        vertical-align: middle;\n",
              "    }\n",
              "\n",
              "    .dataframe tbody tr th {\n",
              "        vertical-align: top;\n",
              "    }\n",
              "\n",
              "    .dataframe thead th {\n",
              "        text-align: right;\n",
              "    }\n",
              "</style>\n",
              "<table border=\"1\" class=\"dataframe\">\n",
              "  <thead>\n",
              "    <tr style=\"text-align: right;\">\n",
              "      <th></th>\n",
              "      <th>index</th>\n",
              "      <th>ï»¿ItemID</th>\n",
              "      <th>Sentiment</th>\n",
              "      <th>SentimentSource</th>\n",
              "      <th>SentimentText</th>\n",
              "    </tr>\n",
              "  </thead>\n",
              "  <tbody>\n",
              "    <tr>\n",
              "      <th>0</th>\n",
              "      <td>2</td>\n",
              "      <td>3</td>\n",
              "      <td>1</td>\n",
              "      <td>Sentiment140</td>\n",
              "      <td>omg its already 7:30 :O</td>\n",
              "    </tr>\n",
              "    <tr>\n",
              "      <th>1</th>\n",
              "      <td>6</td>\n",
              "      <td>7</td>\n",
              "      <td>1</td>\n",
              "      <td>Sentiment140</td>\n",
              "      <td>Juuuuuuuuuuuuuuuuussssst Chillin!!</td>\n",
              "    </tr>\n",
              "    <tr>\n",
              "      <th>2</th>\n",
              "      <td>8</td>\n",
              "      <td>9</td>\n",
              "      <td>1</td>\n",
              "      <td>Sentiment140</td>\n",
              "      <td>handed in my uniform today . i miss you ...</td>\n",
              "    </tr>\n",
              "    <tr>\n",
              "      <th>3</th>\n",
              "      <td>9</td>\n",
              "      <td>10</td>\n",
              "      <td>1</td>\n",
              "      <td>Sentiment140</td>\n",
              "      <td>hmmmm.... i wonder how she my number @-)</td>\n",
              "    </tr>\n",
              "    <tr>\n",
              "      <th>4</th>\n",
              "      <td>11</td>\n",
              "      <td>12</td>\n",
              "      <td>1</td>\n",
              "      <td>Sentiment140</td>\n",
              "      <td>thanks to all the haters up in my face a...</td>\n",
              "    </tr>\n",
              "  </tbody>\n",
              "</table>\n",
              "</div>"
            ],
            "text/plain": [
              "   index  ...                                      SentimentText\n",
              "0      2  ...                            omg its already 7:30 :O\n",
              "1      6  ...                 Juuuuuuuuuuuuuuuuussssst Chillin!!\n",
              "2      8  ...        handed in my uniform today . i miss you ...\n",
              "3      9  ...           hmmmm.... i wonder how she my number @-)\n",
              "4     11  ...        thanks to all the haters up in my face a...\n",
              "\n",
              "[5 rows x 5 columns]"
            ]
          },
          "metadata": {},
          "execution_count": 14
        }
      ]
    },
    {
      "cell_type": "markdown",
      "metadata": {
        "id": "KG29qc_b4GnB"
      },
      "source": [
        "12175 random tweets with sentiment == 1"
      ]
    },
    {
      "cell_type": "markdown",
      "metadata": {
        "id": "UitvlZ02qZD7"
      },
      "source": [
        "## Data Cleaning-Processing:"
      ]
    },
    {
      "cell_type": "code",
      "metadata": {
        "colab": {
          "base_uri": "https://localhost:8080/"
        },
        "id": "ulH3-xX86jPp",
        "outputId": "f86545f7-803e-40d2-f7d2-a4a38b4dbd11"
      },
      "source": [
        "print(depressive_tweets_df.shape)\n",
        "print(new_rand_df.shape)"
      ],
      "execution_count": 15,
      "outputs": [
        {
          "output_type": "stream",
          "name": "stdout",
          "text": [
            "(16943, 7)\n",
            "(12175, 5)\n"
          ]
        }
      ]
    },
    {
      "cell_type": "code",
      "metadata": {
        "colab": {
          "base_uri": "https://localhost:8080/",
          "height": 263
        },
        "id": "KX5XBnF5pwZ3",
        "outputId": "b1bab312-0c82-4761-94c2-098ea18fc318"
      },
      "source": [
        "## Check the data type of each column\n",
        "depressive_tweets_df.dtypes.to_frame().rename(columns={0:'data_type'})"
      ],
      "execution_count": 16,
      "outputs": [
        {
          "output_type": "execute_result",
          "data": {
            "text/html": [
              "<div>\n",
              "<style scoped>\n",
              "    .dataframe tbody tr th:only-of-type {\n",
              "        vertical-align: middle;\n",
              "    }\n",
              "\n",
              "    .dataframe tbody tr th {\n",
              "        vertical-align: top;\n",
              "    }\n",
              "\n",
              "    .dataframe thead th {\n",
              "        text-align: right;\n",
              "    }\n",
              "</style>\n",
              "<table border=\"1\" class=\"dataframe\">\n",
              "  <thead>\n",
              "    <tr style=\"text-align: right;\">\n",
              "      <th></th>\n",
              "      <th>data_type</th>\n",
              "    </tr>\n",
              "  </thead>\n",
              "  <tbody>\n",
              "    <tr>\n",
              "      <th>Unnamed: 0</th>\n",
              "      <td>int64</td>\n",
              "    </tr>\n",
              "    <tr>\n",
              "      <th>tweet.id</th>\n",
              "      <td>int64</td>\n",
              "    </tr>\n",
              "    <tr>\n",
              "      <th>created_at</th>\n",
              "      <td>object</td>\n",
              "    </tr>\n",
              "    <tr>\n",
              "      <th>text</th>\n",
              "      <td>object</td>\n",
              "    </tr>\n",
              "    <tr>\n",
              "      <th>location</th>\n",
              "      <td>object</td>\n",
              "    </tr>\n",
              "    <tr>\n",
              "      <th>retweet</th>\n",
              "      <td>int64</td>\n",
              "    </tr>\n",
              "    <tr>\n",
              "      <th>favorite</th>\n",
              "      <td>int64</td>\n",
              "    </tr>\n",
              "  </tbody>\n",
              "</table>\n",
              "</div>"
            ],
            "text/plain": [
              "           data_type\n",
              "Unnamed: 0     int64\n",
              "tweet.id       int64\n",
              "created_at    object\n",
              "text          object\n",
              "location      object\n",
              "retweet        int64\n",
              "favorite       int64"
            ]
          },
          "metadata": {},
          "execution_count": 16
        }
      ]
    },
    {
      "cell_type": "code",
      "metadata": {
        "colab": {
          "base_uri": "https://localhost:8080/",
          "height": 202
        },
        "id": "-TigHSsnuLbn",
        "outputId": "af1db53f-bfd7-48c8-9e4a-38232d0916ad"
      },
      "source": [
        "## Check the data type of each column\n",
        "new_rand_df.dtypes.to_frame().rename(columns={0:'data_type'})"
      ],
      "execution_count": 17,
      "outputs": [
        {
          "output_type": "execute_result",
          "data": {
            "text/html": [
              "<div>\n",
              "<style scoped>\n",
              "    .dataframe tbody tr th:only-of-type {\n",
              "        vertical-align: middle;\n",
              "    }\n",
              "\n",
              "    .dataframe tbody tr th {\n",
              "        vertical-align: top;\n",
              "    }\n",
              "\n",
              "    .dataframe thead th {\n",
              "        text-align: right;\n",
              "    }\n",
              "</style>\n",
              "<table border=\"1\" class=\"dataframe\">\n",
              "  <thead>\n",
              "    <tr style=\"text-align: right;\">\n",
              "      <th></th>\n",
              "      <th>data_type</th>\n",
              "    </tr>\n",
              "  </thead>\n",
              "  <tbody>\n",
              "    <tr>\n",
              "      <th>index</th>\n",
              "      <td>int64</td>\n",
              "    </tr>\n",
              "    <tr>\n",
              "      <th>ï»¿ItemID</th>\n",
              "      <td>int64</td>\n",
              "    </tr>\n",
              "    <tr>\n",
              "      <th>Sentiment</th>\n",
              "      <td>int64</td>\n",
              "    </tr>\n",
              "    <tr>\n",
              "      <th>SentimentSource</th>\n",
              "      <td>object</td>\n",
              "    </tr>\n",
              "    <tr>\n",
              "      <th>SentimentText</th>\n",
              "      <td>object</td>\n",
              "    </tr>\n",
              "  </tbody>\n",
              "</table>\n",
              "</div>"
            ],
            "text/plain": [
              "                data_type\n",
              "index               int64\n",
              "ï»¿ItemID           int64\n",
              "Sentiment           int64\n",
              "SentimentSource    object\n",
              "SentimentText      object"
            ]
          },
          "metadata": {},
          "execution_count": 17
        }
      ]
    },
    {
      "cell_type": "code",
      "metadata": {
        "id": "ZHXvHSCan-7_"
      },
      "source": [
        "## Drop unnecessary columns\n",
        "depressive_tweets_df.drop(columns=['Unnamed: 0'], inplace=True)\n",
        "new_rand_df.drop(columns=['ï»¿ItemID', 'index','Sentiment', 'SentimentSource'], inplace=True)"
      ],
      "execution_count": 18,
      "outputs": []
    },
    {
      "cell_type": "markdown",
      "metadata": {
        "id": "ZNQQeuXcq0kp"
      },
      "source": [
        "Since we are mostly dealing with the tweets in our datasets, it is not necessary to change the data types at this stage."
      ]
    },
    {
      "cell_type": "code",
      "metadata": {
        "colab": {
          "base_uri": "https://localhost:8080/"
        },
        "id": "kyiCOEnSqoGT",
        "outputId": "387a172c-695a-44a1-c976-2692d200ee1b"
      },
      "source": [
        "## Finding unique values in each column\n",
        "for col in depressive_tweets_df:\n",
        "    print(\"There are \", len(depressive_tweets_df[col].unique()), \"unique values in \", col)"
      ],
      "execution_count": 19,
      "outputs": [
        {
          "output_type": "stream",
          "name": "stdout",
          "text": [
            "There are  11481 unique values in  tweet.id\n",
            "There are  11387 unique values in  created_at\n",
            "There are  10895 unique values in  text\n",
            "There are  3186 unique values in  location\n",
            "There are  66 unique values in  retweet\n",
            "There are  136 unique values in  favorite\n"
          ]
        }
      ]
    },
    {
      "cell_type": "markdown",
      "metadata": {
        "id": "7ivOCsGzsCJR"
      },
      "source": [
        "By considering **tweet.id** as our primary key, we have **11481** unique tweets, so we need to get rid of the duplicates."
      ]
    },
    {
      "cell_type": "code",
      "metadata": {
        "colab": {
          "base_uri": "https://localhost:8080/"
        },
        "id": "jHMyyyS9u-zm",
        "outputId": "9e2d0e84-084b-4b05-da6c-7f9a20b475c9"
      },
      "source": [
        "## Finding unique values in each column\n",
        "for col in new_rand_df:\n",
        "    print(\"There are \", len(new_rand_df[col].unique()), \"unique values in \", col)"
      ],
      "execution_count": 20,
      "outputs": [
        {
          "output_type": "stream",
          "name": "stdout",
          "text": [
            "There are  12175 unique values in  SentimentText\n"
          ]
        }
      ]
    },
    {
      "cell_type": "markdown",
      "metadata": {
        "id": "F0cHAHxV6tOR"
      },
      "source": [
        "No duplicates in random tweets dataset"
      ]
    },
    {
      "cell_type": "code",
      "metadata": {
        "id": "vDHOTp4yrEWh"
      },
      "source": [
        "# drop duplicate values in tweet.id\n",
        "depressive_tweets_df.drop_duplicates(subset=['tweet.id'], inplace=True)"
      ],
      "execution_count": 21,
      "outputs": []
    },
    {
      "cell_type": "code",
      "metadata": {
        "id": "E8zCo0WYwibg"
      },
      "source": [
        "depressive_tweets_df.reset_index(inplace=True)"
      ],
      "execution_count": 22,
      "outputs": []
    },
    {
      "cell_type": "code",
      "metadata": {
        "colab": {
          "base_uri": "https://localhost:8080/"
        },
        "id": "EZ1tY9cgswFs",
        "outputId": "f688f667-e413-48a6-bd04-7c51ec79f8ae"
      },
      "source": [
        "depressive_tweets_df.shape"
      ],
      "execution_count": 23,
      "outputs": [
        {
          "output_type": "execute_result",
          "data": {
            "text/plain": [
              "(11481, 7)"
            ]
          },
          "metadata": {},
          "execution_count": 23
        }
      ]
    },
    {
      "cell_type": "code",
      "metadata": {
        "colab": {
          "base_uri": "https://localhost:8080/",
          "height": 263
        },
        "id": "6R_Awmrusz4O",
        "outputId": "941a25b4-df4e-483e-9ad2-587074834923"
      },
      "source": [
        "## Find the number of Null values in each columns\n",
        "depressive_tweets_df.isnull().sum().to_frame().rename(columns={0:'Null values'})"
      ],
      "execution_count": 24,
      "outputs": [
        {
          "output_type": "execute_result",
          "data": {
            "text/html": [
              "<div>\n",
              "<style scoped>\n",
              "    .dataframe tbody tr th:only-of-type {\n",
              "        vertical-align: middle;\n",
              "    }\n",
              "\n",
              "    .dataframe tbody tr th {\n",
              "        vertical-align: top;\n",
              "    }\n",
              "\n",
              "    .dataframe thead th {\n",
              "        text-align: right;\n",
              "    }\n",
              "</style>\n",
              "<table border=\"1\" class=\"dataframe\">\n",
              "  <thead>\n",
              "    <tr style=\"text-align: right;\">\n",
              "      <th></th>\n",
              "      <th>Null values</th>\n",
              "    </tr>\n",
              "  </thead>\n",
              "  <tbody>\n",
              "    <tr>\n",
              "      <th>index</th>\n",
              "      <td>0</td>\n",
              "    </tr>\n",
              "    <tr>\n",
              "      <th>tweet.id</th>\n",
              "      <td>0</td>\n",
              "    </tr>\n",
              "    <tr>\n",
              "      <th>created_at</th>\n",
              "      <td>0</td>\n",
              "    </tr>\n",
              "    <tr>\n",
              "      <th>text</th>\n",
              "      <td>0</td>\n",
              "    </tr>\n",
              "    <tr>\n",
              "      <th>location</th>\n",
              "      <td>3957</td>\n",
              "    </tr>\n",
              "    <tr>\n",
              "      <th>retweet</th>\n",
              "      <td>0</td>\n",
              "    </tr>\n",
              "    <tr>\n",
              "      <th>favorite</th>\n",
              "      <td>0</td>\n",
              "    </tr>\n",
              "  </tbody>\n",
              "</table>\n",
              "</div>"
            ],
            "text/plain": [
              "            Null values\n",
              "index                 0\n",
              "tweet.id              0\n",
              "created_at            0\n",
              "text                  0\n",
              "location           3957\n",
              "retweet               0\n",
              "favorite              0"
            ]
          },
          "metadata": {},
          "execution_count": 24
        }
      ]
    },
    {
      "cell_type": "markdown",
      "metadata": {
        "id": "V8c0VrPzu8Up"
      },
      "source": [
        "There are **3957** Null values in the **location** columns but since location will not be used in our analysis or as a feature in our model, we don't need to replace them."
      ]
    },
    {
      "cell_type": "code",
      "metadata": {
        "colab": {
          "base_uri": "https://localhost:8080/",
          "height": 78
        },
        "id": "cnN6os-fxxNU",
        "outputId": "3f9177bb-7082-4467-87ce-61269176f095"
      },
      "source": [
        "## Find the number of Null values in each columns\n",
        "new_rand_df.isnull().sum().to_frame().rename(columns={0:'Null values'})"
      ],
      "execution_count": 25,
      "outputs": [
        {
          "output_type": "execute_result",
          "data": {
            "text/html": [
              "<div>\n",
              "<style scoped>\n",
              "    .dataframe tbody tr th:only-of-type {\n",
              "        vertical-align: middle;\n",
              "    }\n",
              "\n",
              "    .dataframe tbody tr th {\n",
              "        vertical-align: top;\n",
              "    }\n",
              "\n",
              "    .dataframe thead th {\n",
              "        text-align: right;\n",
              "    }\n",
              "</style>\n",
              "<table border=\"1\" class=\"dataframe\">\n",
              "  <thead>\n",
              "    <tr style=\"text-align: right;\">\n",
              "      <th></th>\n",
              "      <th>Null values</th>\n",
              "    </tr>\n",
              "  </thead>\n",
              "  <tbody>\n",
              "    <tr>\n",
              "      <th>SentimentText</th>\n",
              "      <td>0</td>\n",
              "    </tr>\n",
              "  </tbody>\n",
              "</table>\n",
              "</div>"
            ],
            "text/plain": [
              "               Null values\n",
              "SentimentText            0"
            ]
          },
          "metadata": {},
          "execution_count": 25
        }
      ]
    },
    {
      "cell_type": "markdown",
      "metadata": {
        "id": "mZK1ylMTx1Bf"
      },
      "source": [
        "No Null values in random tweets dataset."
      ]
    },
    {
      "cell_type": "code",
      "metadata": {
        "id": "TUp4Apyts-ir"
      },
      "source": [
        "## Drop all the columns except index, tweet.id and text\n",
        "new_dep_df = depressive_tweets_df[['text']]"
      ],
      "execution_count": 26,
      "outputs": []
    },
    {
      "cell_type": "code",
      "metadata": {
        "id": "qFegYxuWqwGZ"
      },
      "source": [
        "## Add label to both datasets (0 is non-depressive and 1 is depressive)\n",
        "new_dep_df['label'] = pd.Series([1 for x in range(len(new_dep_df.index))])\n",
        "new_rand_df['label'] = pd.Series([0 for x in range(len(new_rand_df.index))])"
      ],
      "execution_count": 27,
      "outputs": []
    },
    {
      "cell_type": "code",
      "metadata": {
        "colab": {
          "base_uri": "https://localhost:8080/",
          "height": 414
        },
        "id": "SEEbTmOvy1md",
        "outputId": "c5cfab57-462d-4438-bf3c-5893c5a4226d"
      },
      "source": [
        "new_dep_df"
      ],
      "execution_count": 28,
      "outputs": [
        {
          "output_type": "execute_result",
          "data": {
            "text/html": [
              "<div>\n",
              "<style scoped>\n",
              "    .dataframe tbody tr th:only-of-type {\n",
              "        vertical-align: middle;\n",
              "    }\n",
              "\n",
              "    .dataframe tbody tr th {\n",
              "        vertical-align: top;\n",
              "    }\n",
              "\n",
              "    .dataframe thead th {\n",
              "        text-align: right;\n",
              "    }\n",
              "</style>\n",
              "<table border=\"1\" class=\"dataframe\">\n",
              "  <thead>\n",
              "    <tr style=\"text-align: right;\">\n",
              "      <th></th>\n",
              "      <th>text</th>\n",
              "      <th>label</th>\n",
              "    </tr>\n",
              "  </thead>\n",
              "  <tbody>\n",
              "    <tr>\n",
              "      <th>0</th>\n",
              "      <td>Open discussion. Between the Transfer Portal a...</td>\n",
              "      <td>1</td>\n",
              "    </tr>\n",
              "    <tr>\n",
              "      <th>1</th>\n",
              "      <td>Plenty of things are changing in my life and t...</td>\n",
              "      <td>1</td>\n",
              "    </tr>\n",
              "    <tr>\n",
              "      <th>2</th>\n",
              "      <td>I feel a little hopeless. Anyone else? #hopele...</td>\n",
              "      <td>1</td>\n",
              "    </tr>\n",
              "    <tr>\n",
              "      <th>3</th>\n",
              "      <td>Which is more healthy? Hope, or hopelessness? ...</td>\n",
              "      <td>1</td>\n",
              "    </tr>\n",
              "    <tr>\n",
              "      <th>4</th>\n",
              "      <td>So someone tell me how do I get over #HOPELESS...</td>\n",
              "      <td>1</td>\n",
              "    </tr>\n",
              "    <tr>\n",
              "      <th>...</th>\n",
              "      <td>...</td>\n",
              "      <td>...</td>\n",
              "    </tr>\n",
              "    <tr>\n",
              "      <th>11476</th>\n",
              "      <td>Never underestimate the power of stupid people...</td>\n",
              "      <td>1</td>\n",
              "    </tr>\n",
              "    <tr>\n",
              "      <th>11477</th>\n",
              "      <td>Just found one of my garden foxes dead at the ...</td>\n",
              "      <td>1</td>\n",
              "    </tr>\n",
              "    <tr>\n",
              "      <th>11478</th>\n",
              "      <td>I legit just went to write the date as '26/10/...</td>\n",
              "      <td>1</td>\n",
              "    </tr>\n",
              "    <tr>\n",
              "      <th>11479</th>\n",
              "      <td>I'm currently feeling #Sad.</td>\n",
              "      <td>1</td>\n",
              "    </tr>\n",
              "    <tr>\n",
              "      <th>11480</th>\n",
              "      <td>Has anyone seen the stupid #americanedgeprojec...</td>\n",
              "      <td>1</td>\n",
              "    </tr>\n",
              "  </tbody>\n",
              "</table>\n",
              "<p>11481 rows × 2 columns</p>\n",
              "</div>"
            ],
            "text/plain": [
              "                                                    text  label\n",
              "0      Open discussion. Between the Transfer Portal a...      1\n",
              "1      Plenty of things are changing in my life and t...      1\n",
              "2      I feel a little hopeless. Anyone else? #hopele...      1\n",
              "3      Which is more healthy? Hope, or hopelessness? ...      1\n",
              "4      So someone tell me how do I get over #HOPELESS...      1\n",
              "...                                                  ...    ...\n",
              "11476  Never underestimate the power of stupid people...      1\n",
              "11477  Just found one of my garden foxes dead at the ...      1\n",
              "11478  I legit just went to write the date as '26/10/...      1\n",
              "11479                        I'm currently feeling #Sad.      1\n",
              "11480  Has anyone seen the stupid #americanedgeprojec...      1\n",
              "\n",
              "[11481 rows x 2 columns]"
            ]
          },
          "metadata": {},
          "execution_count": 28
        }
      ]
    },
    {
      "cell_type": "code",
      "metadata": {
        "id": "IzFLvq0n7NBq"
      },
      "source": [
        "## Change the column name to be aligned with depressive dataset\n",
        "new_rand_df.rename(columns={'SentimentText': 'text'}, inplace=True)"
      ],
      "execution_count": 30,
      "outputs": []
    },
    {
      "cell_type": "code",
      "metadata": {
        "colab": {
          "base_uri": "https://localhost:8080/",
          "height": 414
        },
        "id": "SlRhCcYDzMX4",
        "outputId": "b9f3720a-5cc4-4a7c-9f3b-bbbf36344d7e"
      },
      "source": [
        "new_rand_df"
      ],
      "execution_count": 31,
      "outputs": [
        {
          "output_type": "execute_result",
          "data": {
            "text/html": [
              "<div>\n",
              "<style scoped>\n",
              "    .dataframe tbody tr th:only-of-type {\n",
              "        vertical-align: middle;\n",
              "    }\n",
              "\n",
              "    .dataframe tbody tr th {\n",
              "        vertical-align: top;\n",
              "    }\n",
              "\n",
              "    .dataframe thead th {\n",
              "        text-align: right;\n",
              "    }\n",
              "</style>\n",
              "<table border=\"1\" class=\"dataframe\">\n",
              "  <thead>\n",
              "    <tr style=\"text-align: right;\">\n",
              "      <th></th>\n",
              "      <th>text</th>\n",
              "      <th>label</th>\n",
              "    </tr>\n",
              "  </thead>\n",
              "  <tbody>\n",
              "    <tr>\n",
              "      <th>0</th>\n",
              "      <td>omg its already 7:30 :O</td>\n",
              "      <td>0</td>\n",
              "    </tr>\n",
              "    <tr>\n",
              "      <th>1</th>\n",
              "      <td>Juuuuuuuuuuuuuuuuussssst Chillin!!</td>\n",
              "      <td>0</td>\n",
              "    </tr>\n",
              "    <tr>\n",
              "      <th>2</th>\n",
              "      <td>handed in my uniform today . i miss you ...</td>\n",
              "      <td>0</td>\n",
              "    </tr>\n",
              "    <tr>\n",
              "      <th>3</th>\n",
              "      <td>hmmmm.... i wonder how she my number @-)</td>\n",
              "      <td>0</td>\n",
              "    </tr>\n",
              "    <tr>\n",
              "      <th>4</th>\n",
              "      <td>thanks to all the haters up in my face a...</td>\n",
              "      <td>0</td>\n",
              "    </tr>\n",
              "    <tr>\n",
              "      <th>...</th>\n",
              "      <td>...</td>\n",
              "      <td>...</td>\n",
              "    </tr>\n",
              "    <tr>\n",
              "      <th>12170</th>\n",
              "      <td>@4_Feathers Oh! I get it! I think it's mandato...</td>\n",
              "      <td>0</td>\n",
              "    </tr>\n",
              "    <tr>\n",
              "      <th>12171</th>\n",
              "      <td>@4_hugh for the fifth time in the cinema AND I...</td>\n",
              "      <td>0</td>\n",
              "    </tr>\n",
              "    <tr>\n",
              "      <th>12172</th>\n",
              "      <td>@4_PACK i think i am in love with you</td>\n",
              "      <td>0</td>\n",
              "    </tr>\n",
              "    <tr>\n",
              "      <th>12173</th>\n",
              "      <td>@4_s_m_4 well i just made it back too. Really ...</td>\n",
              "      <td>0</td>\n",
              "    </tr>\n",
              "    <tr>\n",
              "      <th>12174</th>\n",
              "      <td>@4_Walls will check out the feedback on  http:...</td>\n",
              "      <td>0</td>\n",
              "    </tr>\n",
              "  </tbody>\n",
              "</table>\n",
              "<p>12175 rows × 2 columns</p>\n",
              "</div>"
            ],
            "text/plain": [
              "                                                    text  label\n",
              "0                                omg its already 7:30 :O      0\n",
              "1                     Juuuuuuuuuuuuuuuuussssst Chillin!!      0\n",
              "2            handed in my uniform today . i miss you ...      0\n",
              "3               hmmmm.... i wonder how she my number @-)      0\n",
              "4            thanks to all the haters up in my face a...      0\n",
              "...                                                  ...    ...\n",
              "12170  @4_Feathers Oh! I get it! I think it's mandato...      0\n",
              "12171  @4_hugh for the fifth time in the cinema AND I...      0\n",
              "12172             @4_PACK i think i am in love with you       0\n",
              "12173  @4_s_m_4 well i just made it back too. Really ...      0\n",
              "12174  @4_Walls will check out the feedback on  http:...      0\n",
              "\n",
              "[12175 rows x 2 columns]"
            ]
          },
          "metadata": {},
          "execution_count": 31
        }
      ]
    },
    {
      "cell_type": "code",
      "metadata": {
        "id": "VlUxZVGy0E8i"
      },
      "source": [
        "## Combine two dataframes together\n",
        "\n",
        "df_all = pd.concat([new_dep_df, new_rand_df], ignore_index=True)"
      ],
      "execution_count": 34,
      "outputs": []
    },
    {
      "cell_type": "code",
      "metadata": {
        "colab": {
          "base_uri": "https://localhost:8080/",
          "height": 414
        },
        "id": "vpXYWRzq0TM2",
        "outputId": "76d7b2ab-0e1d-4a09-f32e-ba81435fd059"
      },
      "source": [
        "df_all"
      ],
      "execution_count": 35,
      "outputs": [
        {
          "output_type": "execute_result",
          "data": {
            "text/html": [
              "<div>\n",
              "<style scoped>\n",
              "    .dataframe tbody tr th:only-of-type {\n",
              "        vertical-align: middle;\n",
              "    }\n",
              "\n",
              "    .dataframe tbody tr th {\n",
              "        vertical-align: top;\n",
              "    }\n",
              "\n",
              "    .dataframe thead th {\n",
              "        text-align: right;\n",
              "    }\n",
              "</style>\n",
              "<table border=\"1\" class=\"dataframe\">\n",
              "  <thead>\n",
              "    <tr style=\"text-align: right;\">\n",
              "      <th></th>\n",
              "      <th>text</th>\n",
              "      <th>label</th>\n",
              "    </tr>\n",
              "  </thead>\n",
              "  <tbody>\n",
              "    <tr>\n",
              "      <th>0</th>\n",
              "      <td>Open discussion. Between the Transfer Portal a...</td>\n",
              "      <td>1</td>\n",
              "    </tr>\n",
              "    <tr>\n",
              "      <th>1</th>\n",
              "      <td>Plenty of things are changing in my life and t...</td>\n",
              "      <td>1</td>\n",
              "    </tr>\n",
              "    <tr>\n",
              "      <th>2</th>\n",
              "      <td>I feel a little hopeless. Anyone else? #hopele...</td>\n",
              "      <td>1</td>\n",
              "    </tr>\n",
              "    <tr>\n",
              "      <th>3</th>\n",
              "      <td>Which is more healthy? Hope, or hopelessness? ...</td>\n",
              "      <td>1</td>\n",
              "    </tr>\n",
              "    <tr>\n",
              "      <th>4</th>\n",
              "      <td>So someone tell me how do I get over #HOPELESS...</td>\n",
              "      <td>1</td>\n",
              "    </tr>\n",
              "    <tr>\n",
              "      <th>...</th>\n",
              "      <td>...</td>\n",
              "      <td>...</td>\n",
              "    </tr>\n",
              "    <tr>\n",
              "      <th>23651</th>\n",
              "      <td>@4_Feathers Oh! I get it! I think it's mandato...</td>\n",
              "      <td>0</td>\n",
              "    </tr>\n",
              "    <tr>\n",
              "      <th>23652</th>\n",
              "      <td>@4_hugh for the fifth time in the cinema AND I...</td>\n",
              "      <td>0</td>\n",
              "    </tr>\n",
              "    <tr>\n",
              "      <th>23653</th>\n",
              "      <td>@4_PACK i think i am in love with you</td>\n",
              "      <td>0</td>\n",
              "    </tr>\n",
              "    <tr>\n",
              "      <th>23654</th>\n",
              "      <td>@4_s_m_4 well i just made it back too. Really ...</td>\n",
              "      <td>0</td>\n",
              "    </tr>\n",
              "    <tr>\n",
              "      <th>23655</th>\n",
              "      <td>@4_Walls will check out the feedback on  http:...</td>\n",
              "      <td>0</td>\n",
              "    </tr>\n",
              "  </tbody>\n",
              "</table>\n",
              "<p>23656 rows × 2 columns</p>\n",
              "</div>"
            ],
            "text/plain": [
              "                                                    text  label\n",
              "0      Open discussion. Between the Transfer Portal a...      1\n",
              "1      Plenty of things are changing in my life and t...      1\n",
              "2      I feel a little hopeless. Anyone else? #hopele...      1\n",
              "3      Which is more healthy? Hope, or hopelessness? ...      1\n",
              "4      So someone tell me how do I get over #HOPELESS...      1\n",
              "...                                                  ...    ...\n",
              "23651  @4_Feathers Oh! I get it! I think it's mandato...      0\n",
              "23652  @4_hugh for the fifth time in the cinema AND I...      0\n",
              "23653             @4_PACK i think i am in love with you       0\n",
              "23654  @4_s_m_4 well i just made it back too. Really ...      0\n",
              "23655  @4_Walls will check out the feedback on  http:...      0\n",
              "\n",
              "[23656 rows x 2 columns]"
            ]
          },
          "metadata": {},
          "execution_count": 35
        }
      ]
    },
    {
      "cell_type": "code",
      "metadata": {
        "id": "8W-U8a9MXe7Y"
      },
      "source": [
        "# Expand Contraction\n",
        "cList = {\n",
        "  \"ain't\": \"am not\",\n",
        "  \"aren't\": \"are not\",\n",
        "  \"can't\": \"cannot\",\n",
        "  \"can't've\": \"cannot have\",\n",
        "  \"'cause\": \"because\",\n",
        "  \"could've\": \"could have\",\n",
        "  \"couldn't\": \"could not\",\n",
        "  \"couldn't've\": \"could not have\",\n",
        "  \"didn't\": \"did not\",\n",
        "  \"doesn't\": \"does not\",\n",
        "  \"don't\": \"do not\",\n",
        "  \"hadn't\": \"had not\",\n",
        "  \"hadn't've\": \"had not have\",\n",
        "  \"hasn't\": \"has not\",\n",
        "  \"haven't\": \"have not\",\n",
        "  \"he'd\": \"he would\",\n",
        "  \"he'd've\": \"he would have\",\n",
        "  \"he'll\": \"he will\",\n",
        "  \"he'll've\": \"he will have\",\n",
        "  \"he's\": \"he is\",\n",
        "  \"how'd\": \"how did\",\n",
        "  \"how'd'y\": \"how do you\",\n",
        "  \"how'll\": \"how will\",\n",
        "  \"how's\": \"how is\",\n",
        "  \"I'd\": \"I would\",\n",
        "  \"I'd've\": \"I would have\",\n",
        "  \"I'll\": \"I will\",\n",
        "  \"I'll've\": \"I will have\",\n",
        "  \"I'm\": \"I am\",\n",
        "  \"I've\": \"I have\",\n",
        "  \"isn't\": \"is not\",\n",
        "  \"it'd\": \"it had\",\n",
        "  \"it'd've\": \"it would have\",\n",
        "  \"it'll\": \"it will\",\n",
        "  \"it'll've\": \"it will have\",\n",
        "  \"it's\": \"it is\",\n",
        "  \"let's\": \"let us\",\n",
        "  \"ma'am\": \"madam\",\n",
        "  \"mayn't\": \"may not\",\n",
        "  \"might've\": \"might have\",\n",
        "  \"mightn't\": \"might not\",\n",
        "  \"mightn't've\": \"might not have\",\n",
        "  \"must've\": \"must have\",\n",
        "  \"mustn't\": \"must not\",\n",
        "  \"mustn't've\": \"must not have\",\n",
        "  \"needn't\": \"need not\",\n",
        "  \"needn't've\": \"need not have\",\n",
        "  \"o'clock\": \"of the clock\",\n",
        "  \"oughtn't\": \"ought not\",\n",
        "  \"oughtn't've\": \"ought not have\",\n",
        "  \"shan't\": \"shall not\",\n",
        "  \"sha'n't\": \"shall not\",\n",
        "  \"shan't've\": \"shall not have\",\n",
        "  \"she'd\": \"she would\",\n",
        "  \"she'd've\": \"she would have\",\n",
        "  \"she'll\": \"she will\",\n",
        "  \"she'll've\": \"she will have\",\n",
        "  \"she's\": \"she is\",\n",
        "  \"should've\": \"should have\",\n",
        "  \"shouldn't\": \"should not\",\n",
        "  \"shouldn't've\": \"should not have\",\n",
        "  \"so've\": \"so have\",\n",
        "  \"so's\": \"so is\",\n",
        "  \"that'd\": \"that would\",\n",
        "  \"that'd've\": \"that would have\",\n",
        "  \"that's\": \"that is\",\n",
        "  \"there'd\": \"there had\",\n",
        "  \"there'd've\": \"there would have\",\n",
        "  \"there's\": \"there is\",\n",
        "  \"they'd\": \"they would\",\n",
        "  \"they'd've\": \"they would have\",\n",
        "  \"they'll\": \"they will\",\n",
        "  \"they'll've\": \"they will have\",\n",
        "  \"they're\": \"they are\",\n",
        "  \"they've\": \"they have\",\n",
        "  \"to've\": \"to have\",\n",
        "  \"wasn't\": \"was not\",\n",
        "  \"we'd\": \"we had\",\n",
        "  \"we'd've\": \"we would have\",\n",
        "  \"we'll\": \"we will\",\n",
        "  \"we'll've\": \"we will have\",\n",
        "  \"we're\": \"we are\",\n",
        "  \"we've\": \"we have\",\n",
        "  \"weren't\": \"were not\",\n",
        "  \"what'll\": \"what will\",\n",
        "  \"what'll've\": \"what will have\",\n",
        "  \"what're\": \"what are\",\n",
        "  \"what's\": \"what is\",\n",
        "  \"what've\": \"what have\",\n",
        "  \"when's\": \"when is\",\n",
        "  \"when've\": \"when have\",\n",
        "  \"where'd\": \"where did\",\n",
        "  \"where's\": \"where is\",\n",
        "  \"where've\": \"where have\",\n",
        "  \"who'll\": \"who will\",\n",
        "  \"who'll've\": \"who will have\",\n",
        "  \"who's\": \"who is\",\n",
        "  \"who've\": \"who have\",\n",
        "  \"why's\": \"why is\",\n",
        "  \"why've\": \"why have\",\n",
        "  \"will've\": \"will have\",\n",
        "  \"won't\": \"will not\",\n",
        "  \"won't've\": \"will not have\",\n",
        "  \"would've\": \"would have\",\n",
        "  \"wouldn't\": \"would not\",\n",
        "  \"wouldn't've\": \"would not have\",\n",
        "  \"y'all\": \"you all\",\n",
        "  \"y'alls\": \"you alls\",\n",
        "  \"y'all'd\": \"you all would\",\n",
        "  \"y'all'd've\": \"you all would have\",\n",
        "  \"y'all're\": \"you all are\",\n",
        "  \"y'all've\": \"you all have\",\n",
        "  \"you'd\": \"you had\",\n",
        "  \"you'd've\": \"you would have\",\n",
        "  \"you'll\": \"you you will\",\n",
        "  \"you'll've\": \"you you will have\",\n",
        "  \"you're\": \"you are\",\n",
        "  \"you've\": \"you have\"\n",
        "}\n",
        "\n",
        "c_re = re.compile('(%s)' % '|'.join(cList.keys()))\n",
        "\n",
        "def expandContractions(text, c_re=c_re):\n",
        "    def replace(match):\n",
        "        return cList[match.group(0)]\n",
        "    return c_re.sub(replace, text)"
      ],
      "execution_count": 36,
      "outputs": []
    },
    {
      "cell_type": "code",
      "metadata": {
        "id": "J6aURoUBzYTX"
      },
      "source": [
        "## Function to perform stepwise cleaning process\n",
        "def tweets_cleaner(tweets):\n",
        "  cleaned_tweets = []\n",
        "  for tweet in tweets:\n",
        "    tweet = tweet.lower() #lowercase\n",
        "    \n",
        "    # if url links then don't append to avoid news articles\n",
        "    # also check tweet length, save those > 5 \n",
        "    if re.match(\"(\\w+:\\/\\/\\S+)\", tweet) == None and len(tweet) > 5:\n",
        "    \n",
        "      #remove hashtag, @mention, emoji and image URLs\n",
        "      tweet = ' '.join(re.sub(\"(@[A-Za-z0-9]+)|(\\#[A-Za-z0-9]+)|(<Emoji:.*>)|(pic\\.twitter\\.com\\/.*)\", \" \", tweet).split())\n",
        "\n",
        "      #fix weirdly encoded texts\n",
        "      tweet = ftfy.fix_text(tweet)\n",
        "\n",
        "      #expand contraction\n",
        "      tweet = expandContractions(tweet)\n",
        "\n",
        "\n",
        "      #remove punctuation\n",
        "      tweet = ' '.join(re.sub(\"([^0-9A-Za-z \\t])\", \" \", tweet).split())\n",
        "\n",
        "      #stop words and lemmatization\n",
        "      stop_words = set(stopwords.words('english'))\n",
        "      word_tokens = nltk.word_tokenize(tweet)\n",
        "\n",
        "      lemmatizer=WordNetLemmatizer()\n",
        "      filtered_sentence = [lemmatizer.lemmatize(word) for word in word_tokens if not word in stop_words]\n",
        "      tweet = ' '.join(filtered_sentence) # join words with a space in between them\n",
        "\n",
        "      cleaned_tweets.append(tweet)\n",
        "\n",
        "  return cleaned_tweets\n"
      ],
      "execution_count": 37,
      "outputs": []
    },
    {
      "cell_type": "markdown",
      "metadata": {
        "id": "zOWGGVMF7gY2"
      },
      "source": [
        "## Data exploration:"
      ]
    },
    {
      "cell_type": "markdown",
      "metadata": {
        "id": "0LreQ-h3Fwkm"
      },
      "source": [
        "To get the most common words used to depressive dataset, the POS-tag (Parts of Speech tagging) module in the NLTK library was used. Using the WordCloud library, one can generate a Word Cloud based on word frequency and superimpose these words on any image. In this case, I used the Twitter logo and Matplotlib to display the image. The Word Cloud shows the words with higher frequency in bigger text size while the \"not-so\" common words are in smaller text sizes."
      ]
    },
    {
      "cell_type": "code",
      "metadata": {
        "id": "OQwpOceO6vW0"
      },
      "source": [
        "# function to obtain adjectives from tweets\n",
        "def getAdjectives(tweet):\n",
        "    tweet = nltk.word_tokenize(tweet)  # convert string to tokens\n",
        "    tweet = [word for (word, tag) in pos_tag(tweet)\n",
        "             if tag == \"JJ\"]  # pos_tag module in NLTK library\n",
        "    return \" \".join(tweet)  # join words with a space in between them"
      ],
      "execution_count": 90,
      "outputs": []
    },
    {
      "cell_type": "code",
      "metadata": {
        "id": "llP3o6gj-0Ap"
      },
      "source": [
        "# Apply getAdjectives function to the processed tweets \n",
        "# Extract all tweets into one long string with each word separate with a \"space\"\n",
        "tweets_long_string = [getAdjectives(x) for x in X_d]\n",
        "tweets_long_string = \" \".join(tweets_long_string)"
      ],
      "execution_count": 91,
      "outputs": []
    },
    {
      "cell_type": "code",
      "metadata": {
        "colab": {
          "base_uri": "https://localhost:8080/",
          "height": 597
        },
        "id": "E7fZchNJ2BV3",
        "outputId": "da48ee08-93d4-4ebe-cb5f-25912374188d"
      },
      "source": [
        "# Import Twitter Logo\n",
        "image = np.array(Image.open('/content/drive/MyDrive/NLP/Depression_Detection/data_cleaning/logo.jpeg'))\n",
        "    \n",
        "fig = plt.figure() # Instantiate the figure object\n",
        "fig.set_figwidth(14) # set width\n",
        "fig.set_figheight(18) # set height\n",
        "\n",
        "plt.imshow(image, cmap=plt.cm.gray, interpolation='bilinear') # Display data as an image\n",
        "plt.axis('off') # Remove axis\n",
        "plt.show() # Display image"
      ],
      "execution_count": 96,
      "outputs": [
        {
          "output_type": "display_data",
          "data": {
            "image/png": "[encoded data removed]",
            "text/plain": [
              "<Figure size 1008x1296 with 1 Axes>"
            ]
          },
          "metadata": {
            "needs_background": "light"
          }
        }
      ]
    },
    {
      "cell_type": "code",
      "metadata": {
        "id": "GHDleOcT-Nb4"
      },
      "source": [
        "# Create function to generate the blue colour for the Word CLoud\n",
        "\n",
        "def blue_color_func(word, font_size, position, orientation, random_state=None,**kwargs):\n",
        "    return \"hsl(210, 100%%, %d%%)\" % random.randint(50, 70)"
      ],
      "execution_count": 97,
      "outputs": []
    },
    {
      "cell_type": "code",
      "metadata": {
        "colab": {
          "base_uri": "https://localhost:8080/",
          "height": 597
        },
        "id": "1_G_e_0c89DP",
        "outputId": "5197224d-f678-4bfb-fa5e-6dd9352506c7"
      },
      "source": [
        "# Instantiate the Twitter word cloud object\n",
        "twitter_wc = WordCloud(background_color='white', max_words=1500, mask=image)\n",
        "\n",
        "# generate the word cloud\n",
        "twitter_wc.generate(tweets_long_string)\n",
        "\n",
        "# display the word cloud\n",
        "fig = plt.figure()\n",
        "fig.set_figwidth(14)  # set width\n",
        "fig.set_figheight(18)  # set height\n",
        "\n",
        "plt.imshow(twitter_wc.recolor(color_func=blue_color_func, random_state=3),\n",
        "           interpolation=\"bilinear\")\n",
        "plt.axis('off')\n",
        "plt.show()"
      ],
      "execution_count": 98,
      "outputs": [
        {
          "output_type": "display_data",
          "data": {
            "image/png": "[encoded data removed]",
            "text/plain": [
              "<Figure size 1008x1296 with 1 Axes>"
            ]
          },
          "metadata": {
            "needs_background": "light"
          }
        }
      ]
    },
    {
      "cell_type": "code",
      "metadata": {
        "colab": {
          "base_uri": "https://localhost:8080/"
        },
        "id": "KLxTVrTDDboh",
        "outputId": "7f3bed2a-a96f-4e3a-c57d-7fce87e46c9c"
      },
      "source": [
        "twitter_wc.to_file(\"/content/drive/MyDrive/NLP/Depression_Detection/data_cleaning/wordcloud.png\") #save to a png file"
      ],
      "execution_count": 99,
      "outputs": [
        {
          "output_type": "execute_result",
          "data": {
            "text/plain": [
              "<wordcloud.wordcloud.WordCloud at 0x7f12130ba190>"
            ]
          },
          "metadata": {},
          "execution_count": 99
        }
      ]
    },
    {
      "cell_type": "markdown",
      "metadata": {
        "id": "LLu2I7f3H_tt"
      },
      "source": [
        "**Analyzing Top Words in the Word Cloud**"
      ]
    },
    {
      "cell_type": "code",
      "metadata": {
        "id": "YlqKvsg7HT2r"
      },
      "source": [
        "# Combine all words into a list\n",
        "tweets_long_string = [getAdjectives(x) for x in X_d]\n",
        "tweets_list=[]\n",
        "for item in tweets_long_string:\n",
        "    item = item.split()\n",
        "    for i in item:\n",
        "        tweets_list.append(i)"
      ],
      "execution_count": 100,
      "outputs": []
    },
    {
      "cell_type": "code",
      "metadata": {
        "id": "BablBAqDJ0U9"
      },
      "source": [
        "# Use the Built-in Python Collections module to determine Word frequency\n",
        "from collections import Counter\n",
        "counts = Counter(tweets_list)\n",
        "df = pd.DataFrame.from_dict(counts, orient='index').reset_index()\n",
        "df.columns = ['Words', 'Count']\n",
        "df.sort_values(by='Count', ascending=False, inplace=True)"
      ],
      "execution_count": 101,
      "outputs": []
    },
    {
      "cell_type": "code",
      "metadata": {
        "colab": {
          "base_uri": "https://localhost:8080/",
          "height": 355
        },
        "id": "m0xZ6ESTJ-Xk",
        "outputId": "55972f89-8386-4912-a78e-5f283fa16a54"
      },
      "source": [
        "df.head(10)  # Check dataframe first 10 rows"
      ],
      "execution_count": 102,
      "outputs": [
        {
          "output_type": "execute_result",
          "data": {
            "text/html": [
              "<div>\n",
              "<style scoped>\n",
              "    .dataframe tbody tr th:only-of-type {\n",
              "        vertical-align: middle;\n",
              "    }\n",
              "\n",
              "    .dataframe tbody tr th {\n",
              "        vertical-align: top;\n",
              "    }\n",
              "\n",
              "    .dataframe thead th {\n",
              "        text-align: right;\n",
              "    }\n",
              "</style>\n",
              "<table border=\"1\" class=\"dataframe\">\n",
              "  <thead>\n",
              "    <tr style=\"text-align: right;\">\n",
              "      <th></th>\n",
              "      <th>Words</th>\n",
              "      <th>Count</th>\n",
              "    </tr>\n",
              "  </thead>\n",
              "  <tbody>\n",
              "    <tr>\n",
              "      <th>86</th>\n",
              "      <td>mental</td>\n",
              "      <td>906</td>\n",
              "    </tr>\n",
              "    <tr>\n",
              "      <th>88</th>\n",
              "      <td>good</td>\n",
              "      <td>483</td>\n",
              "    </tr>\n",
              "    <tr>\n",
              "      <th>26</th>\n",
              "      <td>u</td>\n",
              "      <td>477</td>\n",
              "    </tr>\n",
              "    <tr>\n",
              "      <th>9</th>\n",
              "      <td>much</td>\n",
              "      <td>316</td>\n",
              "    </tr>\n",
              "    <tr>\n",
              "      <th>179</th>\n",
              "      <td>new</td>\n",
              "      <td>300</td>\n",
              "    </tr>\n",
              "    <tr>\n",
              "      <th>31</th>\n",
              "      <td>many</td>\n",
              "      <td>272</td>\n",
              "    </tr>\n",
              "    <tr>\n",
              "      <th>94</th>\n",
              "      <td>last</td>\n",
              "      <td>246</td>\n",
              "    </tr>\n",
              "    <tr>\n",
              "      <th>19</th>\n",
              "      <td>bad</td>\n",
              "      <td>238</td>\n",
              "    </tr>\n",
              "    <tr>\n",
              "      <th>41</th>\n",
              "      <td>hard</td>\n",
              "      <td>209</td>\n",
              "    </tr>\n",
              "    <tr>\n",
              "      <th>50</th>\n",
              "      <td>happy</td>\n",
              "      <td>209</td>\n",
              "    </tr>\n",
              "  </tbody>\n",
              "</table>\n",
              "</div>"
            ],
            "text/plain": [
              "      Words  Count\n",
              "86   mental    906\n",
              "88     good    483\n",
              "26        u    477\n",
              "9      much    316\n",
              "179     new    300\n",
              "31     many    272\n",
              "94     last    246\n",
              "19      bad    238\n",
              "41     hard    209\n",
              "50    happy    209"
            ]
          },
          "metadata": {},
          "execution_count": 102
        }
      ]
    },
    {
      "cell_type": "code",
      "metadata": {
        "id": "Wqe2ddMsKwLs"
      },
      "source": [
        ""
      ],
      "execution_count": null,
      "outputs": []
    },
    {
      "cell_type": "markdown",
      "metadata": {
        "id": "NDsQ0r4c1m4_"
      },
      "source": [
        "## Cleaning combined dataset"
      ]
    },
    {
      "cell_type": "code",
      "metadata": {
        "id": "n7xa-eIw200r"
      },
      "source": [
        "tweets_arr = [x for x in df_all['text']]"
      ],
      "execution_count": 43,
      "outputs": []
    },
    {
      "cell_type": "code",
      "metadata": {
        "id": "-u58yHXO3nIc"
      },
      "source": [
        "corpus = tweets_cleaner(tweets_arr)"
      ],
      "execution_count": 44,
      "outputs": []
    },
    {
      "cell_type": "code",
      "metadata": {
        "colab": {
          "base_uri": "https://localhost:8080/"
        },
        "id": "ZAIZY7XM8z3u",
        "outputId": "9b17001f-2a82-43b9-edb3-c575dbbd46f2"
      },
      "source": [
        "corpus[:20]"
      ],
      "execution_count": 45,
      "outputs": [
        {
          "output_type": "execute_result",
          "data": {
            "text/plain": [
              "['open discussion transfer portal nil become obsolete organization governing body',\n",
              " 'plenty thing changing life life around one thing change',\n",
              " 'feel little hopeless anyone else',\n",
              " 'healthy hope hopelessness',\n",
              " 'someone tell get live world surrounded people help u much better son inability care would likely give hopelessness darkness',\n",
              " 'parent deserves experience indian legal system',\n",
              " 'also look lot like feel like worse place sometimes',\n",
              " 'glad tackling huge professional shortage facing saddened really living post pandemic world palpable every level department system',\n",
              " 'know someone depressed please resolve never ask straightforward response bad situation depression like weather try understand blackness lethargy loneliness going',\n",
              " 'every year pass pain remains painful struggle silently world busy enjoying life emotional support pain',\n",
              " 'life expect thing favor take break go back nothing one feel misplaced like turtle horse race',\n",
              " 'holiday bring sense loss family tradition connection loss facebook',\n",
              " 'must good someone side',\n",
              " 'without air',\n",
              " 'version',\n",
              " 'black ppl friend fr friend b talking disrespectful towards u u around white ppl respect black friend ig im stuck tha middle smh',\n",
              " 'acknowledge feeling loneliness reach support cole egger',\n",
              " 'confession time crushing bruising depression today many people crave talk',\n",
              " 'later came learn community connecting others might felt alone situation never alone experience cole egger',\n",
              " 'living alien pluto landed mar got chance stroll jupiter fun saturn almost dead earth currently residing moon']"
            ]
          },
          "metadata": {},
          "execution_count": 45
        }
      ]
    },
    {
      "cell_type": "markdown",
      "metadata": {
        "id": "MQvmbZAH1cfL"
      },
      "source": [
        "## Cleaning datasets separately"
      ]
    },
    {
      "cell_type": "markdown",
      "metadata": {
        "id": "fQcZq-IH1LQD"
      },
      "source": [
        "Clean random tweets and depressive tweets with tweets_cleaner function."
      ]
    },
    {
      "cell_type": "code",
      "metadata": {
        "id": "_LL5ucWvhM6x"
      },
      "source": [
        "dep_tweets_arr = [x for x in new_dep_df['text']]"
      ],
      "execution_count": 241,
      "outputs": []
    },
    {
      "cell_type": "code",
      "metadata": {
        "id": "5EXnRcVyiRb6"
      },
      "source": [
        "X_d = tweets_cleaner(dep_tweets_arr)"
      ],
      "execution_count": 242,
      "outputs": []
    },
    {
      "cell_type": "code",
      "metadata": {
        "id": "723PPvWu0Nn1"
      },
      "source": [
        "rand_tweets_arr = [x for x in new_rand_df['SentimentText']]"
      ],
      "execution_count": 243,
      "outputs": []
    },
    {
      "cell_type": "code",
      "metadata": {
        "id": "v8QMKuEq1XJo"
      },
      "source": [
        "X_r = tweets_cleaner(rand_tweets_arr)"
      ],
      "execution_count": 244,
      "outputs": []
    },
    {
      "cell_type": "code",
      "metadata": {
        "id": "NrxP5U7g7IEo"
      },
      "source": [
        ""
      ],
      "execution_count": null,
      "outputs": []
    },
    {
      "cell_type": "markdown",
      "metadata": {
        "id": "D7qEAvQ3lT_D"
      },
      "source": [
        "## TF-IDF "
      ]
    },
    {
      "cell_type": "code",
      "metadata": {
        "id": "MNpdQpzh7IHE"
      },
      "source": [
        "# Creating the TF-IDF model\n",
        "from sklearn.feature_extraction.text import TfidfVectorizer\n",
        "cv = TfidfVectorizer()\n",
        "X_tfidf = cv.fit_transform(corpus).toarray()"
      ],
      "execution_count": 46,
      "outputs": []
    },
    {
      "cell_type": "code",
      "metadata": {
        "colab": {
          "base_uri": "https://localhost:8080/"
        },
        "id": "gAqJK5UK7IKm",
        "outputId": "76a2e323-f074-4429-e397-c3654c037647"
      },
      "source": [
        "X_tfidf.shape"
      ],
      "execution_count": 48,
      "outputs": [
        {
          "output_type": "execute_result",
          "data": {
            "text/plain": [
              "(23656, 24607)"
            ]
          },
          "metadata": {},
          "execution_count": 48
        }
      ]
    },
    {
      "cell_type": "code",
      "metadata": {
        "id": "JVMcepGU_nxY"
      },
      "source": [
        "y = df_all['label']"
      ],
      "execution_count": 49,
      "outputs": []
    },
    {
      "cell_type": "markdown",
      "metadata": {
        "id": "oirCPQN__yxE"
      },
      "source": [
        "## Spliting data to train and test datasets"
      ]
    },
    {
      "cell_type": "code",
      "metadata": {
        "id": "D7IFNXaF_4-d"
      },
      "source": [
        "from sklearn.model_selection import train_test_split\n",
        "\n",
        "X_train, X_test, y_train,y_test = train_test_split(X_tfidf, y, test_size=0.2, random_state=42)"
      ],
      "execution_count": 52,
      "outputs": []
    },
    {
      "cell_type": "code",
      "metadata": {
        "colab": {
          "base_uri": "https://localhost:8080/"
        },
        "id": "v15rT6tkBMUy",
        "outputId": "f38bb3a7-38ff-4325-94ba-a8cb0543ffb5"
      },
      "source": [
        "X_train.shape, X_test.shape, y_train.shape, y_test.shape"
      ],
      "execution_count": 53,
      "outputs": [
        {
          "output_type": "execute_result",
          "data": {
            "text/plain": [
              "((18924, 24607), (4732, 24607), (18924,), (4732,))"
            ]
          },
          "metadata": {},
          "execution_count": 53
        }
      ]
    },
    {
      "cell_type": "code",
      "metadata": {
        "id": "lbxtlTfLBVtZ"
      },
      "source": [
        ""
      ],
      "execution_count": null,
      "outputs": []
    },
    {
      "cell_type": "markdown",
      "metadata": {
        "id": "p_4GhXL-EfZt"
      },
      "source": [
        "## Logistic Regression"
      ]
    },
    {
      "cell_type": "code",
      "metadata": {
        "id": "t8Z4XdzpEnA0"
      },
      "source": [
        "## Import the model\n",
        "from sklearn.linear_model import LogisticRegression"
      ],
      "execution_count": 54,
      "outputs": []
    },
    {
      "cell_type": "code",
      "metadata": {
        "colab": {
          "base_uri": "https://localhost:8080/"
        },
        "id": "-92oGPOYJ5Hz",
        "outputId": "ad85f8b2-429b-4315-9231-92731c4234fe"
      },
      "source": [
        "## creating the instance of the models\n",
        "lr = LogisticRegression(solver='liblinear', penalty='l1')\n",
        "# fitting the model\n",
        "print(lr.fit(X_train, y_train))"
      ],
      "execution_count": 55,
      "outputs": [
        {
          "output_type": "stream",
          "name": "stdout",
          "text": [
            "LogisticRegression(C=1.0, class_weight=None, dual=False, fit_intercept=True,\n",
            "                   intercept_scaling=1, l1_ratio=None, max_iter=100,\n",
            "                   multi_class='auto', n_jobs=None, penalty='l1',\n",
            "                   random_state=None, solver='liblinear', tol=0.0001, verbose=0,\n",
            "                   warm_start=False)\n"
          ]
        }
      ]
    },
    {
      "cell_type": "code",
      "metadata": {
        "id": "gcBQDboiJ-ht"
      },
      "source": [
        "from sklearn.metrics import confusion_matrix, accuracy_score\n",
        "\n",
        "def conf_matrix_acc(y_true, y_pred):\n",
        "    print(f'Confusion matrix\\n:{confusion_matrix(y_true, y_pred)}\\n')\n",
        "    print(f'Accuracy score is : {accuracy_score(y_true, y_pred)}')"
      ],
      "execution_count": 56,
      "outputs": []
    },
    {
      "cell_type": "code",
      "metadata": {
        "id": "mnXaPLNOKLmo"
      },
      "source": [
        "y_pred_lr = lr.predict(X_test)"
      ],
      "execution_count": 57,
      "outputs": []
    },
    {
      "cell_type": "code",
      "metadata": {
        "colab": {
          "base_uri": "https://localhost:8080/"
        },
        "id": "-ZNJKU5TKQmq",
        "outputId": "2781c2e8-e6e3-4bfa-81b0-c0bbd6a43029"
      },
      "source": [
        "conf_matrix_acc(y_test,y_pred_lr)"
      ],
      "execution_count": 58,
      "outputs": [
        {
          "output_type": "stream",
          "name": "stdout",
          "text": [
            "Confusion matrix\n",
            ":[[2207  244]\n",
            " [ 488 1793]]\n",
            "\n",
            "Accuracy score is : 0.8453085376162299\n"
          ]
        }
      ]
    },
    {
      "cell_type": "code",
      "metadata": {
        "id": "1h4X8r9nKVZo"
      },
      "source": [
        "probs = lr.predict_proba(X_test)"
      ],
      "execution_count": 59,
      "outputs": []
    },
    {
      "cell_type": "code",
      "metadata": {
        "id": "OM_PcWufM_pT"
      },
      "source": [
        "import sklearn.metrics as skm\n",
        "fpr, tpr, _ = skm.roc_curve(y_test, probs[:,1])"
      ],
      "execution_count": 61,
      "outputs": []
    },
    {
      "cell_type": "code",
      "metadata": {
        "colab": {
          "base_uri": "https://localhost:8080/",
          "height": 312
        },
        "id": "PZZ4xR1ENcVq",
        "outputId": "e1a34937-78b4-4aef-b793-e6ab23944c0f"
      },
      "source": [
        "## ROC curve\n",
        "import matplotlib.pyplot as plt\n",
        "plt.xlabel(\"False Positive Rate\")\n",
        "plt.ylabel(\"True Positive Rate\")\n",
        "plt.title(\"Receiver operating characteristic example\")\n",
        "plt.plot(fpr, tpr, 'go-')"
      ],
      "execution_count": 69,
      "outputs": [
        {
          "output_type": "execute_result",
          "data": {
            "text/plain": [
              "[<matplotlib.lines.Line2D at 0x7fb2bf068310>]"
            ]
          },
          "metadata": {},
          "execution_count": 69
        },
        {
          "output_type": "display_data",
          "data": {
            "image/png": "[encoded data removed]",
            "text/plain": [
              "<Figure size 432x288 with 1 Axes>"
            ]
          },
          "metadata": {
            "needs_background": "light"
          }
        }
      ]
    },
    {
      "cell_type": "code",
      "metadata": {
        "colab": {
          "base_uri": "https://localhost:8080/"
        },
        "id": "l_KecYBfODDM",
        "outputId": "f5f441eb-6685-4663-874b-3664c507583e"
      },
      "source": [
        "## AUC score\n",
        "skm.roc_auc_score(y_test, probs[:,1])"
      ],
      "execution_count": 63,
      "outputs": [
        {
          "output_type": "execute_result",
          "data": {
            "text/plain": [
              "0.9235368326610599"
            ]
          },
          "metadata": {},
          "execution_count": 63
        }
      ]
    },
    {
      "cell_type": "code",
      "metadata": {
        "id": "PAiwFn4iOPST"
      },
      "source": [
        ""
      ],
      "execution_count": null,
      "outputs": []
    }
  ]
}