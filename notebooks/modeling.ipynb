{
  "nbformat": 4,
  "nbformat_minor": 0,
  "metadata": {
    "colab": {
      "name": "modeling.ipynb",
      "provenance": []
    },
    "kernelspec": {
      "name": "python3",
      "display_name": "Python 3"
    },
    "language_info": {
      "name": "python"
    }
  },
  "cells": [
    {
      "cell_type": "code",
      "metadata": {
        "colab": {
          "base_uri": "https://localhost:8080/"
        },
        "id": "EnBV1jN248Ug",
        "outputId": "8fcc4c7a-9bce-4689-cc0e-aeb1972ff78a"
      },
      "source": [
        "from google.colab import drive\n",
        "drive.mount('/content/drive')"
      ],
      "execution_count": 1,
      "outputs": [
        {
          "output_type": "stream",
          "name": "stdout",
          "text": [
            "Mounted at /content/drive\n"
          ]
        }
      ]
    },
    {
      "cell_type": "code",
      "metadata": {
        "colab": {
          "base_uri": "https://localhost:8080/"
        },
        "id": "SnABUJ5m_QkV",
        "outputId": "71f66cb0-3909-42b9-9212-8e28ae57f53e"
      },
      "source": [
        "!pip install -qqq lime"
      ],
      "execution_count": 3,
      "outputs": [
        {
          "output_type": "stream",
          "name": "stdout",
          "text": [
            "\u001b[?25l\r\u001b[K     |█▏                              | 10 kB 31.0 MB/s eta 0:00:01\r\u001b[K     |██▍                             | 20 kB 32.1 MB/s eta 0:00:01\r\u001b[K     |███▋                            | 30 kB 20.6 MB/s eta 0:00:01\r\u001b[K     |████▊                           | 40 kB 16.9 MB/s eta 0:00:01\r\u001b[K     |██████                          | 51 kB 7.1 MB/s eta 0:00:01\r\u001b[K     |███████▏                        | 61 kB 7.5 MB/s eta 0:00:01\r\u001b[K     |████████▎                       | 71 kB 6.7 MB/s eta 0:00:01\r\u001b[K     |█████████▌                      | 81 kB 7.5 MB/s eta 0:00:01\r\u001b[K     |██████████▊                     | 92 kB 7.6 MB/s eta 0:00:01\r\u001b[K     |███████████▉                    | 102 kB 6.7 MB/s eta 0:00:01\r\u001b[K     |█████████████                   | 112 kB 6.7 MB/s eta 0:00:01\r\u001b[K     |██████████████▎                 | 122 kB 6.7 MB/s eta 0:00:01\r\u001b[K     |███████████████▌                | 133 kB 6.7 MB/s eta 0:00:01\r\u001b[K     |████████████████▋               | 143 kB 6.7 MB/s eta 0:00:01\r\u001b[K     |█████████████████▉              | 153 kB 6.7 MB/s eta 0:00:01\r\u001b[K     |███████████████████             | 163 kB 6.7 MB/s eta 0:00:01\r\u001b[K     |████████████████████▏           | 174 kB 6.7 MB/s eta 0:00:01\r\u001b[K     |█████████████████████▍          | 184 kB 6.7 MB/s eta 0:00:01\r\u001b[K     |██████████████████████▋         | 194 kB 6.7 MB/s eta 0:00:01\r\u001b[K     |███████████████████████▊        | 204 kB 6.7 MB/s eta 0:00:01\r\u001b[K     |█████████████████████████       | 215 kB 6.7 MB/s eta 0:00:01\r\u001b[K     |██████████████████████████▏     | 225 kB 6.7 MB/s eta 0:00:01\r\u001b[K     |███████████████████████████▍    | 235 kB 6.7 MB/s eta 0:00:01\r\u001b[K     |████████████████████████████▌   | 245 kB 6.7 MB/s eta 0:00:01\r\u001b[K     |█████████████████████████████▊  | 256 kB 6.7 MB/s eta 0:00:01\r\u001b[K     |███████████████████████████████ | 266 kB 6.7 MB/s eta 0:00:01\r\u001b[K     |████████████████████████████████| 275 kB 6.7 MB/s \n",
            "\u001b[?25h  Building wheel for lime (setup.py) ... \u001b[?25l\u001b[?25hdone\n"
          ]
        }
      ]
    },
    {
      "cell_type": "code",
      "metadata": {
        "id": "KF1Wqxyj5IqV"
      },
      "source": [
        "## Import required libraries\n",
        "\n",
        "## warnings\n",
        "import warnings\n",
        "warnings.filterwarnings(\"ignore\")\n",
        "\n",
        "## for data\n",
        "import numpy as np\n",
        "import pandas as pd\n",
        "\n",
        "## for plotting\n",
        "import matplotlib.pyplot as plt\n",
        "import seaborn as sns\n",
        "\n",
        "## Bag of Words\n",
        "from sklearn.feature_extraction.text import CountVectorizer\n",
        "\n",
        "## TF-IDF \n",
        "from sklearn.feature_extraction.text import TfidfVectorizer\n",
        "\n",
        "## T-Sne\n",
        "from yellowbrick.text import TSNEVisualizer\n",
        "from sklearn import manifold\n",
        "\n",
        "## Train-Test Split\n",
        "from sklearn.model_selection import train_test_split\n",
        "\n",
        "## Feature selection\n",
        "from sklearn import feature_selection\n",
        "\n",
        "## Logistic Regression\n",
        "from sklearn.pipeline import Pipeline\n",
        "import sklearn.metrics as skm\n",
        "from sklearn.metrics import confusion_matrix, accuracy_score\n",
        "from sklearn.linear_model import LogisticRegression\n",
        "\n",
        "## for saving model\n",
        "import pickle\n",
        "\n",
        "## for explainer\n",
        "#from lime import lime_text\n",
        "\n",
        "## for word embedding\n",
        "import gensim\n",
        "import gensim.downloader as gensim_api\n",
        "from gensim.models import Word2Vec\n",
        "from gensim.models import KeyedVectors\n",
        "from keras.preprocessing.text import Tokenizer\n",
        "from keras.preprocessing.sequence import pad_sequences\n",
        "\n",
        "## for deep learning\n",
        "from keras.models import Model, Sequential\n",
        "from keras.callbacks import EarlyStopping, ModelCheckpoint\n",
        "from keras.layers import Conv1D, Dense, Input, LSTM, Embedding, Dropout, Activation, MaxPooling1D\n",
        "from tensorflow.keras import models, layers, preprocessing as kprocessing\n",
        "from tensorflow.keras import backend as K\n",
        "\n",
        "\n",
        "## for bert language model\n",
        "#import transformers"
      ],
      "execution_count": 2,
      "outputs": []
    },
    {
      "cell_type": "code",
      "metadata": {
        "id": "aX_vtWbl5Yg2"
      },
      "source": [
        "df_all = pd.read_csv(\"/content/drive/MyDrive/NLP/Depression_Detection/data_cleaning/processed_data/processed_data.csv\",\n",
        "                     sep='\\t', encoding='utf-8')"
      ],
      "execution_count": 3,
      "outputs": []
    },
    {
      "cell_type": "code",
      "metadata": {
        "colab": {
          "base_uri": "https://localhost:8080/",
          "height": 202
        },
        "id": "aIm447Yi5nwR",
        "outputId": "e52060d4-066e-4ae2-855e-2f2f928c6615"
      },
      "source": [
        "df_all.head()"
      ],
      "execution_count": 4,
      "outputs": [
        {
          "output_type": "execute_result",
          "data": {
            "text/html": [
              "<div>\n",
              "<style scoped>\n",
              "    .dataframe tbody tr th:only-of-type {\n",
              "        vertical-align: middle;\n",
              "    }\n",
              "\n",
              "    .dataframe tbody tr th {\n",
              "        vertical-align: top;\n",
              "    }\n",
              "\n",
              "    .dataframe thead th {\n",
              "        text-align: right;\n",
              "    }\n",
              "</style>\n",
              "<table border=\"1\" class=\"dataframe\">\n",
              "  <thead>\n",
              "    <tr style=\"text-align: right;\">\n",
              "      <th></th>\n",
              "      <th>text</th>\n",
              "      <th>label</th>\n",
              "      <th>clean_text</th>\n",
              "    </tr>\n",
              "  </thead>\n",
              "  <tbody>\n",
              "    <tr>\n",
              "      <th>0</th>\n",
              "      <td>Open discussion. Between the Transfer Portal a...</td>\n",
              "      <td>1</td>\n",
              "      <td>open discussion transfer portal nil become obs...</td>\n",
              "    </tr>\n",
              "    <tr>\n",
              "      <th>1</th>\n",
              "      <td>Plenty of things are changing in my life and t...</td>\n",
              "      <td>1</td>\n",
              "      <td>plenty thing changing life life around one thi...</td>\n",
              "    </tr>\n",
              "    <tr>\n",
              "      <th>2</th>\n",
              "      <td>I feel a little hopeless. Anyone else? #hopele...</td>\n",
              "      <td>1</td>\n",
              "      <td>feel little hopeless anyone else</td>\n",
              "    </tr>\n",
              "    <tr>\n",
              "      <th>3</th>\n",
              "      <td>Which is more healthy? Hope, or hopelessness? ...</td>\n",
              "      <td>1</td>\n",
              "      <td>healthy hope hopelessness</td>\n",
              "    </tr>\n",
              "    <tr>\n",
              "      <th>4</th>\n",
              "      <td>So someone tell me how do I get over #HOPELESS...</td>\n",
              "      <td>1</td>\n",
              "      <td>someone tell get live world surrounded people ...</td>\n",
              "    </tr>\n",
              "  </tbody>\n",
              "</table>\n",
              "</div>"
            ],
            "text/plain": [
              "                                                text  ...                                         clean_text\n",
              "0  Open discussion. Between the Transfer Portal a...  ...  open discussion transfer portal nil become obs...\n",
              "1  Plenty of things are changing in my life and t...  ...  plenty thing changing life life around one thi...\n",
              "2  I feel a little hopeless. Anyone else? #hopele...  ...                   feel little hopeless anyone else\n",
              "3  Which is more healthy? Hope, or hopelessness? ...  ...                          healthy hope hopelessness\n",
              "4  So someone tell me how do I get over #HOPELESS...  ...  someone tell get live world surrounded people ...\n",
              "\n",
              "[5 rows x 3 columns]"
            ]
          },
          "metadata": {},
          "execution_count": 4
        }
      ]
    },
    {
      "cell_type": "markdown",
      "metadata": {
        "id": "ufT8k5uYv_DM"
      },
      "source": [
        "## Bag of Words"
      ]
    },
    {
      "cell_type": "markdown",
      "metadata": {
        "id": "2OkutBj4wCTT"
      },
      "source": [
        "Bag of Words will create a table with words as attributes(columns) and sentences as observations(rows). "
      ]
    },
    {
      "cell_type": "markdown",
      "metadata": {
        "id": "vRsYhCUlxAa9"
      },
      "source": [
        "**CountVectorizer**\n",
        "\n",
        "It Convert a collection of text documents to a matrix of token counts. The value of each cell is nothing but the count of the word in that particular text sample. "
      ]
    },
    {
      "cell_type": "code",
      "metadata": {
        "colab": {
          "base_uri": "https://localhost:8080/"
        },
        "id": "i-Sso8Jcxk5g",
        "outputId": "c7a93fbd-b032-46df-e106-be0e6c45d6fd"
      },
      "source": [
        "# Creating the Bag of Words model\n",
        "count_vect = CountVectorizer()\n",
        "X_bw = count_vect.fit_transform(df_all['clean_text'].values.astype('U')).toarray()\n",
        "X_bw"
      ],
      "execution_count": 7,
      "outputs": [
        {
          "output_type": "execute_result",
          "data": {
            "text/plain": [
              "array([[0, 0, 0, ..., 0, 0, 0],\n",
              "       [0, 0, 0, ..., 0, 0, 0],\n",
              "       [0, 0, 0, ..., 0, 0, 0],\n",
              "       ...,\n",
              "       [0, 0, 0, ..., 0, 0, 0],\n",
              "       [0, 0, 0, ..., 0, 0, 0],\n",
              "       [0, 0, 0, ..., 0, 0, 0]])"
            ]
          },
          "metadata": {},
          "execution_count": 7
        }
      ]
    },
    {
      "cell_type": "markdown",
      "metadata": {
        "id": "D7qEAvQ3lT_D"
      },
      "source": [
        "## TF-IDF "
      ]
    },
    {
      "cell_type": "code",
      "metadata": {
        "id": "Rvn4WefSq965"
      },
      "source": [
        "## Adding clean tweets to a list called corpus\n",
        "corpus = []\n",
        "corpus = [x for x in df_train['clean_text']] \n",
        "# corpus = df_train[\"clean_text\"]"
      ],
      "execution_count": 25,
      "outputs": []
    },
    {
      "cell_type": "markdown",
      "metadata": {
        "id": "Mc7ubpZusnAC"
      },
      "source": [
        "TF-IDF (term frequency and inverse document frequency):"
      ]
    },
    {
      "cell_type": "code",
      "metadata": {
        "id": "MNpdQpzh7IHE"
      },
      "source": [
        "## Creating the TF-IDF model\n",
        "cv = TfidfVectorizer()\n",
        "X_tfidf = cv.fit_transform(df_all['clean_text'].apply(lambda x: np.str_(x)))\n",
        "dic_vocabulary = cv.vocabulary_"
      ],
      "execution_count": 7,
      "outputs": []
    },
    {
      "cell_type": "code",
      "metadata": {
        "colab": {
          "base_uri": "https://localhost:8080/",
          "height": 297
        },
        "id": "qfJq3sYfsez-",
        "outputId": "12ff009f-6060-43f6-ab09-3439a20dfdfd"
      },
      "source": [
        "sns.heatmap(X_tfidf.todense()[:,np.random.randint(0,X_tfidf.shape[1],100)]==0, vmin=0, vmax=1, cbar=False).set_title('Sparse Matrix Sample')"
      ],
      "execution_count": 12,
      "outputs": [
        {
          "output_type": "execute_result",
          "data": {
            "text/plain": [
              "Text(0.5, 1.0, 'Sparse Matrix Sample')"
            ]
          },
          "metadata": {},
          "execution_count": 12
        },
        {
          "output_type": "display_data",
          "data": {
            "image/png": "[encoded data removed]",
            "text/plain": [
              "<Figure size 432x288 with 1 Axes>"
            ]
          },
          "metadata": {
            "needs_background": "light"
          }
        }
      ]
    },
    {
      "cell_type": "markdown",
      "metadata": {
        "id": "mFOGDzZ8sbVN"
      },
      "source": [
        "In order to know the position of a certain word, we can look it up in the vocabulary:"
      ]
    },
    {
      "cell_type": "code",
      "metadata": {
        "colab": {
          "base_uri": "https://localhost:8080/"
        },
        "id": "mNbUdw0uZj0g",
        "outputId": "71361fc5-2ca5-4029-b02a-b241181737be"
      },
      "source": [
        "word = \"mental\"\n",
        "dic_vocabulary[word]"
      ],
      "execution_count": 13,
      "outputs": [
        {
          "output_type": "execute_result",
          "data": {
            "text/plain": [
              "14002"
            ]
          },
          "metadata": {},
          "execution_count": 13
        }
      ]
    },
    {
      "cell_type": "markdown",
      "metadata": {
        "id": "lakj0VEYszzm"
      },
      "source": [
        "If the word exists in the vocabulary, this command prints a number N, meaning that the Nth feature of the matrix is that word."
      ]
    },
    {
      "cell_type": "markdown",
      "metadata": {
        "id": "oirCPQN__yxE"
      },
      "source": [
        "## Spliting data to train and test datasets from TFIDF"
      ]
    },
    {
      "cell_type": "code",
      "metadata": {
        "id": "q0_TT04vVBV9"
      },
      "source": [
        "## split dataset to train and test\n",
        "X_train, X_test, y_train, y_test = train_test_split(X_tfidf, df_all['label'], test_size=0.3, random_state= 42)"
      ],
      "execution_count": 8,
      "outputs": []
    },
    {
      "cell_type": "code",
      "metadata": {
        "colab": {
          "base_uri": "https://localhost:8080/"
        },
        "id": "v15rT6tkBMUy",
        "outputId": "d14fbd9f-384e-4c02-efba-823eed89b419"
      },
      "source": [
        "X_train.shape, X_test.shape, y_train.shape, y_test.shape"
      ],
      "execution_count": 9,
      "outputs": [
        {
          "output_type": "execute_result",
          "data": {
            "text/plain": [
              "((16559, 24607), (7097, 24607), (16559,), (7097,))"
            ]
          },
          "metadata": {},
          "execution_count": 9
        }
      ]
    },
    {
      "cell_type": "code",
      "metadata": {
        "id": "AdIc8wIKNRa4"
      },
      "source": [
        "# # Create the visualizer and draw the vectors\n",
        "# tsne = TSNEVisualizer()\n",
        "# tsne.fit(X_tfidf, y)\n",
        "# tsne.show()\n",
        "\n",
        "# print(X_tfidf.shape)"
      ],
      "execution_count": null,
      "outputs": []
    },
    {
      "cell_type": "markdown",
      "metadata": {
        "id": "zHvVfleWuo7k"
      },
      "source": [
        "## Feature selection"
      ]
    },
    {
      "cell_type": "markdown",
      "metadata": {
        "id": "JqqdpLCnursw"
      },
      "source": [
        "In order to drop some columns and reduce the matrix dimensionality, we can carry out some Feature Selection, the process of selecting a subset of relevant variables. I will proceed as follows:\n",
        "\n",
        "\n",
        "\n",
        "1.   treat each category as binary (for example, the “depressive” category is 1 for the depressive tweets and 0 for non_depressive);\n",
        "2.   perform a Chi-Square test to determine whether a feature and the (binary) target are independent;\n",
        "3.   keep only the features with a certain p-value from the Chi-Square test.\n",
        "\n",
        "This snippet of code is derived from https://towardsdatascience.com/text-classification-with-nlp-tf-idf-vs-word2vec-vs-bert-41ff868d1794\n",
        "\n"
      ]
    },
    {
      "cell_type": "code",
      "metadata": {
        "id": "W51dTw7qvNJO"
      },
      "source": [
        "y = df_train[\"label\"]\n",
        "X_names = cv.get_feature_names()\n",
        "p_value_limit = 0.95\n",
        "df_features = pd.DataFrame()\n",
        "for cat in np.unique(y):\n",
        "    chi2, p = feature_selection.chi2(X_train, y==cat)\n",
        "    df_features = df_features.append(pd.DataFrame(\n",
        "                   {\"feature\":X_names, \"score\":1-p, \"y\":cat}))\n",
        "    df_features = df_features.sort_values([\"y\",\"score\"], \n",
        "                    ascending=[True,False])\n",
        "    df_features = df_features[df_features[\"score\"]>p_value_limit]\n",
        "X_names = df_features[\"feature\"].unique().tolist()"
      ],
      "execution_count": 65,
      "outputs": []
    },
    {
      "cell_type": "code",
      "metadata": {
        "colab": {
          "base_uri": "https://localhost:8080/"
        },
        "id": "TQMIsq_mxj0M",
        "outputId": "d7f0b6eb-c016-48dc-f032-0e4a08c937e0"
      },
      "source": [
        "print(len(X_names))"
      ],
      "execution_count": 66,
      "outputs": [
        {
          "output_type": "stream",
          "name": "stdout",
          "text": [
            "688\n"
          ]
        }
      ]
    },
    {
      "cell_type": "markdown",
      "metadata": {
        "id": "b-THn1xTx1hL"
      },
      "source": [
        "I reduced the number of features from 10,000 to 688 by keeping the most statistically relevant ones. Let’s print some:"
      ]
    },
    {
      "cell_type": "code",
      "metadata": {
        "colab": {
          "base_uri": "https://localhost:8080/"
        },
        "id": "LJPrTvc-x7W6",
        "outputId": "82bb627e-b1b4-4979-8878-27334603aa75"
      },
      "source": [
        "for cat in np.unique(y):\n",
        "   print(\"# {}:\".format(cat))\n",
        "   print(\"  . selected features:\",\n",
        "         len(df_features[df_features[\"y\"]==cat]))\n",
        "   print(\"  . top features:\", \",\".join(df_features[df_features[\"y\"]==cat][\"feature\"].values[:10]))\n",
        "   print(\" \")"
      ],
      "execution_count": 67,
      "outputs": [
        {
          "output_type": "stream",
          "name": "stdout",
          "text": [
            "# 0:\n",
            "  . selected features: 688\n",
            "  . top features: anxiety,depression,feel,feeling,health,http,mental,thanks,lol,someone\n",
            " \n",
            "# 1:\n",
            "  . selected features: 688\n",
            "  . top features: anxiety,depression,feel,feeling,health,http,mental,thanks,lol,someone\n",
            " \n"
          ]
        }
      ]
    },
    {
      "cell_type": "markdown",
      "metadata": {
        "id": "brdvVsyVMGu8"
      },
      "source": [
        "## Visualizing patterns in feature vectors in 2D Space"
      ]
    },
    {
      "cell_type": "markdown",
      "metadata": {
        "id": "ngMLrzxXMNNX"
      },
      "source": [
        "**T-SNE :** t-distributed stochastic neighbor embedding t-SNE is a machine learning algorithm for visualization based on Stochastic Neighbor Embedding. It is a nonlinear dimensionality reduction technique well-suited for embedding high-dimensional data for visualization in a low-dimensional space of two or three dimensions. Specifically, it models each high-dimensional object by a two- or three-dimensional point in such a way that similar objects are modeled by nearby points and dissimilar objects are modeled by distant points with high probability."
      ]
    },
    {
      "cell_type": "markdown",
      "metadata": {
        "id": "p_4GhXL-EfZt"
      },
      "source": [
        "## Logistic Regression"
      ]
    },
    {
      "cell_type": "markdown",
      "metadata": {
        "id": "HXK2MEEH5zJq"
      },
      "source": [
        "Build a scikit-learn pipeline: a sequential application of a list of transformations and a final estimator. Putting the Tf-Idf vectorizer and Logistic Regression classifier in a pipeline allows us to transform and predict test data in just one step."
      ]
    },
    {
      "cell_type": "code",
      "metadata": {
        "id": "mKygPsiJ6BXh"
      },
      "source": [
        "# classifier = LogisticRegression(solver='liblinear', penalty='l1')"
      ],
      "execution_count": 89,
      "outputs": []
    },
    {
      "cell_type": "code",
      "metadata": {
        "id": "Lbs_T0ck59GQ"
      },
      "source": [
        "# ## pipeline\n",
        "# model = Pipeline([(\"vectorizer\", cv), \n",
        "#                   (\"classifier\", classifier)])\n",
        "# ## train classifier\n",
        "# model[\"classifier\"].fit(X_train, y_train)\n",
        "# ## test\n",
        "# predicted = model.predict(X_test)\n",
        "# predicted_prob = model.predict_proba(X_test)"
      ],
      "execution_count": 24,
      "outputs": []
    },
    {
      "cell_type": "code",
      "metadata": {
        "colab": {
          "base_uri": "https://localhost:8080/"
        },
        "id": "-92oGPOYJ5Hz",
        "outputId": "6f74b404-4dd5-468c-c00d-2401680a16ad"
      },
      "source": [
        "# ## creating the instance of the models\n",
        "lr = LogisticRegression(solver='liblinear', penalty='l1')\n",
        "## fitting the model\n",
        "print(lr.fit(X_train, y_train))"
      ],
      "execution_count": 10,
      "outputs": [
        {
          "output_type": "stream",
          "name": "stdout",
          "text": [
            "LogisticRegression(C=1.0, class_weight=None, dual=False, fit_intercept=True,\n",
            "                   intercept_scaling=1, l1_ratio=None, max_iter=100,\n",
            "                   multi_class='auto', n_jobs=None, penalty='l1',\n",
            "                   random_state=None, solver='liblinear', tol=0.0001, verbose=0,\n",
            "                   warm_start=False)\n"
          ]
        }
      ]
    },
    {
      "cell_type": "code",
      "metadata": {
        "id": "QqHLwpCnzVw-"
      },
      "source": [
        "## Save the Modle to file in the current working directory\n",
        "LogisticReg = \"/content/drive/MyDrive/NLP/Depression_Detection/modeling/model_LogReg.pkl\"  \n",
        "\n",
        "with open(LogisticReg, 'wb') as file:  \n",
        "    pickle.dump(lr, file)"
      ],
      "execution_count": 14,
      "outputs": []
    },
    {
      "cell_type": "code",
      "metadata": {
        "colab": {
          "base_uri": "https://localhost:8080/"
        },
        "id": "MfZcNLzm0fAu",
        "outputId": "78505042-523b-4f67-a3ce-2284b84bf00a"
      },
      "source": [
        "## Load the Model back from file\n",
        "with open(LogisticReg, 'rb') as file:  \n",
        "    lr = pickle.load(file)\n",
        "\n",
        "lr"
      ],
      "execution_count": 15,
      "outputs": [
        {
          "output_type": "execute_result",
          "data": {
            "text/plain": [
              "LogisticRegression(C=1.0, class_weight=None, dual=False, fit_intercept=True,\n",
              "                   intercept_scaling=1, l1_ratio=None, max_iter=100,\n",
              "                   multi_class='auto', n_jobs=None, penalty='l1',\n",
              "                   random_state=None, solver='liblinear', tol=0.0001, verbose=0,\n",
              "                   warm_start=False)"
            ]
          },
          "metadata": {},
          "execution_count": 15
        }
      ]
    },
    {
      "cell_type": "code",
      "metadata": {
        "id": "mnXaPLNOKLmo"
      },
      "source": [
        "## Test\n",
        "y_pred_lr = lr.predict(X_test)\n",
        "probs = lr.predict_proba(X_test)\n",
        "classes = np.unique(y_test)\n",
        "y_test_array = pd.get_dummies(y_test, drop_first=False).values"
      ],
      "execution_count": 16,
      "outputs": []
    },
    {
      "cell_type": "markdown",
      "metadata": {
        "id": "iB73YuVi55HQ"
      },
      "source": [
        "### Evaluate the performance:"
      ]
    },
    {
      "cell_type": "markdown",
      "metadata": {
        "id": "APQx6jEQ6R9_"
      },
      "source": [
        "*   **Accuracy:** the fraction of predictions the model got right.\n",
        "*   **Confusion Matrix:** a summary table that breaks down the number of correct and incorrect predictions by each class.\n",
        "*   **ROC:** a plot that illustrates the true positive rate against the false positive rate at various threshold settings. The area under the curve (AUC) indicates the probability that the classifier will rank a randomly chosen positive observation higher than a randomly chosen negative one.\n",
        "*  **Precision:** the fraction of relevant instances among the retrieved instances.\n",
        "*  **Recall:** the fraction of the total amount of relevant instances that were actually retrieved.\n",
        "\n"
      ]
    },
    {
      "cell_type": "code",
      "metadata": {
        "id": "gcBQDboiJ-ht"
      },
      "source": [
        "def conf_matrix_acc(y_true, y_pred):\n",
        "  ## Plot confusion matrix\n",
        "  cm = confusion_matrix(y_test, y_pred)\n",
        "  fig, ax = plt.subplots()\n",
        "  sns.heatmap(cm, annot=True, fmt='d', ax=ax, cmap=plt.cm.Blues, \n",
        "            cbar=False)\n",
        "  ax.set(xlabel=\"Pred\", ylabel=\"True\", xticklabels=classes, \n",
        "       yticklabels=classes, title=\"Confusion matrix\")\n",
        "  plt.yticks(rotation=0)\n",
        "  print(\"=========================================\")\n",
        "  print(f'Accuracy score is : {accuracy_score(y_true, y_pred)}')\n",
        "  print(\"=========================================\")\n",
        "  print(\"Detail:\")\n",
        "  print(skm.classification_report(y_test, y_pred_lr))"
      ],
      "execution_count": 44,
      "outputs": []
    },
    {
      "cell_type": "code",
      "metadata": {
        "colab": {
          "base_uri": "https://localhost:8080/",
          "height": 606
        },
        "id": "-ZNJKU5TKQmq",
        "outputId": "33616cac-3d85-46e4-c031-9b2e82435911"
      },
      "source": [
        "conf_matrix_acc(y_test,y_pred_lr)"
      ],
      "execution_count": 18,
      "outputs": [
        {
          "output_type": "stream",
          "name": "stdout",
          "text": [
            "=========================================\n",
            "Accuracy score is : 0.840495984218684\n",
            "=========================================\n",
            "Detail:\n",
            "              precision    recall  f1-score   support\n",
            "\n",
            "           0       0.81      0.90      0.85      3686\n",
            "           1       0.88      0.78      0.82      3411\n",
            "\n",
            "    accuracy                           0.84      7097\n",
            "   macro avg       0.85      0.84      0.84      7097\n",
            "weighted avg       0.84      0.84      0.84      7097\n",
            "\n"
          ]
        },
        {
          "output_type": "display_data",
          "data": {
            "image/png": "[encoded data removed]",
            "text/plain": [
              "<Figure size 576x396 with 1 Axes>"
            ]
          },
          "metadata": {}
        }
      ]
    },
    {
      "cell_type": "code",
      "metadata": {
        "id": "0boGWGiH1aw9"
      },
      "source": [
        "## Plot ROC and precision-recall curve\n",
        "def roc_precision_auc():\n",
        "  fig, ax = plt.subplots(nrows=1, ncols=2)\n",
        "  ## Plot roc\n",
        "  for i in range(len(classes)):\n",
        "      fpr, tpr, thresholds = skm.roc_curve(y_test_array[:,i],  \n",
        "                            probs[:,i])\n",
        "      ax[0].plot(fpr, tpr, lw=3, \n",
        "                label='{0} (area={1:0.2f})'.format(classes[i], \n",
        "                                skm.auc(fpr, tpr))\n",
        "                 )\n",
        "  ax[0].plot([0,1], [0,1], color='navy', lw=3, linestyle='--')\n",
        "  ax[0].set(xlim=[-0.05,1.0], ylim=[0.0,1.05], \n",
        "            xlabel='False Positive Rate', \n",
        "            ylabel=\"True Positive Rate (Recall)\", \n",
        "            title=\"Receiver operating characteristic\")\n",
        "  ax[0].legend(loc=\"lower right\")\n",
        "  ax[0].grid(True)\n",
        "\n",
        "  ## Plot precision-recall curve\n",
        "  for i in range(len(classes)):\n",
        "    precision, recall, thresholds = skm.precision_recall_curve(\n",
        "                y_test_array[:,i], probs[:,i])\n",
        "    ax[1].plot(recall, precision, lw=3, \n",
        "               label='{0} (area={1:0.2f})'.format(classes[i], \n",
        "                                  skm.auc(recall, precision))\n",
        "              )\n",
        "  ax[1].set(xlim=[0.0,1.05], ylim=[0.0,1.05], xlabel='Recall', \n",
        "            ylabel=\"Precision\", title=\"Precision-Recall curve\")\n",
        "  ax[1].legend(loc=\"best\")\n",
        "  ax[1].grid(True)\n",
        "  plt.show()\n",
        "  #plt.savefig('/content/drive/MyDrive/NLP/Depression_Detection/modeling/ROC_Precision_LR.png')\n",
        "  #plt.savefig('/content/drive/MyDrive/NLP/Depression_Detection/modeling/ROC_Precision_LSTM.png')  \n",
        "  ## AUC score\n",
        "  print(f'AUC score is : {skm.roc_auc_score(y_test, probs[:,1])}')"
      ],
      "execution_count": 23,
      "outputs": []
    },
    {
      "cell_type": "code",
      "metadata": {
        "colab": {
          "base_uri": "https://localhost:8080/",
          "height": 393
        },
        "id": "kcLZZr063v-6",
        "outputId": "dd9dfd25-9510-4a01-8d54-b15faa155cb7"
      },
      "source": [
        "roc_precision_auc()"
      ],
      "execution_count": 20,
      "outputs": [
        {
          "output_type": "display_data",
          "data": {
            "image/png": "[encoded data removed]",
            "text/plain": [
              "<Figure size 576x396 with 2 Axes>"
            ]
          },
          "metadata": {}
        },
        {
          "output_type": "stream",
          "name": "stdout",
          "text": [
            "AUC score is : 0.9201663237875992\n"
          ]
        }
      ]
    },
    {
      "cell_type": "code",
      "metadata": {
        "colab": {
          "base_uri": "https://localhost:8080/"
        },
        "id": "23RtFGrHR-ND",
        "outputId": "14da879f-2089-433c-85d2-20cc86a283c4"
      },
      "source": [
        "type(y_test)"
      ],
      "execution_count": 23,
      "outputs": [
        {
          "output_type": "execute_result",
          "data": {
            "text/plain": [
              "pandas.core.series.Series"
            ]
          },
          "metadata": {},
          "execution_count": 23
        }
      ]
    },
    {
      "cell_type": "code",
      "metadata": {
        "id": "v2pbKuH14e_F"
      },
      "source": [
        "# converting to list\n",
        "y_test_1 = y_test.tolist()"
      ],
      "execution_count": 25,
      "outputs": []
    },
    {
      "cell_type": "code",
      "metadata": {
        "id": "3VliYG0iSUaQ"
      },
      "source": [
        "y_pred_lr_1 = y_pred_lr.tolist()"
      ],
      "execution_count": 30,
      "outputs": []
    },
    {
      "cell_type": "code",
      "metadata": {
        "colab": {
          "base_uri": "https://localhost:8080/"
        },
        "id": "f3QpqSzM4l0B",
        "outputId": "f57b9291-9470-4c0e-ea6b-543f5400f04c"
      },
      "source": [
        "y_test_1[0:18]"
      ],
      "execution_count": 53,
      "outputs": [
        {
          "output_type": "execute_result",
          "data": {
            "text/plain": [
              "[0, 1, 1, 1, 0, 0, 1, 0, 1, 1, 1, 1, 0, 0, 1, 1, 1, 0]"
            ]
          },
          "metadata": {},
          "execution_count": 53
        }
      ]
    },
    {
      "cell_type": "code",
      "metadata": {
        "colab": {
          "base_uri": "https://localhost:8080/"
        },
        "id": "Tp9ZrnhT5O7x",
        "outputId": "82a76102-a693-4bfa-a5d2-bb7c64545e88"
      },
      "source": [
        "len(y_test_1)"
      ],
      "execution_count": 32,
      "outputs": [
        {
          "output_type": "execute_result",
          "data": {
            "text/plain": [
              "7097"
            ]
          },
          "metadata": {},
          "execution_count": 32
        }
      ]
    },
    {
      "cell_type": "code",
      "metadata": {
        "colab": {
          "base_uri": "https://localhost:8080/"
        },
        "id": "vlQ1sF6I47se",
        "outputId": "3e968f6d-95fc-4773-b190-5139c6b32a94"
      },
      "source": [
        "y_pred_lr_1[0:18]"
      ],
      "execution_count": 54,
      "outputs": [
        {
          "output_type": "execute_result",
          "data": {
            "text/plain": [
              "[0, 1, 1, 1, 0, 0, 1, 0, 1, 1, 0, 1, 0, 0, 1, 1, 0, 0]"
            ]
          },
          "metadata": {},
          "execution_count": 54
        }
      ]
    },
    {
      "cell_type": "code",
      "metadata": {
        "colab": {
          "base_uri": "https://localhost:8080/"
        },
        "id": "Faj9FUGC5Q-i",
        "outputId": "a4dec62e-0d01-44ab-923e-ad6ad034bf8b"
      },
      "source": [
        "len(y_pred_lr_1)"
      ],
      "execution_count": 34,
      "outputs": [
        {
          "output_type": "execute_result",
          "data": {
            "text/plain": [
              "7097"
            ]
          },
          "metadata": {},
          "execution_count": 34
        }
      ]
    },
    {
      "cell_type": "code",
      "metadata": {
        "colab": {
          "base_uri": "https://localhost:8080/"
        },
        "id": "8SEVprFn9CiN",
        "outputId": "97dce064-3c7a-4e39-ebf9-34778e2c026a"
      },
      "source": [
        "df_all.iloc[1]"
      ],
      "execution_count": 59,
      "outputs": [
        {
          "output_type": "execute_result",
          "data": {
            "text/plain": [
              "text          Plenty of things are changing in my life and t...\n",
              "label                                                         1\n",
              "clean_text    plenty thing changing life life around one thi...\n",
              "Name: 1, dtype: object"
            ]
          },
          "metadata": {},
          "execution_count": 59
        }
      ]
    },
    {
      "cell_type": "code",
      "metadata": {
        "id": "_mKoT4-rW4zh"
      },
      "source": [
        "idx = [] \n",
        "for i in range(len(y_test_1)):\n",
        "  if y_test_1[i] != y_pred_lr_1[i]:\n",
        "    idx.append(i)\n",
        "    i+=1"
      ],
      "execution_count": 36,
      "outputs": []
    },
    {
      "cell_type": "code",
      "metadata": {
        "colab": {
          "base_uri": "https://localhost:8080/"
        },
        "id": "wTNAbHji6dlh",
        "outputId": "5a1d89be-6bfe-44cf-c7b5-96696e78129c"
      },
      "source": [
        "idx[0:10]"
      ],
      "execution_count": 39,
      "outputs": [
        {
          "output_type": "execute_result",
          "data": {
            "text/plain": [
              "[10, 16, 21, 25, 26, 27, 44, 46, 64, 66]"
            ]
          },
          "metadata": {},
          "execution_count": 39
        }
      ]
    },
    {
      "cell_type": "code",
      "metadata": {
        "colab": {
          "base_uri": "https://localhost:8080/"
        },
        "id": "rr77nUNqFQoz",
        "outputId": "0e5042b6-1c13-4d3b-f447-1cdea232c6a4"
      },
      "source": [
        "print(X_test)"
      ],
      "execution_count": 66,
      "outputs": [
        {
          "output_type": "stream",
          "name": "stdout",
          "text": [
            "  (0, 6866)\t0.7022820295398761\n",
            "  (0, 15558)\t0.5702363929240182\n",
            "  (0, 9475)\t0.42618119054031167\n",
            "  (1, 1882)\t0.3315224553762734\n",
            "  (1, 23493)\t0.5341561880339056\n",
            "  (1, 9477)\t0.3526285875862893\n",
            "  (1, 18930)\t0.21390297587635654\n",
            "  (1, 10909)\t0.28568878884652427\n",
            "  (1, 9763)\t0.2825636103877936\n",
            "  (1, 10009)\t0.22012194891000827\n",
            "  (1, 2008)\t0.2814455530292213\n",
            "  (1, 21840)\t0.17724236441910682\n",
            "  (1, 2276)\t0.2670780940169528\n",
            "  (1, 10263)\t0.2068755924367694\n",
            "  (2, 24596)\t0.2977353142931162\n",
            "  (2, 21554)\t0.2977353142931162\n",
            "  (2, 16756)\t0.2977353142931162\n",
            "  (2, 23115)\t0.2977353142931162\n",
            "  (2, 22083)\t0.2977353142931162\n",
            "  (2, 1936)\t0.23027824839616653\n",
            "  (2, 23057)\t0.2662179453295238\n",
            "  (2, 20537)\t0.23634035669330358\n",
            "  (2, 23016)\t0.1878979269207959\n",
            "  (2, 23593)\t0.2173115429824349\n",
            "  (2, 5495)\t0.22306845323575902\n",
            "  :\t:\n",
            "  (7094, 1359)\t0.2463898258139831\n",
            "  (7094, 3639)\t0.2618400283450624\n",
            "  (7094, 21329)\t0.2948663783930201\n",
            "  (7094, 15689)\t0.3002567873460679\n",
            "  (7094, 9029)\t0.21748216489948102\n",
            "  (7094, 14946)\t0.14998741614743724\n",
            "  (7094, 14633)\t0.16214403860550358\n",
            "  (7095, 16392)\t0.6799433477101074\n",
            "  (7095, 3218)\t0.5662432489760831\n",
            "  (7095, 7885)\t0.4658815588685405\n",
            "  (7096, 11338)\t0.2771705368981261\n",
            "  (7096, 14890)\t0.22670537807597146\n",
            "  (7096, 1382)\t0.24309825431038196\n",
            "  (7096, 2065)\t0.2540741836443238\n",
            "  (7096, 5126)\t0.251525351454941\n",
            "  (7096, 6726)\t0.18689186751527478\n",
            "  (7096, 18176)\t0.2185410009979014\n",
            "  (7096, 1381)\t0.20692877232053766\n",
            "  (7096, 14186)\t0.44203589653034736\n",
            "  (7096, 91)\t0.20295072540932438\n",
            "  (7096, 13996)\t0.38308419706409524\n",
            "  (7096, 24018)\t0.3477450738827751\n",
            "  (7096, 10163)\t0.13138662220176436\n",
            "  (7096, 14002)\t0.1263504705139862\n",
            "  (7096, 24374)\t0.1478705493882713\n"
          ]
        }
      ]
    },
    {
      "cell_type": "code",
      "metadata": {
        "id": "OM_PcWufM_pT"
      },
      "source": [
        "#fpr, tpr, _ = skm.roc_curve(y_test, probs[:,1])"
      ],
      "execution_count": 42,
      "outputs": []
    },
    {
      "cell_type": "code",
      "metadata": {
        "colab": {
          "base_uri": "https://localhost:8080/",
          "height": 312
        },
        "id": "PZZ4xR1ENcVq",
        "outputId": "e1a34937-78b4-4aef-b793-e6ab23944c0f"
      },
      "source": [
        "# ## ROC curve\n",
        "# plt.xlabel(\"False Positive Rate\")\n",
        "# plt.ylabel(\"True Positive Rate\")\n",
        "# plt.title(\"Receiver operating characteristic example\")\n",
        "# plt.plot(fpr, tpr, 'go-')"
      ],
      "execution_count": null,
      "outputs": [
        {
          "output_type": "execute_result",
          "data": {
            "text/plain": [
              "[<matplotlib.lines.Line2D at 0x7fb2bf068310>]"
            ]
          },
          "metadata": {},
          "execution_count": 69
        },
        {
          "output_type": "display_data",
          "data": {
            "image/png": "[encoded data removed]",
            "text/plain": [
              "<Figure size 432x288 with 1 Axes>"
            ]
          },
          "metadata": {
            "needs_background": "light"
          }
        }
      ]
    },
    {
      "cell_type": "markdown",
      "metadata": {
        "id": "VR5ol2rAjwSi"
      },
      "source": [
        "## Word2vec with gensim"
      ]
    },
    {
      "cell_type": "code",
      "metadata": {
        "colab": {
          "base_uri": "https://localhost:8080/"
        },
        "id": "l2HF5eq_jyyi",
        "outputId": "4f554616-0f6e-4616-b7b2-164318b00ebb"
      },
      "source": [
        "!pip install --upgrade -qqq gensim"
      ],
      "execution_count": 5,
      "outputs": [
        {
          "output_type": "stream",
          "name": "stdout",
          "text": [
            "\u001b[K     |████████████████████████████████| 24.1 MB 2.7 kB/s \n",
            "\u001b[?25h"
          ]
        }
      ]
    },
    {
      "cell_type": "markdown",
      "metadata": {
        "id": "rDOP_ZhIVgEg"
      },
      "source": [
        "In Python, you can load a pre-trained Word Embedding model from genism-data like this:\n"
      ]
    },
    {
      "cell_type": "code",
      "metadata": {
        "id": "Vo-xrNvDOHdQ"
      },
      "source": [
        "nlp_pre = gensim_api.load(\"word2vec-google-news-300\")"
      ],
      "execution_count": 97,
      "outputs": []
    },
    {
      "cell_type": "code",
      "metadata": {
        "colab": {
          "base_uri": "https://localhost:8080/",
          "height": 330
        },
        "id": "abjuQT-CYYNQ",
        "outputId": "0679d3a4-f3f2-4bd4-8424-53b753fccfbd"
      },
      "source": [
        "word = \"anxiety\"\n",
        "fig = plt.figure()\n",
        "## word embedding\n",
        "tot_words = [word] + [tupla[0] for tupla in \n",
        "                 nlp_pre.most_similar(word, topn=20)]\n",
        "X = nlp_pre[tot_words]\n",
        "## pca to reduce dimensionality from 300 to 3\n",
        "pca = manifold.TSNE(perplexity=40, n_components=3, init='pca')\n",
        "X = pca.fit_transform(X)\n",
        "## create dtf\n",
        "dtf_ = pd.DataFrame(X, index=tot_words, columns=[\"x\",\"y\",\"z\"])\n",
        "dtf_[\"input\"] = 0\n",
        "dtf_[\"input\"].iloc[0:1] = 1\n",
        "## plot 3d\n",
        "from mpl_toolkits.mplot3d import Axes3D\n",
        "ax = fig.add_subplot(111, projection='3d')\n",
        "ax.scatter(dtf_[dtf_[\"input\"]==0]['x'], \n",
        "           dtf_[dtf_[\"input\"]==0]['y'], \n",
        "           dtf_[dtf_[\"input\"]==0]['z'], c=\"black\")\n",
        "ax.scatter(dtf_[dtf_[\"input\"]==1]['x'], \n",
        "           dtf_[dtf_[\"input\"]==1]['y'], \n",
        "           dtf_[dtf_[\"input\"]==1]['z'], c=\"red\")\n",
        "ax.set(xlabel=None, ylabel=None, zlabel=None, xticklabels=[], \n",
        "       yticklabels=[], zticklabels=[])\n",
        "for label, row in dtf_[[\"x\",\"y\",\"z\"]].iterrows():\n",
        "    x, y, z = row\n",
        "    ax.text(x, y, z, s=label)"
      ],
      "execution_count": 98,
      "outputs": [
        {
          "output_type": "display_data",
          "data": {
            "image/png": "[encoded data removed]",
            "text/plain": [
              "<Figure size 576x396 with 1 Axes>"
            ]
          },
          "metadata": {}
        }
      ]
    },
    {
      "cell_type": "markdown",
      "metadata": {
        "id": "khJFVe8aVbQv"
      },
      "source": [
        "Instead of using a pre-trained model, I am going to fit my own Word2Vec on the training data corpus with gensim. Before fitting the model, the corpus needs to be transformed into a list of lists of n-grams. In this particular case, I’ll try to capture unigrams (“york”), bigrams (“new york”), and trigrams (“new york city”)."
      ]
    },
    {
      "cell_type": "code",
      "metadata": {
        "id": "lpJI5ZeVO2hx"
      },
      "source": [
        "## split dataset\n",
        "dtf_train, dtf_test = train_test_split(df_all, test_size=0.3)\n",
        "## get target\n",
        "y_train = dtf_train[\"label\"].values\n",
        "y_test = dtf_test[\"label\"].values"
      ],
      "execution_count": 6,
      "outputs": []
    },
    {
      "cell_type": "code",
      "metadata": {
        "id": "rDnjIYFqRpBU"
      },
      "source": [
        "corpus = []\n",
        "corpus = [x for x in dtf_train['clean_text']]"
      ],
      "execution_count": 7,
      "outputs": []
    },
    {
      "cell_type": "code",
      "metadata": {
        "id": "LtUHjkPSPIkM"
      },
      "source": [
        "## create list of lists of unigrams\n",
        "lst_corpus = []\n",
        "for string in corpus:\n",
        "   lst_words = str(string).split()\n",
        "   lst_grams = [\" \".join(lst_words[i:i+1]) \n",
        "               for i in range(0, len(lst_words), 1)]\n",
        "   lst_corpus.append(lst_grams)\n",
        "\n",
        "## detect bigrams and trigrams\n",
        "bigrams_detector = gensim.models.phrases.Phrases(lst_corpus, \n",
        "                 delimiter=\" \".encode(), min_count=5, threshold=10)\n",
        "bigrams_detector = gensim.models.phrases.Phraser(bigrams_detector)\n",
        "trigrams_detector = gensim.models.phrases.Phrases(bigrams_detector[lst_corpus], \n",
        "            delimiter=\" \".encode(), min_count=5, threshold=10)\n",
        "trigrams_detector = gensim.models.phrases.Phraser(trigrams_detector)"
      ],
      "execution_count": 8,
      "outputs": []
    },
    {
      "cell_type": "markdown",
      "metadata": {
        "id": "dsRd35EbVqGI"
      },
      "source": [
        "When fitting the Word2Vec, you need to specify:\n",
        "\n",
        "* the target size of the word vectors, I’ll use 300;\n",
        "* the window, or the maximum distance between the current and predicted word within a sentence, I’ll use the mean length of text in the corpus;\n",
        "* the training algorithm, I’ll use skip-grams (sg=1) as in general it has better results."
      ]
    },
    {
      "cell_type": "code",
      "metadata": {
        "id": "rPDZRPUsVFqW"
      },
      "source": [
        "## fit w2v\n",
        "nlp = gensim.models.word2vec.Word2Vec(lst_corpus, size=300,   \n",
        "            window=8, min_count=1, sg=1, iter=30)"
      ],
      "execution_count": 9,
      "outputs": []
    },
    {
      "cell_type": "markdown",
      "metadata": {
        "id": "ssOZmUWgWIlZ"
      },
      "source": [
        "We have our embedding model, so we can select any word from the corpus and transform it into a vector."
      ]
    },
    {
      "cell_type": "code",
      "metadata": {
        "colab": {
          "base_uri": "https://localhost:8080/"
        },
        "id": "AOYNw3k0WKfF",
        "outputId": "5070c094-c928-4f95-fa8c-0b0e3ff068ae"
      },
      "source": [
        "word = \"anxiety\"\n",
        "nlp[word].shape"
      ],
      "execution_count": 95,
      "outputs": [
        {
          "output_type": "execute_result",
          "data": {
            "text/plain": [
              "(300,)"
            ]
          },
          "metadata": {},
          "execution_count": 95
        }
      ]
    },
    {
      "cell_type": "markdown",
      "metadata": {
        "id": "pY9hAxiiWTFC"
      },
      "source": [
        "We can even use it to visualize a word and its context into a smaller dimensional space (2D or 3D) by applying any dimensionality reduction algorithm (i.e. TSNE)."
      ]
    },
    {
      "cell_type": "code",
      "metadata": {
        "colab": {
          "base_uri": "https://localhost:8080/",
          "height": 330
        },
        "id": "GcMipgM2WKhq",
        "outputId": "2a15164b-6d2a-41b2-d1fe-2b0bc1b51a22"
      },
      "source": [
        "word = \"anxiety\"\n",
        "fig = plt.figure()\n",
        "## word embedding\n",
        "tot_words = [word] + [tupla[0] for tupla in \n",
        "                 nlp.most_similar(word, topn=20)]\n",
        "X = nlp[tot_words]\n",
        "## pca to reduce dimensionality from 300 to 3\n",
        "pca = manifold.TSNE(perplexity=40, n_components=3, init='pca')\n",
        "X = pca.fit_transform(X)\n",
        "## create dtf\n",
        "dtf_ = pd.DataFrame(X, index=tot_words, columns=[\"x\",\"y\",\"z\"])\n",
        "dtf_[\"input\"] = 0\n",
        "dtf_[\"input\"].iloc[0:1] = 1\n",
        "## plot 3d\n",
        "from mpl_toolkits.mplot3d import Axes3D\n",
        "ax = fig.add_subplot(111, projection='3d')\n",
        "ax.scatter(dtf_[dtf_[\"input\"]==0]['x'], \n",
        "           dtf_[dtf_[\"input\"]==0]['y'], \n",
        "           dtf_[dtf_[\"input\"]==0]['z'], c=\"black\")\n",
        "ax.scatter(dtf_[dtf_[\"input\"]==1]['x'], \n",
        "           dtf_[dtf_[\"input\"]==1]['y'], \n",
        "           dtf_[dtf_[\"input\"]==1]['z'], c=\"red\")\n",
        "ax.set(xlabel=None, ylabel=None, zlabel=None, xticklabels=[], \n",
        "       yticklabels=[], zticklabels=[])\n",
        "for label, row in dtf_[[\"x\",\"y\",\"z\"]].iterrows():\n",
        "    x, y, z = row\n",
        "    ax.text(x, y, z, s=label)"
      ],
      "execution_count": 96,
      "outputs": [
        {
          "output_type": "display_data",
          "data": {
            "image/png": "[encoded data removed]",
            "text/plain": [
              "<Figure size 576x396 with 1 Axes>"
            ]
          },
          "metadata": {}
        }
      ]
    },
    {
      "cell_type": "markdown",
      "metadata": {
        "id": "fc7GzRh_ZddU"
      },
      "source": [
        "The word vectors can be used in a neural network as weights in the follwing procedure:\n",
        "1. Transform the corpus into padded sequences of word ids to get a feature matrix.\n",
        "2. Create an embedding matrix so that the vector of the word with id N is located at the Nth row.\n",
        "3. Build a neural network with an embedding layer that weighs every word in the sequences with the corresponding vector."
      ]
    },
    {
      "cell_type": "markdown",
      "metadata": {
        "id": "HEXQqIqcgnOr"
      },
      "source": [
        "**Feature Engineering:** by transforming the same preprocessed corpus (list of lists of n-grams) given to the Word2Vec into a list of sequences using tensorflow/keras:"
      ]
    },
    {
      "cell_type": "code",
      "metadata": {
        "id": "NHY3xdFYWKkd"
      },
      "source": [
        "## tokenize text\n",
        "tokenizer = kprocessing.text.Tokenizer(lower=True, split=' ', \n",
        "                     oov_token=\"NaN\", \n",
        "                     filters='!\"#$%&()*+,-./:;<=>?@[\\\\]^_`{|}~\\t\\n')\n",
        "tokenizer.fit_on_texts(lst_corpus)\n",
        "dic_vocabulary = tokenizer.word_index\n",
        "\n",
        "## create sequence\n",
        "lst_text2seq= tokenizer.texts_to_sequences(lst_corpus)\n",
        "\n",
        "## padding sequence\n",
        "X_train = kprocessing.sequence.pad_sequences(lst_text2seq, \n",
        "                    maxlen=35, padding=\"post\", truncating=\"post\")"
      ],
      "execution_count": 14,
      "outputs": []
    },
    {
      "cell_type": "code",
      "metadata": {
        "colab": {
          "base_uri": "https://localhost:8080/"
        },
        "id": "5uMF9_b6WKnJ",
        "outputId": "0cc72df6-2b5b-4a5b-89c8-99d76c0afb11"
      },
      "source": [
        "X_train.shape"
      ],
      "execution_count": 15,
      "outputs": [
        {
          "output_type": "execute_result",
          "data": {
            "text/plain": [
              "(16559, 35)"
            ]
          },
          "metadata": {},
          "execution_count": 15
        }
      ]
    },
    {
      "cell_type": "markdown",
      "metadata": {
        "id": "TReVOVLakTxO"
      },
      "source": [
        "The feature matrix X_train has a shape of 16559 x 35 (Number of sequences x Sequences max length). Let’s visualize it:"
      ]
    },
    {
      "cell_type": "code",
      "metadata": {
        "colab": {
          "base_uri": "https://localhost:8080/",
          "height": 352
        },
        "id": "yj3TK-lwWKpv",
        "outputId": "9b842c52-2c1c-4115-849b-7cf2c51e6d17"
      },
      "source": [
        "sns.heatmap(X_train==0, vmin=0, vmax=1, cbar=False)\n",
        "plt.show()"
      ],
      "execution_count": 16,
      "outputs": [
        {
          "output_type": "display_data",
          "data": {
            "image/png": "[encoded data removed]",
            "text/plain": [
              "<Figure size 576x396 with 1 Axes>"
            ]
          },
          "metadata": {}
        }
      ]
    },
    {
      "cell_type": "markdown",
      "metadata": {
        "id": "bN9FeuqukxKm"
      },
      "source": [
        "Every text in the corpus is now an id sequence with length 35. For instance, if a text had 20 tokens in it, then the sequence is composed of 20 ids + 15 0s, which is the padding element (while the id for word not in the vocabulary is 1)"
      ]
    },
    {
      "cell_type": "markdown",
      "metadata": {
        "id": "fskqeYr9m-yH"
      },
      "source": [
        "Let’s print how a text from the train set has been transformed into a sequence with the padding and the vocabulary."
      ]
    },
    {
      "cell_type": "code",
      "metadata": {
        "colab": {
          "base_uri": "https://localhost:8080/"
        },
        "id": "iLkLVV9ZWKso",
        "outputId": "2c6f7c1b-e956-4491-ca16-48aacb94be84"
      },
      "source": [
        "i = 8\n",
        "\n",
        "## list of text: [\"I like this\", ...]\n",
        "len_txt = len(dtf_train[\"clean_text\"].iloc[i].split())\n",
        "print(\"from: \", dtf_train[\"clean_text\"].iloc[i], \"| len:\", len_txt)\n",
        "\n",
        "## sequence of token ids: [[1, 2, 3], ...]\n",
        "len_tokens = len(X_train[i])\n",
        "print(\"to: \", X_train[i], \"| len:\", len(X_train[i]))\n",
        "\n",
        "## vocabulary: {\"I\":1, \"like\":2, \"this\":3, ...}\n",
        "print(\"check: \", dtf_train[\"clean_text\"].iloc[i].split()[0], \n",
        "      \" -- idx in vocabulary -->\", \n",
        "      dic_vocabulary[dtf_train[\"clean_text\"].iloc[i].split()[0]])\n",
        "\n",
        "print(\"vocabulary: \", dict(list(dic_vocabulary.items())[0:5]), \"... (padding element, 0)\")"
      ],
      "execution_count": 16,
      "outputs": [
        {
          "output_type": "stream",
          "name": "stdout",
          "text": [
            "from:  start support thread comment feeling let u support hate rn want die one care cope long | len: 16\n",
            "to:  [  76  114 1330  459   32   46    9  114  128  983   19  349    5   60\n",
            "  870  115    0    0    0    0    0    0    0    0    0    0    0    0\n",
            "    0    0    0    0    0    0    0] | len: 35\n",
            "check:  start  -- idx in vocabulary --> 76\n",
            "vocabulary:  {'NaN': 1, 'like': 2, 'day': 3, 'love': 4, 'one': 5} ... (padding element, 0)\n"
          ]
        }
      ]
    },
    {
      "cell_type": "code",
      "metadata": {
        "id": "KMV0FcvtWKu-"
      },
      "source": [
        "corpus = dtf_test[\"clean_text\"]\n",
        "\n",
        "## create list of n-grams\n",
        "lst_corpus = []\n",
        "for string in corpus:\n",
        "    lst_words = str(string).split()\n",
        "    lst_grams = [\" \".join(lst_words[i:i+1]) for i in range(0, \n",
        "                 len(lst_words), 1)]\n",
        "    lst_corpus.append(lst_grams)\n",
        "    \n",
        "## detect common bigrams and trigrams using the fitted detectors\n",
        "lst_corpus = list(bigrams_detector[lst_corpus])\n",
        "lst_corpus = list(trigrams_detector[lst_corpus])\n",
        "## text to sequence with the fitted tokenizer\n",
        "lst_text2seq = tokenizer.texts_to_sequences(lst_corpus)\n",
        "\n",
        "## padding sequence\n",
        "X_test = kprocessing.sequence.pad_sequences(lst_text2seq, maxlen=35,\n",
        "             padding=\"post\", truncating=\"post\")"
      ],
      "execution_count": 17,
      "outputs": []
    },
    {
      "cell_type": "code",
      "metadata": {
        "colab": {
          "base_uri": "https://localhost:8080/"
        },
        "id": "5b_8kegvQLwI",
        "outputId": "49e0124a-e473-494b-818d-8c5241f032c2"
      },
      "source": [
        "X_test.shape"
      ],
      "execution_count": 18,
      "outputs": [
        {
          "output_type": "execute_result",
          "data": {
            "text/plain": [
              "(7097, 35)"
            ]
          },
          "metadata": {},
          "execution_count": 18
        }
      ]
    },
    {
      "cell_type": "code",
      "metadata": {
        "colab": {
          "base_uri": "https://localhost:8080/",
          "height": 352
        },
        "id": "FXSabjJgQOEq",
        "outputId": "4b2e8292-2636-4c0e-f122-096672b1184c"
      },
      "source": [
        "sns.heatmap(X_test==0, vmin=0, vmax=1, cbar=False)\n",
        "plt.show()"
      ],
      "execution_count": 19,
      "outputs": [
        {
          "output_type": "display_data",
          "data": {
            "image/png": "[encoded data removed]",
            "text/plain": [
              "<Figure size 576x396 with 1 Axes>"
            ]
          },
          "metadata": {}
        }
      ]
    },
    {
      "cell_type": "markdown",
      "metadata": {
        "id": "nwYAWkETTjRp"
      },
      "source": [
        "We’ve got our X_train and X_test, now we need to create the embedding matrix that will be used as a weight matrix in the neural network."
      ]
    },
    {
      "cell_type": "code",
      "metadata": {
        "id": "j-C_OTA0QXBr"
      },
      "source": [
        "## start the matrix (length of vocabulary x vector size) with all 0s\n",
        "embeddings = np.zeros((len(dic_vocabulary)+1, 300))\n",
        "for word,idx in dic_vocabulary.items():\n",
        "    ## update the row with vector\n",
        "    try:\n",
        "        embeddings[idx] =  nlp[word]\n",
        "    ## if word not in model then skip and the row stays all 0s\n",
        "    except:\n",
        "        pass"
      ],
      "execution_count": 20,
      "outputs": []
    },
    {
      "cell_type": "code",
      "metadata": {
        "colab": {
          "base_uri": "https://localhost:8080/"
        },
        "id": "HoxwJGgDT1Xt",
        "outputId": "6bc521ed-5a41-4291-a583-b373bec94462"
      },
      "source": [
        "embeddings.shape"
      ],
      "execution_count": 21,
      "outputs": [
        {
          "output_type": "execute_result",
          "data": {
            "text/plain": [
              "(20019, 300)"
            ]
          },
          "metadata": {},
          "execution_count": 21
        }
      ]
    },
    {
      "cell_type": "markdown",
      "metadata": {
        "id": "e1wkg7bGT82s"
      },
      "source": [
        "That code generates a matrix of shape 20,050 x 300 (Length of vocabulary extracted from the corpus x Vector size). It can be navigated by word id, which can be obtained from the vocabulary."
      ]
    },
    {
      "cell_type": "code",
      "metadata": {
        "colab": {
          "base_uri": "https://localhost:8080/"
        },
        "id": "qHYqApLsT8Ne",
        "outputId": "a114de01-e10a-4056-b7af-8afe6c54af95"
      },
      "source": [
        "word = \"anxiety\"\n",
        "print(\"dic[word]:\", dic_vocabulary[word], \"|idx\")\n",
        "print(\"embeddings[idx]:\", embeddings[dic_vocabulary[word]].shape, \n",
        "      \"|vector\")"
      ],
      "execution_count": 28,
      "outputs": [
        {
          "output_type": "stream",
          "name": "stdout",
          "text": [
            "dic[word]: 34 |idx\n",
            "embeddings[idx]: (300,) |vector\n"
          ]
        }
      ]
    },
    {
      "cell_type": "markdown",
      "metadata": {
        "id": "IFFP1EdIUyxY"
      },
      "source": [
        "## Deep Learning:"
      ]
    },
    {
      "cell_type": "markdown",
      "metadata": {
        "id": "FiB0MxUJW4ZL"
      },
      "source": [
        "It’s finally time to build a deep learning model. I’m going to use the embedding matrix in the first Embedding layer of the neural network that I will build and train to classify the news. Each id in the input sequence will be used as the index to access the embedding matrix. The output of this Embedding layer will be a 2D matrix with a word vector for each word id in the input sequence (Sequence length x Vector size). Let’s use the sentence “I like this article” as an example:"
      ]
    },
    {
      "cell_type": "markdown",
      "metadata": {
        "id": "Mm_LjeE3X8rC"
      },
      "source": [
        "My neural network shall be structured as follows:\n",
        "\n",
        "* An Embedding layer that takes the sequences as input and the word vectors as weights, just as described before.\n",
        "\n",
        "* A simple Attention layer that won’t affect the predictions but it’s going to capture the weights of each instance and allow us to build a nice explainer (it isn't necessary for the predictions, just for the explainability, so you can skip it).\n",
        "\n",
        "* Two layers of Bidirectional LSTM to model the order of words in a sequence in both directions.\n",
        "\n",
        "* Two final dense layers that will predict the probability of each category."
      ]
    },
    {
      "cell_type": "code",
      "metadata": {
        "colab": {
          "base_uri": "https://localhost:8080/"
        },
        "id": "SOvn_SS9by02",
        "outputId": "6a901c9d-7170-4bb4-d0f9-ef7c1a7710b9"
      },
      "source": [
        "## code attention layer\n",
        "def attention_layer(inputs, neurons):\n",
        "    x = layers.Permute((2,1))(inputs)\n",
        "    x = layers.Dense(neurons, activation=\"softmax\")(x)\n",
        "    x = layers.Permute((2,1), name=\"attention\")(x)\n",
        "    x = layers.multiply([inputs, x])\n",
        "    return x\n",
        "\n",
        "## input\n",
        "x_in = layers.Input(shape=(35,))\n",
        "## embedding\n",
        "x = layers.Embedding(input_dim=embeddings.shape[0],  \n",
        "                     output_dim=embeddings.shape[1], \n",
        "                     weights=[embeddings],\n",
        "                     input_length=35, trainable=False)(x_in)\n",
        "## apply attention\n",
        "x = attention_layer(x, neurons=35)\n",
        "## 2 layers of bidirectional lstm\n",
        "x = layers.Bidirectional(layers.LSTM(units=35, dropout=0.2, \n",
        "                         return_sequences=True))(x)\n",
        "x = layers.Bidirectional(layers.LSTM(units=35, dropout=0.2))(x)\n",
        "## final dense layers\n",
        "x = layers.Dense(64, activation='relu')(x)\n",
        "y_out = layers.Dense(1, activation='sigmoid')(x)\n",
        "## compile\n",
        "model = models.Model(x_in, y_out)\n",
        "model.compile(loss='binary_crossentropy',\n",
        "              optimizer='adam', metrics=['accuracy'])\n",
        "\n",
        "model.summary()"
      ],
      "execution_count": 46,
      "outputs": [
        {
          "output_type": "stream",
          "name": "stdout",
          "text": [
            "Model: \"model_1\"\n",
            "__________________________________________________________________________________________________\n",
            "Layer (type)                    Output Shape         Param #     Connected to                     \n",
            "==================================================================================================\n",
            "input_2 (InputLayer)            [(None, 35)]         0                                            \n",
            "__________________________________________________________________________________________________\n",
            "embedding_1 (Embedding)         (None, 35, 300)      6005700     input_2[0][0]                    \n",
            "__________________________________________________________________________________________________\n",
            "permute_1 (Permute)             (None, 300, 35)      0           embedding_1[0][0]                \n",
            "__________________________________________________________________________________________________\n",
            "dense_3 (Dense)                 (None, 300, 35)      1260        permute_1[0][0]                  \n",
            "__________________________________________________________________________________________________\n",
            "attention (Permute)             (None, 35, 300)      0           dense_3[0][0]                    \n",
            "__________________________________________________________________________________________________\n",
            "multiply_1 (Multiply)           (None, 35, 300)      0           embedding_1[0][0]                \n",
            "                                                                 attention[0][0]                  \n",
            "__________________________________________________________________________________________________\n",
            "bidirectional_2 (Bidirectional) (None, 35, 70)       94080       multiply_1[0][0]                 \n",
            "__________________________________________________________________________________________________\n",
            "bidirectional_3 (Bidirectional) (None, 70)           29680       bidirectional_2[0][0]            \n",
            "__________________________________________________________________________________________________\n",
            "dense_4 (Dense)                 (None, 64)           4544        bidirectional_3[0][0]            \n",
            "__________________________________________________________________________________________________\n",
            "dense_5 (Dense)                 (None, 1)            65          dense_4[0][0]                    \n",
            "==================================================================================================\n",
            "Total params: 6,135,329\n",
            "Trainable params: 129,629\n",
            "Non-trainable params: 6,005,700\n",
            "__________________________________________________________________________________________________\n"
          ]
        }
      ]
    },
    {
      "cell_type": "code",
      "metadata": {
        "id": "_a0UfsD6jDYB"
      },
      "source": [
        "## encode y\n",
        "dic_y_mapping = {n:label for n,label in \n",
        "                 enumerate(np.unique(y_train))}\n",
        "inverse_dic = {v:k for k,v in dic_y_mapping.items()}\n",
        "y_train = np.array([inverse_dic[y] for y in y_train])\n",
        "## train\n",
        "training = model.fit(x=X_train, y=y_train, batch_size=256, \n",
        "                     epochs=10, shuffle=True, verbose=0, \n",
        "                     validation_split=0.3)"
      ],
      "execution_count": 47,
      "outputs": []
    },
    {
      "cell_type": "code",
      "metadata": {
        "colab": {
          "base_uri": "https://localhost:8080/",
          "height": 375
        },
        "id": "nQAfHyKiJ7Q-",
        "outputId": "ec844dbc-fe86-4822-f241-4b694073c447"
      },
      "source": [
        "## plot loss and accuracy\n",
        "metrics = [k for k in training.history.keys() if (\"loss\" not in k) and (\"val\" not in k)]\n",
        "fig, ax = plt.subplots(nrows=1, ncols=2, sharey=True)\n",
        "ax[0].set(title=\"Training\")\n",
        "ax11 = ax[0].twinx()\n",
        "ax[0].plot(training.history['loss'], color='black')\n",
        "ax[0].set_xlabel('Epochs')\n",
        "ax[0].set_ylabel('Loss', color='black')\n",
        "for metric in metrics:\n",
        "    ax11.plot(training.history[metric], label=metric)\n",
        "ax11.set_ylabel(\"Score\", color='steelblue')\n",
        "ax11.legend()\n",
        "ax[1].set(title=\"Validation\")\n",
        "ax22 = ax[1].twinx()\n",
        "ax[1].plot(training.history['val_loss'], color='black')\n",
        "ax[1].set_xlabel('Epochs')\n",
        "ax[1].set_ylabel('Loss', color='black')\n",
        "for metric in metrics:\n",
        "     ax22.plot(training.history['val_'+metric], label=metric)\n",
        "ax22.set_ylabel(\"Score\", color=\"steelblue\")\n",
        "plt.savefig('/content/drive/MyDrive/NLP/Depression_Detection/modeling/loss_accuracy_LSTM.png')\n",
        "plt.show()"
      ],
      "execution_count": 48,
      "outputs": [
        {
          "output_type": "display_data",
          "data": {
            "image/png": "[encoded data removed]",
            "text/plain": [
              "<Figure size 576x396 with 4 Axes>"
            ]
          },
          "metadata": {}
        }
      ]
    },
    {
      "cell_type": "code",
      "metadata": {
        "id": "AMhHXdU6ChRw"
      },
      "source": [
        "## Save the Modle to file in the current working directory\n",
        "Bi_LSTM = \"/content/drive/MyDrive/NLP/Depression_Detection/modeling/model_LSTM.pkl\"  \n",
        "\n",
        "with open(Bi_LSTM, 'wb') as file:  \n",
        "    pickle.dump(Bi_LSTM, file)"
      ],
      "execution_count": 49,
      "outputs": []
    },
    {
      "cell_type": "code",
      "metadata": {
        "colab": {
          "base_uri": "https://localhost:8080/",
          "height": 35
        },
        "id": "BqJig4jLIVNg",
        "outputId": "2a2dc523-f378-4921-eb64-c2e94f6a8c32"
      },
      "source": [
        "## Load the Model back from file\n",
        "with open(Bi_LSTM, 'rb') as file:  \n",
        "    Bi_LSTM = pickle.load(file)\n",
        "\n",
        "Bi_LSTM"
      ],
      "execution_count": 50,
      "outputs": [
        {
          "output_type": "execute_result",
          "data": {
            "application/vnd.google.colaboratory.intrinsic+json": {
              "type": "string"
            },
            "text/plain": [
              "'/content/drive/MyDrive/NLP/Depression_Detection/modeling/model_LSTM.pkl'"
            ]
          },
          "metadata": {},
          "execution_count": 50
        }
      ]
    },
    {
      "cell_type": "code",
      "metadata": {
        "colab": {
          "base_uri": "https://localhost:8080/"
        },
        "id": "h_-4riLcRKx_",
        "outputId": "f9f5ee73-357b-484e-f3c2-9e3ad60b71cc"
      },
      "source": [
        "labels_pred = model.predict(X_test)\n",
        "labels_pred = np.round(labels_pred.flatten())\n",
        "accuracy = accuracy_score(y_test, labels_pred)\n",
        "print(\"Accuracy: %.2f%%\" % (accuracy*100))"
      ],
      "execution_count": 51,
      "outputs": [
        {
          "output_type": "stream",
          "name": "stdout",
          "text": [
            "Accuracy: 82.77%\n"
          ]
        }
      ]
    },
    {
      "cell_type": "code",
      "metadata": {
        "id": "L5Jvkl43NOro"
      },
      "source": [
        "def conf_matrix_acc2(y_true, y_pred):\n",
        "  ## Plot confusion matrix\n",
        "  cm = confusion_matrix(y_test, y_pred)\n",
        "  fig, ax = plt.subplots()\n",
        "  sns.heatmap(cm, annot=True, fmt='d', ax=ax, cmap=plt.cm.Blues, \n",
        "            cbar=False)\n",
        "  ax.set(xlabel=\"Pred\", ylabel=\"True\", xticklabels=classes, \n",
        "       yticklabels=classes, title=\"Confusion matrix\")\n",
        "  plt.yticks(rotation=0)\n",
        "  print(\"=========================================\")\n",
        "  print(f'Accuracy score is : {accuracy_score(y_true, y_pred)}')\n",
        "  print(\"=========================================\")\n",
        "  print(\"Detail:\")\n",
        "  print(skm.classification_report(y_test, y_pred))"
      ],
      "execution_count": 52,
      "outputs": []
    },
    {
      "cell_type": "code",
      "metadata": {
        "colab": {
          "base_uri": "https://localhost:8080/",
          "height": 606
        },
        "id": "XKxWSkvQRshY",
        "outputId": "fc98e1ff-3a96-4931-a0d9-4748172d07d1"
      },
      "source": [
        "conf_matrix_acc2(y_test, labels_pred)"
      ],
      "execution_count": 53,
      "outputs": [
        {
          "output_type": "stream",
          "name": "stdout",
          "text": [
            "=========================================\n",
            "Accuracy score is : 0.8276736649288432\n",
            "=========================================\n",
            "Detail:\n",
            "              precision    recall  f1-score   support\n",
            "\n",
            "           0       0.81      0.87      0.84      3634\n",
            "           1       0.85      0.79      0.82      3463\n",
            "\n",
            "    accuracy                           0.83      7097\n",
            "   macro avg       0.83      0.83      0.83      7097\n",
            "weighted avg       0.83      0.83      0.83      7097\n",
            "\n"
          ]
        },
        {
          "output_type": "display_data",
          "data": {
            "image/png": "[encoded data removed]",
            "text/plain": [
              "<Figure size 576x396 with 1 Axes>"
            ]
          },
          "metadata": {}
        }
      ]
    },
    {
      "cell_type": "code",
      "metadata": {
        "id": "w-X8jLwuSRsf"
      },
      "source": [
        "# classes = np.unique(y_test)\n",
        "# y_test_array = pd.get_dummies(y_test, drop_first=False).values\n",
        "# predicted_prob = model.predict_on_batch(X_test)"
      ],
      "execution_count": 55,
      "outputs": []
    },
    {
      "cell_type": "code",
      "metadata": {
        "id": "aLkeYsBrNP7F"
      },
      "source": [
        "# ## Plot ROC and precision-recall curve\n",
        "# def roc_precision_auc2():\n",
        "#   fig, ax = plt.subplots(nrows=1, ncols=2)\n",
        "#   ## Plot roc\n",
        "#   for i in range(len(classes)):\n",
        "#       fpr, tpr, thresholds = skm.roc_curve(y_test_array[:,i],  \n",
        "#                             predicted_prob[:,i])\n",
        "#       ax[0].plot(fpr, tpr, lw=3, \n",
        "#                 label='{0} (area={1:0.2f})'.format(classes[i], \n",
        "#                                 skm.auc(fpr, tpr))\n",
        "#                  )\n",
        "#   ax[0].plot([0,1], [0,1], color='navy', lw=3, linestyle='--')\n",
        "#   ax[0].set(xlim=[-0.05,1.0], ylim=[0.0,1.05], \n",
        "#             xlabel='False Positive Rate', \n",
        "#             ylabel=\"True Positive Rate (Recall)\", \n",
        "#             title=\"Receiver operating characteristic\")\n",
        "#   ax[0].legend(loc=\"lower right\")\n",
        "#   ax[0].grid(True)\n",
        "\n",
        "#   ## Plot precision-recall curve\n",
        "#   for i in range(len(classes)):\n",
        "#     precision, recall, thresholds = skm.precision_recall_curve(\n",
        "#                 y_test_array[:,i], probs[:,i])\n",
        "#     ax[1].plot(recall, precision, lw=3, \n",
        "#                label='{0} (area={1:0.2f})'.format(classes[i], \n",
        "#                                   skm.auc(recall, precision))\n",
        "#               )\n",
        "#   ax[1].set(xlim=[0.0,1.05], ylim=[0.0,1.05], xlabel='Recall', \n",
        "#             ylabel=\"Precision\", title=\"Precision-Recall curve\")\n",
        "#   ax[1].legend(loc=\"best\")\n",
        "#   ax[1].grid(True)\n",
        "#   plt.show()\n",
        "#   #plt.savefig('/content/drive/MyDrive/NLP/Depression_Detection/modeling/ROC_Precision_LR.png')\n",
        "#   #plt.savefig('/content/drive/MyDrive/NLP/Depression_Detection/modeling/ROC_Precision_LSTM.png')  \n",
        "#   ## AUC score\n",
        "#   print(f'AUC score is : {skm.roc_auc_score(y_test, probs[:,1])}')"
      ],
      "execution_count": 59,
      "outputs": []
    }
  ]
}